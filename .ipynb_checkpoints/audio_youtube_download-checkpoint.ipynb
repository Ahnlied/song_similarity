{
 "cells": [
  {
   "cell_type": "code",
   "execution_count": 1,
   "id": "2b85d4c2",
   "metadata": {},
   "outputs": [],
   "source": [
    "import os\n",
    "import ffmpy\n",
    "from pytube import YouTube\n",
    "from pytube import Search\n",
    "import re\n",
    "\n",
    "from youtube_search import YoutubeSearch"
   ]
  },
  {
   "cell_type": "code",
   "execution_count": 2,
   "id": "c51f40b2",
   "metadata": {},
   "outputs": [],
   "source": [
    "inputdir = '/home/jacs/Documents/DataScience/Personal/song_similarity/'"
   ]
  },
  {
   "cell_type": "code",
   "execution_count": 3,
   "id": "d6966afd",
   "metadata": {},
   "outputs": [],
   "source": [
    "def obtain_youtube_link(busqueda, maxim_results):\n",
    "    results = YoutubeSearch(busqueda, max_results=maxim_results).to_dict()\n",
    "    linkos_kun = []\n",
    "    for v in results:\n",
    "        linkos_kun.append('https://www.youtube.com' + v['url_suffix'])\n",
    "    return linkos_kun"
   ]
  },
  {
   "cell_type": "code",
   "execution_count": 4,
   "id": "70ae725e",
   "metadata": {},
   "outputs": [],
   "source": [
    "def delete_spaces(selected_video):\n",
    "    title2 = selected_video.title\n",
    "    title2 = re.sub(\"(\\s)\",\"_\",\" \".join(re.sub(\"(-)|(&)|(\\[)|(\\])\",\"\",title2).split()))\n",
    "    return title2\n",
    "#re.sub(\"(\\s)|(-)|(&)|(\\[)|(\\])\",\"_\",title, count=0, flags=0)"
   ]
  },
  {
   "cell_type": "code",
   "execution_count": 5,
   "id": "1669fe9b",
   "metadata": {},
   "outputs": [],
   "source": [
    "def remover_audio(title):\n",
    "    os.remove(title+'.wav')"
   ]
  },
  {
   "cell_type": "code",
   "execution_count": 11,
   "id": "31f8a4c2",
   "metadata": {},
   "outputs": [],
   "source": [
    "links = obtain_youtube_link('trumpet solo',10)\n",
    "selected_video = YouTube(links[1])"
   ]
  },
  {
   "cell_type": "code",
   "execution_count": 12,
   "id": "ca0bf371",
   "metadata": {},
   "outputs": [
    {
     "data": {
      "text/plain": [
       "['https://www.youtube.com/watch?v=2nPwkb9ZyPQ',\n",
       " 'https://www.youtube.com/watch?v=Mfl70qA2wxQ',\n",
       " 'https://www.youtube.com/watch?v=ATajmT5BD6M',\n",
       " 'https://www.youtube.com/watch?v=Cy5U-E_4E5E',\n",
       " 'https://www.youtube.com/watch?v=d70fiI2Mn_A',\n",
       " 'https://www.youtube.com/watch?v=B1eyZAedhY4',\n",
       " 'https://www.youtube.com/watch?v=_ByGpqf1ldI',\n",
       " 'https://www.youtube.com/watch?v=E5Hnnf2M_VM',\n",
       " 'https://www.youtube.com/watch?v=B-8kLo0CQPk',\n",
       " 'https://www.youtube.com/watch?v=JsNm2bYl7PQ']"
      ]
     },
     "execution_count": 12,
     "metadata": {},
     "output_type": "execute_result"
    }
   ],
   "source": [
    "links"
   ]
  },
  {
   "cell_type": "code",
   "execution_count": 13,
   "id": "b4da5f8f",
   "metadata": {},
   "outputs": [
    {
     "data": {
      "text/plain": [
       "'/home/jacs/Documents/DataScience/Personal/song_similarity/What_if_Purple_Rain_had_a_trumpet_solo.wav'"
      ]
     },
     "execution_count": 13,
     "metadata": {},
     "output_type": "execute_result"
    }
   ],
   "source": [
    "audio = selected_video.streams.filter(only_audio=True, file_extension='mp4').first()\n",
    "title2 = delete_spaces(selected_video)\n",
    "audio.download(filename=title2+'.wav')"
   ]
  },
  {
   "cell_type": "code",
   "execution_count": null,
   "id": "861447c6",
   "metadata": {},
   "outputs": [],
   "source": [
    "remover_audio(title2)"
   ]
  },
  {
   "cell_type": "code",
   "execution_count": null,
   "id": "3167cbac",
   "metadata": {},
   "outputs": [],
   "source": [
    "def from_mp4_to_wav(filename, inputdir):\n",
    "    for filename in os.listdir(inputdir):\n",
    "        actual_filename = filename[:-4]\n",
    "        if(filename.endswith(\".mp4\")):\n",
    "            os.system('ffmpeg -i {} -acodec pcm_s16le -ar 16000 {}.wav'.format(filename, actual_filename))\n",
    "        else:\n",
    "            continue"
   ]
  },
  {
   "cell_type": "code",
   "execution_count": null,
   "id": "6d7fd371",
   "metadata": {},
   "outputs": [],
   "source": []
  }
 ],
 "metadata": {
  "kernelspec": {
   "display_name": "Python(jorgenv)",
   "language": "python",
   "name": "jorgenv"
  },
  "language_info": {
   "codemirror_mode": {
    "name": "ipython",
    "version": 3
   },
   "file_extension": ".py",
   "mimetype": "text/x-python",
   "name": "python",
   "nbconvert_exporter": "python",
   "pygments_lexer": "ipython3",
   "version": "3.10.9"
  }
 },
 "nbformat": 4,
 "nbformat_minor": 5
}
