{
 "cells": [
  {
   "cell_type": "code",
   "execution_count": 1,
   "id": "ce6fe744",
   "metadata": {},
   "outputs": [],
   "source": [
    "# for data transformation\n",
    "import numpy as np\n",
    "# for visualizing the data\n",
    "import matplotlib.pyplot as plt\n",
    "# for opening the media file\n",
    "import scipy.io.wavfile as wavfile\n",
    "\n",
    "import scipy\n",
    "# for dataframe manipulation\n",
    "import pandas as pd"
   ]
  },
  {
   "cell_type": "code",
   "execution_count": 2,
   "id": "7341c149",
   "metadata": {},
   "outputs": [
    {
     "ename": "ValueError",
     "evalue": "File format b'\\x00\\x00\\x00\\x18' not understood. Only 'RIFF' and 'RIFX' supported.",
     "output_type": "error",
     "traceback": [
      "\u001b[0;31m---------------------------------------------------------------------------\u001b[0m",
      "\u001b[0;31mValueError\u001b[0m                                Traceback (most recent call last)",
      "Input \u001b[0;32mIn [2]\u001b[0m, in \u001b[0;36m<module>\u001b[0;34m\u001b[0m\n\u001b[0;32m----> 1\u001b[0m Fs, audio \u001b[38;5;241m=\u001b[39m \u001b[43mwavfile\u001b[49m\u001b[38;5;241;43m.\u001b[39;49m\u001b[43mread\u001b[49m\u001b[43m(\u001b[49m\u001b[38;5;124;43m'\u001b[39;49m\u001b[38;5;124;43mThe_Most_Beautiful_Trumpet_Solo.wav\u001b[39;49m\u001b[38;5;124;43m'\u001b[39;49m\u001b[43m)\u001b[49m\n",
      "File \u001b[0;32m~/jorgenv/lib/python3.10/site-packages/scipy/io/wavfile.py:650\u001b[0m, in \u001b[0;36mread\u001b[0;34m(filename, mmap)\u001b[0m\n\u001b[1;32m    647\u001b[0m     fid \u001b[38;5;241m=\u001b[39m \u001b[38;5;28mopen\u001b[39m(filename, \u001b[38;5;124m'\u001b[39m\u001b[38;5;124mrb\u001b[39m\u001b[38;5;124m'\u001b[39m)\n\u001b[1;32m    649\u001b[0m \u001b[38;5;28;01mtry\u001b[39;00m:\n\u001b[0;32m--> 650\u001b[0m     file_size, is_big_endian \u001b[38;5;241m=\u001b[39m \u001b[43m_read_riff_chunk\u001b[49m\u001b[43m(\u001b[49m\u001b[43mfid\u001b[49m\u001b[43m)\u001b[49m\n\u001b[1;32m    651\u001b[0m     fmt_chunk_received \u001b[38;5;241m=\u001b[39m \u001b[38;5;28;01mFalse\u001b[39;00m\n\u001b[1;32m    652\u001b[0m     data_chunk_received \u001b[38;5;241m=\u001b[39m \u001b[38;5;28;01mFalse\u001b[39;00m\n",
      "File \u001b[0;32m~/jorgenv/lib/python3.10/site-packages/scipy/io/wavfile.py:521\u001b[0m, in \u001b[0;36m_read_riff_chunk\u001b[0;34m(fid)\u001b[0m\n\u001b[1;32m    518\u001b[0m     fmt \u001b[38;5;241m=\u001b[39m \u001b[38;5;124m'\u001b[39m\u001b[38;5;124m>I\u001b[39m\u001b[38;5;124m'\u001b[39m\n\u001b[1;32m    519\u001b[0m \u001b[38;5;28;01melse\u001b[39;00m:\n\u001b[1;32m    520\u001b[0m     \u001b[38;5;66;03m# There are also .wav files with \"FFIR\" or \"XFIR\" signatures?\u001b[39;00m\n\u001b[0;32m--> 521\u001b[0m     \u001b[38;5;28;01mraise\u001b[39;00m \u001b[38;5;167;01mValueError\u001b[39;00m(\u001b[38;5;124mf\u001b[39m\u001b[38;5;124m\"\u001b[39m\u001b[38;5;124mFile format \u001b[39m\u001b[38;5;132;01m{\u001b[39;00m\u001b[38;5;28mrepr\u001b[39m(str1)\u001b[38;5;132;01m}\u001b[39;00m\u001b[38;5;124m not understood. Only \u001b[39m\u001b[38;5;124m\"\u001b[39m\n\u001b[1;32m    522\u001b[0m                      \u001b[38;5;124m\"\u001b[39m\u001b[38;5;124m'\u001b[39m\u001b[38;5;124mRIFF\u001b[39m\u001b[38;5;124m'\u001b[39m\u001b[38;5;124m and \u001b[39m\u001b[38;5;124m'\u001b[39m\u001b[38;5;124mRIFX\u001b[39m\u001b[38;5;124m'\u001b[39m\u001b[38;5;124m supported.\u001b[39m\u001b[38;5;124m\"\u001b[39m)\n\u001b[1;32m    524\u001b[0m \u001b[38;5;66;03m# Size of entire file\u001b[39;00m\n\u001b[1;32m    525\u001b[0m file_size \u001b[38;5;241m=\u001b[39m struct\u001b[38;5;241m.\u001b[39munpack(fmt, fid\u001b[38;5;241m.\u001b[39mread(\u001b[38;5;241m4\u001b[39m))[\u001b[38;5;241m0\u001b[39m] \u001b[38;5;241m+\u001b[39m \u001b[38;5;241m8\u001b[39m\n",
      "\u001b[0;31mValueError\u001b[0m: File format b'\\x00\\x00\\x00\\x18' not understood. Only 'RIFF' and 'RIFX' supported."
     ]
    }
   ],
   "source": [
    "Fs, audio = wavfile.read('The_Most_Beautiful_Trumpet_Solo.wav')"
   ]
  },
  {
   "cell_type": "code",
   "execution_count": 2,
   "id": "509b46d1",
   "metadata": {},
   "outputs": [],
   "source": [
    "#top_2_idx = np.argsort(sp)[-40:]\n",
    "#listo_freq = [freq[i] for i in top_2_idx]"
   ]
  },
  {
   "cell_type": "code",
   "execution_count": 3,
   "id": "9fc6aff4",
   "metadata": {},
   "outputs": [],
   "source": [
    "# Creates different chunks of data from a signal\n",
    "# Includes half the past chunk\n",
    "# Say, you have a 1s signal, you want windows of 0.25s \n",
    "# with this methodology you will have each window that includes half of the past window\n",
    "\n",
    "def chunks(xs, n):\n",
    "    # xs: signal\n",
    "    # n: times you want to split the signal\n",
    "    # len(return): n(even): 2n - 1\n",
    "    #            : n(odd): 2n +1\n",
    "    ms = int(len(xs)/n)\n",
    "    return list(xs[i-int(ms/2):i+int(ms/2)] for i in range(int(ms/2), len(xs), int(ms/2)))\n",
    "#    return list(xs[i:i+ms] for i in range(0, len(xs), ms))"
   ]
  },
  {
   "cell_type": "code",
   "execution_count": 4,
   "id": "496de1ce",
   "metadata": {},
   "outputs": [],
   "source": [
    "def suma_repetidos(freq_int, sp):\n",
    "    sp_int = []\n",
    "    frequ_int = []\n",
    "    for i in range(1,len(freq_int)):\n",
    "        frequ = int(freq_int[i-1])\n",
    "        frequ_1 = int(freq_int[i])\n",
    "        try:\n",
    "            frequ_2 = int(freq_int[i+1])\n",
    "        except:\n",
    "            frequ_2 = int(freq_int[-1])\n",
    "        if i == 1:\n",
    "            frequ_int.append(frequ)\n",
    "        if frequ == frequ_1:\n",
    "            try:\n",
    "                sp_new = sp_int[-1] + sp[i+1]\n",
    "                sp_int.pop()\n",
    "                sp_int.append(sp_new)\n",
    "#                print(\"blop\")\n",
    "            except:\n",
    "                sp_new = sp[i] + sp[i+1]\n",
    "                sp_int.append(sp_new)\n",
    "#                print(\"blopo\")\n",
    "            if frequ_int[-1] != frequ_1:\n",
    "                frequ_int.append(frequ_1)\n",
    "        else:\n",
    "            sp_new = sp[i]\n",
    "            sp_int.append(sp_new)\n",
    "            frequ_int.append(frequ_1)\n",
    "#            print(\"plopo\")\n",
    "    return frequ_int, sp_int"
   ]
  },
  {
   "cell_type": "code",
   "execution_count": 5,
   "id": "bd344ce8",
   "metadata": {},
   "outputs": [],
   "source": [
    "def exist_or_zero(freq_new,sp,freq_final):\n",
    "    sp_final = []\n",
    "    maxxo = max(sp)\n",
    "    for freq in freq_final:\n",
    "        if freq in freq_new:\n",
    "            spe = sp[list(freq_new).index(freq)]\n",
    "            sp_final.append(spe/maxxo)\n",
    "        else:\n",
    "            sp_final.append(0)\n",
    "    return sp_final"
   ]
  },
  {
   "cell_type": "code",
   "execution_count": 6,
   "id": "4a7ceccd",
   "metadata": {},
   "outputs": [],
   "source": [
    "def extract_peaks_and_freqs(aud, Fs):\n",
    "    sp = scipy.fft.fft(aud)\n",
    "    freq = scipy.fft.fftfreq(len(aud),Fs)\n",
    "    freq_sci= scipy.signal.find_peaks(sp)[0]\n",
    "    sp_sci = scipy.signal.peak_prominences(sp, peaks=freq_sci)[0]\n",
    "    freq_gaps = np.arange(0,6750,1)\n",
    "    sp_final = exist_or_zero(freq_sci, sp_sci, freq_gaps)\n",
    "    freq_final, _ = scipy.signal.find_peaks(sp_final)\n",
    "    pikos = [sp_final[freq_final[i]] for i in range(0,len(freq_final))]\n",
    "    sp_sorted = sorted(pikos, reverse= True)\n",
    "    freq_sorted=[freq_final[pikos.index(pikoso)] for pikoso in sp_sorted]\n",
    "    return sp_sorted, freq_sorted, sp_final, freq_final"
   ]
  },
  {
   "cell_type": "code",
   "execution_count": 7,
   "id": "a4fc3de8",
   "metadata": {},
   "outputs": [],
   "source": [
    "def final_data_collection(freq_sorted, pikos_sorted, n, m, note_played):\n",
    "    df_final = pd.DataFrame({'peak_1': [], 'peak_2': [], 'Magnitude difference': [],'instrument': m, 'note_played': []})\n",
    "    frequs_sp = []\n",
    "    for i in range(0,len(freq_sorted[:n])):\n",
    "        freq_1, sp_1 = freq_sorted[i], pikos_sorted[i]\n",
    "        frequs_sp.append((freq_1, sp_1))\n",
    "        for j in range(0,len(freq_sorted[:n])):\n",
    "            freq_2, sp_2 = freq_sorted[j], pikos_sorted[j]\n",
    "            if (freq_2, sp_2) in frequs_sp:\n",
    "                continue\n",
    "            else:\n",
    "                distance = np.sqrt((freq_2 - freq_1)**2 + (sp_2 - sp_1)**2)\n",
    "                df_iteration = pd.DataFrame({'peak_1':[(freq_1, sp_1)], 'peak_2':[(freq_2, sp_2)], 'Magnitude difference': [distance] ,'instrument': 1, 'note_played': [note_played]})\n",
    "                df_final = df_final.append(df_iteration)\n",
    "    return df_final"
   ]
  },
  {
   "cell_type": "code",
   "execution_count": 8,
   "id": "a87aa2cf",
   "metadata": {},
   "outputs": [],
   "source": [
    "common_path = '/home/jacs/Documents/DataScience/Personal/song_similarity_audio/TinySOL/'\n",
    "df_into = pd.read_csv(common_path+'TinySOL_metadata.csv')\n",
    "df_into= df_into[df_into['Needed digital retuning']]\n",
    "instruments = df_into['Instrument (in full)'].unique()"
   ]
  },
  {
   "cell_type": "code",
   "execution_count": 9,
   "id": "2d4aa572",
   "metadata": {},
   "outputs": [
    {
     "data": {
      "text/plain": [
       "array(['Bass Tuba', 'French Horn', 'Trombone', 'Trumpet in C',\n",
       "       'Accordion', 'Cello', 'Contrabass', 'Viola', 'Violin',\n",
       "       'Alto Saxophone', 'Bassoon', 'Clarinet in Bb', 'Flute', 'Oboe'],\n",
       "      dtype=object)"
      ]
     },
     "execution_count": 9,
     "metadata": {},
     "output_type": "execute_result"
    }
   ],
   "source": [
    "instruments"
   ]
  },
  {
   "cell_type": "code",
   "execution_count": 10,
   "id": "1826d800",
   "metadata": {},
   "outputs": [],
   "source": [
    "instruments_test = ['Trombone', 'Trumpet in C']\n",
    "outputs = ['database_trombone_10_peaks', 'database_trumpet_10_peaks']"
   ]
  },
  {
   "cell_type": "code",
   "execution_count": 19,
   "id": "aed1bd17",
   "metadata": {},
   "outputs": [
    {
     "name": "stdout",
     "output_type": "stream",
     "text": [
      "length = 6.398662131519274s\n",
      "anti-plop\n"
     ]
    },
    {
     "name": "stderr",
     "output_type": "stream",
     "text": [
      "/home/jacs/jorgenv/lib/python3.10/site-packages/scipy/signal/_peak_finding.py:265: ComplexWarning: Casting complex values to real discards the imaginary part\n",
      "  value = np.asarray(value, order='C', dtype=np.float64)\n"
     ]
    },
    {
     "name": "stdout",
     "output_type": "stream",
     "text": [
      "0\n"
     ]
    },
    {
     "name": "stderr",
     "output_type": "stream",
     "text": [
      "/tmp/ipykernel_9926/264210666.py:14: FutureWarning: The frame.append method is deprecated and will be removed from pandas in a future version. Use pandas.concat instead.\n",
      "  df_final = df_final.append(df_iteration)\n",
      "/tmp/ipykernel_9926/264210666.py:14: FutureWarning: The frame.append method is deprecated and will be removed from pandas in a future version. Use pandas.concat instead.\n",
      "  df_final = df_final.append(df_iteration)\n",
      "/tmp/ipykernel_9926/264210666.py:14: FutureWarning: The frame.append method is deprecated and will be removed from pandas in a future version. Use pandas.concat instead.\n",
      "  df_final = df_final.append(df_iteration)\n",
      "/tmp/ipykernel_9926/264210666.py:14: FutureWarning: The frame.append method is deprecated and will be removed from pandas in a future version. Use pandas.concat instead.\n",
      "  df_final = df_final.append(df_iteration)\n",
      "/tmp/ipykernel_9926/264210666.py:14: FutureWarning: The frame.append method is deprecated and will be removed from pandas in a future version. Use pandas.concat instead.\n",
      "  df_final = df_final.append(df_iteration)\n",
      "/tmp/ipykernel_9926/264210666.py:14: FutureWarning: The frame.append method is deprecated and will be removed from pandas in a future version. Use pandas.concat instead.\n",
      "  df_final = df_final.append(df_iteration)\n",
      "/tmp/ipykernel_9926/264210666.py:14: FutureWarning: The frame.append method is deprecated and will be removed from pandas in a future version. Use pandas.concat instead.\n",
      "  df_final = df_final.append(df_iteration)\n",
      "/tmp/ipykernel_9926/264210666.py:14: FutureWarning: The frame.append method is deprecated and will be removed from pandas in a future version. Use pandas.concat instead.\n",
      "  df_final = df_final.append(df_iteration)\n",
      "/tmp/ipykernel_9926/264210666.py:14: FutureWarning: The frame.append method is deprecated and will be removed from pandas in a future version. Use pandas.concat instead.\n",
      "  df_final = df_final.append(df_iteration)\n",
      "/tmp/ipykernel_9926/264210666.py:14: FutureWarning: The frame.append method is deprecated and will be removed from pandas in a future version. Use pandas.concat instead.\n",
      "  df_final = df_final.append(df_iteration)\n",
      "/tmp/ipykernel_9926/264210666.py:14: FutureWarning: The frame.append method is deprecated and will be removed from pandas in a future version. Use pandas.concat instead.\n",
      "  df_final = df_final.append(df_iteration)\n",
      "/tmp/ipykernel_9926/264210666.py:14: FutureWarning: The frame.append method is deprecated and will be removed from pandas in a future version. Use pandas.concat instead.\n",
      "  df_final = df_final.append(df_iteration)\n",
      "/tmp/ipykernel_9926/264210666.py:14: FutureWarning: The frame.append method is deprecated and will be removed from pandas in a future version. Use pandas.concat instead.\n",
      "  df_final = df_final.append(df_iteration)\n",
      "/tmp/ipykernel_9926/264210666.py:14: FutureWarning: The frame.append method is deprecated and will be removed from pandas in a future version. Use pandas.concat instead.\n",
      "  df_final = df_final.append(df_iteration)\n",
      "/tmp/ipykernel_9926/264210666.py:14: FutureWarning: The frame.append method is deprecated and will be removed from pandas in a future version. Use pandas.concat instead.\n",
      "  df_final = df_final.append(df_iteration)\n",
      "/tmp/ipykernel_9926/264210666.py:14: FutureWarning: The frame.append method is deprecated and will be removed from pandas in a future version. Use pandas.concat instead.\n",
      "  df_final = df_final.append(df_iteration)\n",
      "/tmp/ipykernel_9926/264210666.py:14: FutureWarning: The frame.append method is deprecated and will be removed from pandas in a future version. Use pandas.concat instead.\n",
      "  df_final = df_final.append(df_iteration)\n",
      "/tmp/ipykernel_9926/264210666.py:14: FutureWarning: The frame.append method is deprecated and will be removed from pandas in a future version. Use pandas.concat instead.\n",
      "  df_final = df_final.append(df_iteration)\n",
      "/tmp/ipykernel_9926/264210666.py:14: FutureWarning: The frame.append method is deprecated and will be removed from pandas in a future version. Use pandas.concat instead.\n",
      "  df_final = df_final.append(df_iteration)\n",
      "/tmp/ipykernel_9926/264210666.py:14: FutureWarning: The frame.append method is deprecated and will be removed from pandas in a future version. Use pandas.concat instead.\n",
      "  df_final = df_final.append(df_iteration)\n",
      "/tmp/ipykernel_9926/264210666.py:14: FutureWarning: The frame.append method is deprecated and will be removed from pandas in a future version. Use pandas.concat instead.\n",
      "  df_final = df_final.append(df_iteration)\n",
      "/tmp/ipykernel_9926/264210666.py:14: FutureWarning: The frame.append method is deprecated and will be removed from pandas in a future version. Use pandas.concat instead.\n",
      "  df_final = df_final.append(df_iteration)\n",
      "/tmp/ipykernel_9926/264210666.py:14: FutureWarning: The frame.append method is deprecated and will be removed from pandas in a future version. Use pandas.concat instead.\n",
      "  df_final = df_final.append(df_iteration)\n",
      "/tmp/ipykernel_9926/264210666.py:14: FutureWarning: The frame.append method is deprecated and will be removed from pandas in a future version. Use pandas.concat instead.\n",
      "  df_final = df_final.append(df_iteration)\n",
      "/tmp/ipykernel_9926/264210666.py:14: FutureWarning: The frame.append method is deprecated and will be removed from pandas in a future version. Use pandas.concat instead.\n",
      "  df_final = df_final.append(df_iteration)\n",
      "/tmp/ipykernel_9926/264210666.py:14: FutureWarning: The frame.append method is deprecated and will be removed from pandas in a future version. Use pandas.concat instead.\n",
      "  df_final = df_final.append(df_iteration)\n",
      "/tmp/ipykernel_9926/264210666.py:14: FutureWarning: The frame.append method is deprecated and will be removed from pandas in a future version. Use pandas.concat instead.\n",
      "  df_final = df_final.append(df_iteration)\n",
      "/tmp/ipykernel_9926/264210666.py:14: FutureWarning: The frame.append method is deprecated and will be removed from pandas in a future version. Use pandas.concat instead.\n",
      "  df_final = df_final.append(df_iteration)\n",
      "/tmp/ipykernel_9926/264210666.py:14: FutureWarning: The frame.append method is deprecated and will be removed from pandas in a future version. Use pandas.concat instead.\n",
      "  df_final = df_final.append(df_iteration)\n",
      "/tmp/ipykernel_9926/264210666.py:14: FutureWarning: The frame.append method is deprecated and will be removed from pandas in a future version. Use pandas.concat instead.\n",
      "  df_final = df_final.append(df_iteration)\n",
      "/tmp/ipykernel_9926/264210666.py:14: FutureWarning: The frame.append method is deprecated and will be removed from pandas in a future version. Use pandas.concat instead.\n",
      "  df_final = df_final.append(df_iteration)\n",
      "/tmp/ipykernel_9926/264210666.py:14: FutureWarning: The frame.append method is deprecated and will be removed from pandas in a future version. Use pandas.concat instead.\n",
      "  df_final = df_final.append(df_iteration)\n",
      "/tmp/ipykernel_9926/264210666.py:14: FutureWarning: The frame.append method is deprecated and will be removed from pandas in a future version. Use pandas.concat instead.\n",
      "  df_final = df_final.append(df_iteration)\n",
      "/tmp/ipykernel_9926/264210666.py:14: FutureWarning: The frame.append method is deprecated and will be removed from pandas in a future version. Use pandas.concat instead.\n",
      "  df_final = df_final.append(df_iteration)\n",
      "/tmp/ipykernel_9926/264210666.py:14: FutureWarning: The frame.append method is deprecated and will be removed from pandas in a future version. Use pandas.concat instead.\n",
      "  df_final = df_final.append(df_iteration)\n",
      "/tmp/ipykernel_9926/264210666.py:14: FutureWarning: The frame.append method is deprecated and will be removed from pandas in a future version. Use pandas.concat instead.\n",
      "  df_final = df_final.append(df_iteration)\n",
      "/tmp/ipykernel_9926/264210666.py:14: FutureWarning: The frame.append method is deprecated and will be removed from pandas in a future version. Use pandas.concat instead.\n",
      "  df_final = df_final.append(df_iteration)\n",
      "/tmp/ipykernel_9926/264210666.py:14: FutureWarning: The frame.append method is deprecated and will be removed from pandas in a future version. Use pandas.concat instead.\n",
      "  df_final = df_final.append(df_iteration)\n",
      "/tmp/ipykernel_9926/264210666.py:14: FutureWarning: The frame.append method is deprecated and will be removed from pandas in a future version. Use pandas.concat instead.\n",
      "  df_final = df_final.append(df_iteration)\n",
      "/tmp/ipykernel_9926/264210666.py:14: FutureWarning: The frame.append method is deprecated and will be removed from pandas in a future version. Use pandas.concat instead.\n",
      "  df_final = df_final.append(df_iteration)\n",
      "/tmp/ipykernel_9926/264210666.py:14: FutureWarning: The frame.append method is deprecated and will be removed from pandas in a future version. Use pandas.concat instead.\n",
      "  df_final = df_final.append(df_iteration)\n",
      "/tmp/ipykernel_9926/264210666.py:14: FutureWarning: The frame.append method is deprecated and will be removed from pandas in a future version. Use pandas.concat instead.\n",
      "  df_final = df_final.append(df_iteration)\n"
     ]
    },
    {
     "name": "stderr",
     "output_type": "stream",
     "text": [
      "/tmp/ipykernel_9926/264210666.py:14: FutureWarning: The frame.append method is deprecated and will be removed from pandas in a future version. Use pandas.concat instead.\n",
      "  df_final = df_final.append(df_iteration)\n",
      "/tmp/ipykernel_9926/3328156170.py:30: FutureWarning: The frame.append method is deprecated and will be removed from pandas in a future version. Use pandas.concat instead.\n",
      "  df_final = df_final.append(df_final_2).reset_index(drop=True)\n",
      "/home/jacs/jorgenv/lib/python3.10/site-packages/scipy/signal/_peak_finding.py:265: ComplexWarning: Casting complex values to real discards the imaginary part\n",
      "  value = np.asarray(value, order='C', dtype=np.float64)\n"
     ]
    },
    {
     "name": "stdout",
     "output_type": "stream",
     "text": [
      "anti-plop\n"
     ]
    },
    {
     "ename": "KeyboardInterrupt",
     "evalue": "",
     "output_type": "error",
     "traceback": [
      "\u001b[0;31m---------------------------------------------------------------------------\u001b[0m",
      "\u001b[0;31mKeyboardInterrupt\u001b[0m                         Traceback (most recent call last)",
      "Input \u001b[0;32mIn [19]\u001b[0m, in \u001b[0;36m<module>\u001b[0;34m\u001b[0m\n\u001b[1;32m     24\u001b[0m     aud \u001b[38;5;241m=\u001b[39m aud[:]\n\u001b[1;32m     25\u001b[0m     \u001b[38;5;28mprint\u001b[39m(\u001b[38;5;124m'\u001b[39m\u001b[38;5;124manti-plop\u001b[39m\u001b[38;5;124m'\u001b[39m)\n\u001b[0;32m---> 26\u001b[0m pikos_sorted, freq_sorted, sp_final, peaks  \u001b[38;5;241m=\u001b[39m \u001b[43mextract_peaks_and_freqs\u001b[49m\u001b[43m(\u001b[49m\u001b[43maud\u001b[49m\u001b[43m,\u001b[49m\u001b[43m \u001b[49m\u001b[43mFs\u001b[49m\u001b[43m)\u001b[49m\n\u001b[1;32m     27\u001b[0m \u001b[38;5;28mprint\u001b[39m(i)\n\u001b[1;32m     28\u001b[0m i\u001b[38;5;241m+\u001b[39m\u001b[38;5;241m=\u001b[39m\u001b[38;5;241m1\u001b[39m\n",
      "Input \u001b[0;32mIn [14]\u001b[0m, in \u001b[0;36mextract_peaks_and_freqs\u001b[0;34m(aud, Fs)\u001b[0m\n\u001b[1;32m      5\u001b[0m sp_sci \u001b[38;5;241m=\u001b[39m scipy\u001b[38;5;241m.\u001b[39msignal\u001b[38;5;241m.\u001b[39mpeak_prominences(sp, peaks\u001b[38;5;241m=\u001b[39mfreq_sci)[\u001b[38;5;241m0\u001b[39m]\n\u001b[1;32m      6\u001b[0m freq_gaps \u001b[38;5;241m=\u001b[39m np\u001b[38;5;241m.\u001b[39marange(\u001b[38;5;241m0\u001b[39m,\u001b[38;5;241m6750\u001b[39m,\u001b[38;5;241m1\u001b[39m)\n\u001b[0;32m----> 7\u001b[0m sp_final \u001b[38;5;241m=\u001b[39m \u001b[43mexist_or_zero\u001b[49m\u001b[43m(\u001b[49m\u001b[43mfreq_sci\u001b[49m\u001b[43m,\u001b[49m\u001b[43m \u001b[49m\u001b[43msp_sci\u001b[49m\u001b[43m,\u001b[49m\u001b[43m \u001b[49m\u001b[43mfreq_gaps\u001b[49m\u001b[43m)\u001b[49m\n\u001b[1;32m      8\u001b[0m freq_final, _ \u001b[38;5;241m=\u001b[39m scipy\u001b[38;5;241m.\u001b[39msignal\u001b[38;5;241m.\u001b[39mfind_peaks(sp_final)\n\u001b[1;32m      9\u001b[0m pikos \u001b[38;5;241m=\u001b[39m [sp_final[freq_final[i]] \u001b[38;5;28;01mfor\u001b[39;00m i \u001b[38;5;129;01min\u001b[39;00m \u001b[38;5;28mrange\u001b[39m(\u001b[38;5;241m0\u001b[39m,\u001b[38;5;28mlen\u001b[39m(freq_final))]\n",
      "Input \u001b[0;32mIn [13]\u001b[0m, in \u001b[0;36mexist_or_zero\u001b[0;34m(freq_new, sp, freq_final)\u001b[0m\n\u001b[1;32m      4\u001b[0m \u001b[38;5;28;01mfor\u001b[39;00m freq \u001b[38;5;129;01min\u001b[39;00m freq_final:\n\u001b[1;32m      5\u001b[0m     \u001b[38;5;28;01mif\u001b[39;00m freq \u001b[38;5;129;01min\u001b[39;00m freq_new:\n\u001b[0;32m----> 6\u001b[0m         spe \u001b[38;5;241m=\u001b[39m sp[\u001b[38;5;28;43mlist\u001b[39;49m\u001b[43m(\u001b[49m\u001b[43mfreq_new\u001b[49m\u001b[43m)\u001b[49m\u001b[38;5;241m.\u001b[39mindex(freq)]\n\u001b[1;32m      7\u001b[0m         sp_final\u001b[38;5;241m.\u001b[39mappend(spe\u001b[38;5;241m/\u001b[39mmaxxo)\n\u001b[1;32m      8\u001b[0m     \u001b[38;5;28;01melse\u001b[39;00m:\n",
      "\u001b[0;31mKeyboardInterrupt\u001b[0m: "
     ]
    }
   ],
   "source": [
    "#audio_files = ['A-sharp-trumpet', 'B-trumpet', 'C-sharp-trumpet', 'D-sharp-trumpet', 'E-trumpet', 'F-sharp-trumpet', 'G-sharp-trumpet']\n",
    "\n",
    "df_final = pd.DataFrame({'peak_1': [], 'peak_2': [], 'Magnitude difference': [],'instrument': [], 'note_played': []})\n",
    "\n",
    "i=0\n",
    "\n",
    "for woko in df_into[df_into['Instrument (in full)'] == 'Trumpet in C']['Path']:\n",
    "    wavo = common_path + woko\n",
    "    titulo = woko.split('/')[-1]\n",
    "#    file_1 = file.format(audio_1)\n",
    "#    wavo = path + file_1\n",
    "    Fs, audio = wavfile.read(wavo)\n",
    "    length = audio.shape[0] / Fs\n",
    "    audio_chunks = chunks(audio,int(length)*2)\n",
    "    print(f\"length = {length}s\")\n",
    "    for aud in audio_chunks[2:-2]:\n",
    "        length_2 = aud.shape[0] / Fs\n",
    "#        print(Fs)\n",
    "        # select left channel only\n",
    "        try:\n",
    "            aud = aud[:,0]\n",
    "            print('plop')\n",
    "        except:\n",
    "            aud = aud[:]\n",
    "            print('anti-plop')\n",
    "        pikos_sorted, freq_sorted, sp_final, peaks  = extract_peaks_and_freqs(aud, Fs)\n",
    "        print(i)\n",
    "        i+=1\n",
    "        df_final_2 = final_data_collection(freq_sorted, pikos_sorted, 10, 1, titulo).reset_index(drop=True)\n",
    "        df_final = df_final.append(df_final_2).reset_index(drop=True)\n",
    "df_final=df_final.reset_index(drop=True)\n",
    "df_final.to_csv(output[1]+'.csv', index=False)\n",
    "#################################\n",
    "#        plt.specgram(aud, Fs=Fs)\n",
    "#        plt.xticks(time_cnk)    \n",
    "#        plt.ylim(0,5000)\n",
    "#        plt.title(titulo)\n",
    "#        plt.show()\n",
    "#        time = np.linspace(0., length_2, aud.shape[0])\n",
    "#        plt.plot(time, aud)\n",
    "#        plt.title('Original signal')\n",
    "#        plt.show()\n",
    "#        plt.plot(peaks, [sp_final[i] for i in peaks])\n",
    "#        plt.plot(freq_sorted[:10], pikos_sorted[:10],'x')\n",
    "#        plt.title('Final frequencies and intensities')\n",
    "#        plt.show()\n",
    "#        ss = np.fft.ifft(sp_final)\n",
    "#        time = np.linspace(0., length_2, len(sp_final))\n",
    "#        plt.plot(time, ss)\n",
    "#        plt.title('Reconstruccion with data manipulation')\n",
    "#        plt.show()\n",
    "#################################"
   ]
  },
  {
   "cell_type": "code",
   "execution_count": 18,
   "id": "41726861",
   "metadata": {},
   "outputs": [
    {
     "data": {
      "text/html": [
       "<div>\n",
       "<style scoped>\n",
       "    .dataframe tbody tr th:only-of-type {\n",
       "        vertical-align: middle;\n",
       "    }\n",
       "\n",
       "    .dataframe tbody tr th {\n",
       "        vertical-align: top;\n",
       "    }\n",
       "\n",
       "    .dataframe thead th {\n",
       "        text-align: right;\n",
       "    }\n",
       "</style>\n",
       "<table border=\"1\" class=\"dataframe\">\n",
       "  <thead>\n",
       "    <tr style=\"text-align: right;\">\n",
       "      <th></th>\n",
       "      <th>peak_1</th>\n",
       "      <th>peak_2</th>\n",
       "      <th>Magnitude difference</th>\n",
       "      <th>instrument</th>\n",
       "      <th>note_played</th>\n",
       "    </tr>\n",
       "  </thead>\n",
       "  <tbody>\n",
       "    <tr>\n",
       "      <th>0</th>\n",
       "      <td>(587, 1.0)</td>\n",
       "      <td>(235, 0.7001763352474711)</td>\n",
       "      <td>352.000128</td>\n",
       "      <td>1.0</td>\n",
       "      <td>TpC-ord-A3-pp-N-T10d.wav</td>\n",
       "    </tr>\n",
       "    <tr>\n",
       "      <th>1</th>\n",
       "      <td>(587, 1.0)</td>\n",
       "      <td>(469, 0.6908478871127224)</td>\n",
       "      <td>118.000405</td>\n",
       "      <td>1.0</td>\n",
       "      <td>TpC-ord-A3-pp-N-T10d.wav</td>\n",
       "    </tr>\n",
       "    <tr>\n",
       "      <th>2</th>\n",
       "      <td>(587, 1.0)</td>\n",
       "      <td>(705, 0.4149694270339397)</td>\n",
       "      <td>118.001450</td>\n",
       "      <td>1.0</td>\n",
       "      <td>TpC-ord-A3-pp-N-T10d.wav</td>\n",
       "    </tr>\n",
       "    <tr>\n",
       "      <th>3</th>\n",
       "      <td>(587, 1.0)</td>\n",
       "      <td>(117, 0.3018187141375363)</td>\n",
       "      <td>470.000519</td>\n",
       "      <td>1.0</td>\n",
       "      <td>TpC-ord-A3-pp-N-T10d.wav</td>\n",
       "    </tr>\n",
       "    <tr>\n",
       "      <th>4</th>\n",
       "      <td>(587, 1.0)</td>\n",
       "      <td>(702, 0.23142166513608625)</td>\n",
       "      <td>115.002568</td>\n",
       "      <td>1.0</td>\n",
       "      <td>TpC-ord-A3-pp-N-T10d.wav</td>\n",
       "    </tr>\n",
       "    <tr>\n",
       "      <th>...</th>\n",
       "      <td>...</td>\n",
       "      <td>...</td>\n",
       "      <td>...</td>\n",
       "      <td>...</td>\n",
       "      <td>...</td>\n",
       "    </tr>\n",
       "    <tr>\n",
       "      <th>36715</th>\n",
       "      <td>(1205, 0.40318427562335807)</td>\n",
       "      <td>(608, 0.28393375254947306)</td>\n",
       "      <td>597.000012</td>\n",
       "      <td>1.0</td>\n",
       "      <td>TpC-ord-C6-ff-N-T17u.wav</td>\n",
       "    </tr>\n",
       "    <tr>\n",
       "      <th>36716</th>\n",
       "      <td>(1205, 0.40318427562335807)</td>\n",
       "      <td>(1807, 0.2532327130191185)</td>\n",
       "      <td>602.000019</td>\n",
       "      <td>1.0</td>\n",
       "      <td>TpC-ord-C6-ff-N-T17u.wav</td>\n",
       "    </tr>\n",
       "    <tr>\n",
       "      <th>36717</th>\n",
       "      <td>(2401, 0.3220904458209747)</td>\n",
       "      <td>(608, 0.28393375254947306)</td>\n",
       "      <td>1793.000000</td>\n",
       "      <td>1.0</td>\n",
       "      <td>TpC-ord-C6-ff-N-T17u.wav</td>\n",
       "    </tr>\n",
       "    <tr>\n",
       "      <th>36718</th>\n",
       "      <td>(2401, 0.3220904458209747)</td>\n",
       "      <td>(1807, 0.2532327130191185)</td>\n",
       "      <td>594.000004</td>\n",
       "      <td>1.0</td>\n",
       "      <td>TpC-ord-C6-ff-N-T17u.wav</td>\n",
       "    </tr>\n",
       "    <tr>\n",
       "      <th>36719</th>\n",
       "      <td>(608, 0.28393375254947306)</td>\n",
       "      <td>(1807, 0.2532327130191185)</td>\n",
       "      <td>1199.000000</td>\n",
       "      <td>1.0</td>\n",
       "      <td>TpC-ord-C6-ff-N-T17u.wav</td>\n",
       "    </tr>\n",
       "  </tbody>\n",
       "</table>\n",
       "<p>36720 rows × 5 columns</p>\n",
       "</div>"
      ],
      "text/plain": [
       "                            peak_1                      peak_2  \\\n",
       "0                       (587, 1.0)   (235, 0.7001763352474711)   \n",
       "1                       (587, 1.0)   (469, 0.6908478871127224)   \n",
       "2                       (587, 1.0)   (705, 0.4149694270339397)   \n",
       "3                       (587, 1.0)   (117, 0.3018187141375363)   \n",
       "4                       (587, 1.0)  (702, 0.23142166513608625)   \n",
       "...                            ...                         ...   \n",
       "36715  (1205, 0.40318427562335807)  (608, 0.28393375254947306)   \n",
       "36716  (1205, 0.40318427562335807)  (1807, 0.2532327130191185)   \n",
       "36717   (2401, 0.3220904458209747)  (608, 0.28393375254947306)   \n",
       "36718   (2401, 0.3220904458209747)  (1807, 0.2532327130191185)   \n",
       "36719   (608, 0.28393375254947306)  (1807, 0.2532327130191185)   \n",
       "\n",
       "       Magnitude difference  instrument               note_played  \n",
       "0                352.000128         1.0  TpC-ord-A3-pp-N-T10d.wav  \n",
       "1                118.000405         1.0  TpC-ord-A3-pp-N-T10d.wav  \n",
       "2                118.001450         1.0  TpC-ord-A3-pp-N-T10d.wav  \n",
       "3                470.000519         1.0  TpC-ord-A3-pp-N-T10d.wav  \n",
       "4                115.002568         1.0  TpC-ord-A3-pp-N-T10d.wav  \n",
       "...                     ...         ...                       ...  \n",
       "36715            597.000012         1.0  TpC-ord-C6-ff-N-T17u.wav  \n",
       "36716            602.000019         1.0  TpC-ord-C6-ff-N-T17u.wav  \n",
       "36717           1793.000000         1.0  TpC-ord-C6-ff-N-T17u.wav  \n",
       "36718            594.000004         1.0  TpC-ord-C6-ff-N-T17u.wav  \n",
       "36719           1199.000000         1.0  TpC-ord-C6-ff-N-T17u.wav  \n",
       "\n",
       "[36720 rows x 5 columns]"
      ]
     },
     "execution_count": 18,
     "metadata": {},
     "output_type": "execute_result"
    }
   ],
   "source": [
    "df_final"
   ]
  },
  {
   "cell_type": "code",
   "execution_count": null,
   "id": "1404722e",
   "metadata": {},
   "outputs": [],
   "source": [
    "df_final=df_final.reset_index(drop=True)"
   ]
  },
  {
   "cell_type": "code",
   "execution_count": 19,
   "id": "8b1fde79",
   "metadata": {},
   "outputs": [],
   "source": [
    "df_final.to_csv('database_trumpet_10_peaks.csv', index=False)"
   ]
  },
  {
   "cell_type": "code",
   "execution_count": null,
   "id": "60230e43",
   "metadata": {},
   "outputs": [],
   "source": [
    "pd.read_csv('database_trumpet_freq.csv')"
   ]
  },
  {
   "cell_type": "code",
   "execution_count": null,
   "id": "b6d701ac",
   "metadata": {},
   "outputs": [],
   "source": [
    "max(freq_sci)"
   ]
  },
  {
   "cell_type": "code",
   "execution_count": null,
   "id": "b0b829a0",
   "metadata": {},
   "outputs": [],
   "source": [
    "wavfile.write(\"example.wav\", Fs, ss.astype(np.int16))"
   ]
  },
  {
   "cell_type": "code",
   "execution_count": null,
   "id": "35b57f51",
   "metadata": {},
   "outputs": [],
   "source": []
  },
  {
   "cell_type": "code",
   "execution_count": null,
   "id": "b5069051",
   "metadata": {},
   "outputs": [],
   "source": []
  },
  {
   "cell_type": "code",
   "execution_count": null,
   "id": "1b0624b1",
   "metadata": {},
   "outputs": [],
   "source": [
    "sp = scipy.fft.fft(aud)\n",
    "freq = scipy.fft.fftfreq(len(aud),Fs)\n",
    "freq_sci= scipy.signal.find_peaks(sp)[0]\n",
    "sp_sci = scipy.signal.peak_prominences(sp, peaks=freq_sci)[0]\n",
    "freq_gaps = np.arange(0,6750,1)\n",
    "sp_final = exist_or_zero(freq_sci, sp_sci, freq_gaps)\n",
    "freq_final, _ = scipy.signal.find_peaks(sp_final)\n",
    "pikos = [sp_final[freq_final[i]] for i in range(0,len(freq_final))]\n",
    "sp_sorted = sorted(pikos, reverse= True)\n",
    "freq_sorted=[freq_final[pikos.index(pikoso)] for pikoso in sp_sorted]"
   ]
  },
  {
   "cell_type": "code",
   "execution_count": null,
   "id": "7a56a33e",
   "metadata": {},
   "outputs": [],
   "source": [
    "plt.plot(freq_gaps, sp_final)\n",
    "plt.plot(freq_sorted[:15],sp_sorted[:15], 'x')"
   ]
  },
  {
   "cell_type": "code",
   "execution_count": null,
   "id": "c312909a",
   "metadata": {},
   "outputs": [],
   "source": []
  },
  {
   "cell_type": "markdown",
   "id": "9854003a",
   "metadata": {},
   "source": [
    "# Usando numpy"
   ]
  },
  {
   "cell_type": "code",
   "execution_count": null,
   "id": "b1ccd0b8",
   "metadata": {},
   "outputs": [],
   "source": [
    "#audio_files = ['A-sharp-trumpet', 'B-trumpet', 'C-sharp-trumpet', 'D-sharp-trumpet', 'E-trumpet', 'F-sharp-trumpet', 'G-sharp-trumpet']\n",
    "\n",
    "df_final = pd.DataFrame({'note_played':[], 'frequencies':[], 'intensities':[], 'instrument': []})\n",
    "\n",
    "for audio_1 in audio_files:\n",
    "    file_1 = file.format(audio_1)\n",
    "    wavo = path + file_1\n",
    "    Fs, audio = wavfile.read(wavo + '.wav')\n",
    "    length = audio.shape[0] / Fs\n",
    "    audio_chunks = chunks(audio,int(length)*2)\n",
    "    print(f\"length = {length}s\")\n",
    "    for aud in audio_chunks[2:-2]:\n",
    "#        print(Fs)\n",
    "        # select left channel only\n",
    "        try:\n",
    "            aud = aud[:,0]\n",
    "            print('plop')\n",
    "        except:\n",
    "            aud = aud[:]\n",
    "            print('anti-plop')\n",
    "        # trim the first 125 seconds\n",
    "        sp_final = np.fft.fft(aud)\n",
    "        freq_final = np.fft.fftfreq(aud.shape[-1], d=(1/Fs))\n",
    "        plt.specgram(aud, Fs=Fs)\n",
    "        plt.ylim(0,5000)\n",
    "        time = np.linspace(0., length, aud.shape[0])\n",
    "        freq_positive = [(freq_final[i], sp_final[i]) for i in range(0,len(freq_final)) if freq_final[i]>=0]\n",
    "        freq_final = [freq_positive[i][0] for i in range(0,len(freq_positive))]\n",
    "        sp_final = [freq_positive[i][1] for i in range(0,len(freq_positive))]\n",
    "        plt.title(file_1)\n",
    "        plt.show()\n",
    "        plt.plot(time, aud)\n",
    "        plt.title('Original signal')\n",
    "        plt.show()\n",
    "        plt.plot(freq_final,sp_final)\n",
    "        plt.title('Final frequencies and intensities')\n",
    "        plt.show()\n",
    "        ss = np.fft.ifft(sp_final)\n",
    "        time = np.linspace(0., length, len(sp_final))\n",
    "        plt.plot(time, ss)\n",
    "        plt.title('Reconstruccion with data manipulation')\n",
    "        plt.show()\n",
    "        df_iteration = pd.DataFrame({'note_played': file_1, 'frequencies':[freq_final], 'intensities':[sp_final], 'instrument': 1})\n",
    "        df_final = df_final.append(df_iteration)"
   ]
  },
  {
   "cell_type": "code",
   "execution_count": null,
   "id": "c76a6e69",
   "metadata": {},
   "outputs": [],
   "source": [
    "df_final"
   ]
  },
  {
   "cell_type": "markdown",
   "id": "25c54df1",
   "metadata": {},
   "source": [
    "# Usando spectrogram de matplotlib"
   ]
  },
  {
   "cell_type": "code",
   "execution_count": null,
   "id": "2ea51d27",
   "metadata": {},
   "outputs": [],
   "source": [
    "for audio in audio_files:\n",
    "    file_1 = file.format(audio_1)\n",
    "    wavo = path + file_1\n",
    "    Fs, audio = wavfile.read(wavo + '.wav')\n",
    "    length = audio.shape[0] / Fs\n",
    "    audio_chunks = chunks(audio,int(length*8))\n",
    "    print(f\"length = {length}s\")\n",
    "    for aud in audio_chunks[1:-1]:\n",
    "        # select left channel only\n",
    "        try:\n",
    "            aud = aud[:,0]\n",
    "            print('plop')\n",
    "        except:\n",
    "            aud = aud[:]\n",
    "            print('anti-plop')\n",
    "        # trim the first 125 seconds\n",
    "        length = aud.shape[0] / Fs\n",
    "        first = aud[:int(Fs*length)]\n",
    "        powerSpectrum, frequenciesFound, time2, imageAxis = plt.specgram(first, Fs=Fs)\n",
    "        plt.ylim(0,5000)\n",
    "        time = np.linspace(0., length, aud.shape[0])\n",
    "        plt.title(file_1)\n",
    "        plt.show()\n",
    "        plt.plot(time, aud)\n",
    "        plt.show()\n",
    "        print(frequenciesFound)\n",
    "    #    poweroso = [np.average(powerSpectrum[i,:]) for i in range(0,len(powerSpectrum))]\n",
    "    #    print(len(poweroso))\n",
    "    #    ss = np.fft.ifft(poweroso)\n",
    "        plt.plot(frequenciesFound,powerSpectrum)\n",
    "        plt.xlim(0,2500)\n",
    "        plt.title('frequencies')\n",
    "        plt.show()\n",
    "    #    plt.plot(ss.real)\n",
    "    #    plt.title('Reconstruccion')\n",
    "    #    plt.show()\n",
    "    #    plt.savefig('{}.png'.format(audio))"
   ]
  },
  {
   "cell_type": "code",
   "execution_count": null,
   "id": "75784c6a",
   "metadata": {},
   "outputs": [],
   "source": [
    "len(frequenciesFound)"
   ]
  },
  {
   "cell_type": "code",
   "execution_count": null,
   "id": "0ba262cc",
   "metadata": {},
   "outputs": [],
   "source": [
    "powerSpectrum"
   ]
  }
 ],
 "metadata": {
  "kernelspec": {
   "display_name": "Python(jorgenv)",
   "language": "python",
   "name": "jorgenv"
  },
  "language_info": {
   "codemirror_mode": {
    "name": "ipython",
    "version": 3
   },
   "file_extension": ".py",
   "mimetype": "text/x-python",
   "name": "python",
   "nbconvert_exporter": "python",
   "pygments_lexer": "ipython3",
   "version": "3.10.9"
  }
 },
 "nbformat": 4,
 "nbformat_minor": 5
}
