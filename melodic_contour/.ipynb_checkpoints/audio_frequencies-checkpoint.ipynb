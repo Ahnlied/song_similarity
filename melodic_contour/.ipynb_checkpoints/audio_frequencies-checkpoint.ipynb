{
 "cells": [
  {
   "cell_type": "code",
   "execution_count": 1,
   "id": "93d1e114",
   "metadata": {},
   "outputs": [],
   "source": [
    "import os\n",
    "import re\n",
    "import pandas as pd\n",
    "import numpy as np\n",
    "\n",
    "import librosa\n",
    "\n",
    "from extract_melodic_contour import extract_peaks_and_freqs, chunks\n",
    "\n",
    "from scipy.stats import spearmanr\n",
    "\n",
    "import matplotlib.pyplot as plt"
   ]
  },
  {
   "cell_type": "code",
   "execution_count": 2,
   "id": "a6abd7a1",
   "metadata": {},
   "outputs": [],
   "source": [
    "octave_MIDI = pd.read_csv('/home/jacs/Documents/DataScience/Personal/song_similarity_audio/nsynth-train/MIDI_notes.csv')"
   ]
  },
  {
   "cell_type": "code",
   "execution_count": 3,
   "id": "312b076a",
   "metadata": {},
   "outputs": [
    {
     "data": {
      "text/html": [
       "<div>\n",
       "<style scoped>\n",
       "    .dataframe tbody tr th:only-of-type {\n",
       "        vertical-align: middle;\n",
       "    }\n",
       "\n",
       "    .dataframe tbody tr th {\n",
       "        vertical-align: top;\n",
       "    }\n",
       "\n",
       "    .dataframe thead th {\n",
       "        text-align: right;\n",
       "    }\n",
       "</style>\n",
       "<table border=\"1\" class=\"dataframe\">\n",
       "  <thead>\n",
       "    <tr style=\"text-align: right;\">\n",
       "      <th></th>\n",
       "      <th>Octave</th>\n",
       "      <th>C</th>\n",
       "      <th>C#</th>\n",
       "      <th>D</th>\n",
       "      <th>D#</th>\n",
       "      <th>E</th>\n",
       "      <th>F</th>\n",
       "      <th>F#</th>\n",
       "      <th>G</th>\n",
       "      <th>G#</th>\n",
       "      <th>A</th>\n",
       "      <th>A#</th>\n",
       "      <th>B</th>\n",
       "    </tr>\n",
       "  </thead>\n",
       "  <tbody>\n",
       "    <tr>\n",
       "      <th>5</th>\n",
       "      <td>4</td>\n",
       "      <td>60</td>\n",
       "      <td>61</td>\n",
       "      <td>62</td>\n",
       "      <td>63</td>\n",
       "      <td>64</td>\n",
       "      <td>65</td>\n",
       "      <td>66</td>\n",
       "      <td>67</td>\n",
       "      <td>68.0</td>\n",
       "      <td>69.0</td>\n",
       "      <td>70.0</td>\n",
       "      <td>71.0</td>\n",
       "    </tr>\n",
       "    <tr>\n",
       "      <th>6</th>\n",
       "      <td>5</td>\n",
       "      <td>72</td>\n",
       "      <td>73</td>\n",
       "      <td>74</td>\n",
       "      <td>75</td>\n",
       "      <td>76</td>\n",
       "      <td>77</td>\n",
       "      <td>78</td>\n",
       "      <td>79</td>\n",
       "      <td>80.0</td>\n",
       "      <td>81.0</td>\n",
       "      <td>82.0</td>\n",
       "      <td>83.0</td>\n",
       "    </tr>\n",
       "    <tr>\n",
       "      <th>7</th>\n",
       "      <td>6</td>\n",
       "      <td>84</td>\n",
       "      <td>85</td>\n",
       "      <td>86</td>\n",
       "      <td>87</td>\n",
       "      <td>88</td>\n",
       "      <td>89</td>\n",
       "      <td>90</td>\n",
       "      <td>91</td>\n",
       "      <td>92.0</td>\n",
       "      <td>93.0</td>\n",
       "      <td>94.0</td>\n",
       "      <td>95.0</td>\n",
       "    </tr>\n",
       "  </tbody>\n",
       "</table>\n",
       "</div>"
      ],
      "text/plain": [
       "   Octave   C  C#   D  D#   E   F  F#   G    G#     A    A#     B\n",
       "5       4  60  61  62  63  64  65  66  67  68.0  69.0  70.0  71.0\n",
       "6       5  72  73  74  75  76  77  78  79  80.0  81.0  82.0  83.0\n",
       "7       6  84  85  86  87  88  89  90  91  92.0  93.0  94.0  95.0"
      ]
     },
     "execution_count": 3,
     "metadata": {},
     "output_type": "execute_result"
    }
   ],
   "source": [
    "octave_MIDI[octave_MIDI['Octave'].apply(lambda x: x in [4,5,6])]"
   ]
  },
  {
   "cell_type": "code",
   "execution_count": 4,
   "id": "478416cf",
   "metadata": {},
   "outputs": [
    {
     "data": {
      "text/html": [
       "<div>\n",
       "<style scoped>\n",
       "    .dataframe tbody tr th:only-of-type {\n",
       "        vertical-align: middle;\n",
       "    }\n",
       "\n",
       "    .dataframe tbody tr th {\n",
       "        vertical-align: top;\n",
       "    }\n",
       "\n",
       "    .dataframe thead th {\n",
       "        text-align: right;\n",
       "    }\n",
       "</style>\n",
       "<table border=\"1\" class=\"dataframe\">\n",
       "  <thead>\n",
       "    <tr style=\"text-align: right;\">\n",
       "      <th></th>\n",
       "      <th>Octave</th>\n",
       "      <th>C</th>\n",
       "      <th>C#</th>\n",
       "      <th>D</th>\n",
       "      <th>D#</th>\n",
       "      <th>E</th>\n",
       "      <th>F</th>\n",
       "      <th>F#</th>\n",
       "      <th>G</th>\n",
       "      <th>G#</th>\n",
       "      <th>A</th>\n",
       "      <th>A#</th>\n",
       "      <th>B</th>\n",
       "    </tr>\n",
       "  </thead>\n",
       "  <tbody>\n",
       "    <tr>\n",
       "      <th>0</th>\n",
       "      <td>-1</td>\n",
       "      <td>0</td>\n",
       "      <td>1</td>\n",
       "      <td>2</td>\n",
       "      <td>3</td>\n",
       "      <td>4</td>\n",
       "      <td>5</td>\n",
       "      <td>6</td>\n",
       "      <td>7</td>\n",
       "      <td>8.0</td>\n",
       "      <td>9.0</td>\n",
       "      <td>10.0</td>\n",
       "      <td>11.0</td>\n",
       "    </tr>\n",
       "    <tr>\n",
       "      <th>1</th>\n",
       "      <td>0</td>\n",
       "      <td>12</td>\n",
       "      <td>13</td>\n",
       "      <td>14</td>\n",
       "      <td>15</td>\n",
       "      <td>16</td>\n",
       "      <td>17</td>\n",
       "      <td>18</td>\n",
       "      <td>19</td>\n",
       "      <td>20.0</td>\n",
       "      <td>21.0</td>\n",
       "      <td>22.0</td>\n",
       "      <td>23.0</td>\n",
       "    </tr>\n",
       "    <tr>\n",
       "      <th>2</th>\n",
       "      <td>1</td>\n",
       "      <td>24</td>\n",
       "      <td>25</td>\n",
       "      <td>26</td>\n",
       "      <td>27</td>\n",
       "      <td>28</td>\n",
       "      <td>29</td>\n",
       "      <td>30</td>\n",
       "      <td>31</td>\n",
       "      <td>32.0</td>\n",
       "      <td>33.0</td>\n",
       "      <td>34.0</td>\n",
       "      <td>35.0</td>\n",
       "    </tr>\n",
       "    <tr>\n",
       "      <th>3</th>\n",
       "      <td>2</td>\n",
       "      <td>36</td>\n",
       "      <td>37</td>\n",
       "      <td>38</td>\n",
       "      <td>39</td>\n",
       "      <td>40</td>\n",
       "      <td>41</td>\n",
       "      <td>42</td>\n",
       "      <td>43</td>\n",
       "      <td>44.0</td>\n",
       "      <td>45.0</td>\n",
       "      <td>46.0</td>\n",
       "      <td>47.0</td>\n",
       "    </tr>\n",
       "    <tr>\n",
       "      <th>4</th>\n",
       "      <td>3</td>\n",
       "      <td>48</td>\n",
       "      <td>49</td>\n",
       "      <td>50</td>\n",
       "      <td>51</td>\n",
       "      <td>52</td>\n",
       "      <td>53</td>\n",
       "      <td>54</td>\n",
       "      <td>55</td>\n",
       "      <td>56.0</td>\n",
       "      <td>57.0</td>\n",
       "      <td>58.0</td>\n",
       "      <td>59.0</td>\n",
       "    </tr>\n",
       "    <tr>\n",
       "      <th>5</th>\n",
       "      <td>4</td>\n",
       "      <td>60</td>\n",
       "      <td>61</td>\n",
       "      <td>62</td>\n",
       "      <td>63</td>\n",
       "      <td>64</td>\n",
       "      <td>65</td>\n",
       "      <td>66</td>\n",
       "      <td>67</td>\n",
       "      <td>68.0</td>\n",
       "      <td>69.0</td>\n",
       "      <td>70.0</td>\n",
       "      <td>71.0</td>\n",
       "    </tr>\n",
       "    <tr>\n",
       "      <th>6</th>\n",
       "      <td>5</td>\n",
       "      <td>72</td>\n",
       "      <td>73</td>\n",
       "      <td>74</td>\n",
       "      <td>75</td>\n",
       "      <td>76</td>\n",
       "      <td>77</td>\n",
       "      <td>78</td>\n",
       "      <td>79</td>\n",
       "      <td>80.0</td>\n",
       "      <td>81.0</td>\n",
       "      <td>82.0</td>\n",
       "      <td>83.0</td>\n",
       "    </tr>\n",
       "    <tr>\n",
       "      <th>7</th>\n",
       "      <td>6</td>\n",
       "      <td>84</td>\n",
       "      <td>85</td>\n",
       "      <td>86</td>\n",
       "      <td>87</td>\n",
       "      <td>88</td>\n",
       "      <td>89</td>\n",
       "      <td>90</td>\n",
       "      <td>91</td>\n",
       "      <td>92.0</td>\n",
       "      <td>93.0</td>\n",
       "      <td>94.0</td>\n",
       "      <td>95.0</td>\n",
       "    </tr>\n",
       "    <tr>\n",
       "      <th>8</th>\n",
       "      <td>7</td>\n",
       "      <td>96</td>\n",
       "      <td>97</td>\n",
       "      <td>98</td>\n",
       "      <td>99</td>\n",
       "      <td>100</td>\n",
       "      <td>101</td>\n",
       "      <td>102</td>\n",
       "      <td>103</td>\n",
       "      <td>104.0</td>\n",
       "      <td>105.0</td>\n",
       "      <td>106.0</td>\n",
       "      <td>107.0</td>\n",
       "    </tr>\n",
       "    <tr>\n",
       "      <th>9</th>\n",
       "      <td>8</td>\n",
       "      <td>108</td>\n",
       "      <td>109</td>\n",
       "      <td>110</td>\n",
       "      <td>111</td>\n",
       "      <td>112</td>\n",
       "      <td>113</td>\n",
       "      <td>114</td>\n",
       "      <td>115</td>\n",
       "      <td>116.0</td>\n",
       "      <td>117.0</td>\n",
       "      <td>118.0</td>\n",
       "      <td>119.0</td>\n",
       "    </tr>\n",
       "    <tr>\n",
       "      <th>10</th>\n",
       "      <td>9</td>\n",
       "      <td>120</td>\n",
       "      <td>121</td>\n",
       "      <td>122</td>\n",
       "      <td>123</td>\n",
       "      <td>124</td>\n",
       "      <td>125</td>\n",
       "      <td>126</td>\n",
       "      <td>127</td>\n",
       "      <td>NaN</td>\n",
       "      <td>NaN</td>\n",
       "      <td>NaN</td>\n",
       "      <td>NaN</td>\n",
       "    </tr>\n",
       "  </tbody>\n",
       "</table>\n",
       "</div>"
      ],
      "text/plain": [
       "    Octave    C   C#    D   D#    E    F   F#    G     G#      A     A#      B\n",
       "0       -1    0    1    2    3    4    5    6    7    8.0    9.0   10.0   11.0\n",
       "1        0   12   13   14   15   16   17   18   19   20.0   21.0   22.0   23.0\n",
       "2        1   24   25   26   27   28   29   30   31   32.0   33.0   34.0   35.0\n",
       "3        2   36   37   38   39   40   41   42   43   44.0   45.0   46.0   47.0\n",
       "4        3   48   49   50   51   52   53   54   55   56.0   57.0   58.0   59.0\n",
       "5        4   60   61   62   63   64   65   66   67   68.0   69.0   70.0   71.0\n",
       "6        5   72   73   74   75   76   77   78   79   80.0   81.0   82.0   83.0\n",
       "7        6   84   85   86   87   88   89   90   91   92.0   93.0   94.0   95.0\n",
       "8        7   96   97   98   99  100  101  102  103  104.0  105.0  106.0  107.0\n",
       "9        8  108  109  110  111  112  113  114  115  116.0  117.0  118.0  119.0\n",
       "10       9  120  121  122  123  124  125  126  127    NaN    NaN    NaN    NaN"
      ]
     },
     "execution_count": 4,
     "metadata": {},
     "output_type": "execute_result"
    }
   ],
   "source": [
    "octave_MIDI#['C'].iloc[0]"
   ]
  },
  {
   "cell_type": "code",
   "execution_count": 5,
   "id": "1a7741b7",
   "metadata": {},
   "outputs": [],
   "source": [
    "common_path = '/home/jacs/Documents/DataScience/Personal/'\n",
    "\n",
    "input_path= 'song_similarity_audio/'\n",
    "\n",
    "dummy_path = 'song_similarity/'\n",
    "\n",
    "output_path = 'song_similarity/melodic_contour/'\n",
    "\n",
    "# As an input there is going to be a list of youtube links that contain audio that can be\n",
    "# usefull to expand and enrich the database of that particular instrument\n",
    "\n",
    "# As an input we want a tupple, with the link as first position and instrument as second position\n"
   ]
  },
  {
   "cell_type": "code",
   "execution_count": 6,
   "id": "aae9409b",
   "metadata": {},
   "outputs": [],
   "source": [
    "df_into = pd.read_csv(common_path+input_path+'/TinySOL/TinySOL_metadata.csv')\n",
    "df_into= df_into[df_into['Needed digital retuning']]"
   ]
  },
  {
   "cell_type": "code",
   "execution_count": 7,
   "id": "20e24d81",
   "metadata": {},
   "outputs": [
    {
     "data": {
      "text/html": [
       "<div>\n",
       "<style scoped>\n",
       "    .dataframe tbody tr th:only-of-type {\n",
       "        vertical-align: middle;\n",
       "    }\n",
       "\n",
       "    .dataframe tbody tr th {\n",
       "        vertical-align: top;\n",
       "    }\n",
       "\n",
       "    .dataframe thead th {\n",
       "        text-align: right;\n",
       "    }\n",
       "</style>\n",
       "<table border=\"1\" class=\"dataframe\">\n",
       "  <thead>\n",
       "    <tr style=\"text-align: right;\">\n",
       "      <th></th>\n",
       "      <th>Path</th>\n",
       "      <th>Fold</th>\n",
       "      <th>Family</th>\n",
       "      <th>Instrument (abbr.)</th>\n",
       "      <th>Instrument (in full)</th>\n",
       "      <th>Technique (abbr.)</th>\n",
       "      <th>Technique (in full)</th>\n",
       "      <th>Pitch</th>\n",
       "      <th>Pitch ID</th>\n",
       "      <th>Dynamics</th>\n",
       "      <th>Dynamics ID</th>\n",
       "      <th>Instance ID</th>\n",
       "      <th>String ID (if applicable)</th>\n",
       "      <th>Needed digital retuning</th>\n",
       "    </tr>\n",
       "  </thead>\n",
       "  <tbody>\n",
       "    <tr>\n",
       "      <th>1</th>\n",
       "      <td>Brass/Bass_Tuba/ordinario/BTb-ord-G1-pp-N-R100...</td>\n",
       "      <td>4</td>\n",
       "      <td>Brass</td>\n",
       "      <td>BTb</td>\n",
       "      <td>Bass Tuba</td>\n",
       "      <td>ord</td>\n",
       "      <td>ordinario</td>\n",
       "      <td>G1</td>\n",
       "      <td>31</td>\n",
       "      <td>pp</td>\n",
       "      <td>0</td>\n",
       "      <td>0</td>\n",
       "      <td>NaN</td>\n",
       "      <td>True</td>\n",
       "    </tr>\n",
       "    <tr>\n",
       "      <th>2</th>\n",
       "      <td>Brass/Bass_Tuba/ordinario/BTb-ord-G#1-pp-N-T16...</td>\n",
       "      <td>3</td>\n",
       "      <td>Brass</td>\n",
       "      <td>BTb</td>\n",
       "      <td>Bass Tuba</td>\n",
       "      <td>ord</td>\n",
       "      <td>ordinario</td>\n",
       "      <td>G#1</td>\n",
       "      <td>32</td>\n",
       "      <td>pp</td>\n",
       "      <td>0</td>\n",
       "      <td>0</td>\n",
       "      <td>NaN</td>\n",
       "      <td>True</td>\n",
       "    </tr>\n",
       "    <tr>\n",
       "      <th>3</th>\n",
       "      <td>Brass/Bass_Tuba/ordinario/BTb-ord-A1-pp-N-T23d...</td>\n",
       "      <td>2</td>\n",
       "      <td>Brass</td>\n",
       "      <td>BTb</td>\n",
       "      <td>Bass Tuba</td>\n",
       "      <td>ord</td>\n",
       "      <td>ordinario</td>\n",
       "      <td>A1</td>\n",
       "      <td>33</td>\n",
       "      <td>pp</td>\n",
       "      <td>0</td>\n",
       "      <td>0</td>\n",
       "      <td>NaN</td>\n",
       "      <td>True</td>\n",
       "    </tr>\n",
       "    <tr>\n",
       "      <th>6</th>\n",
       "      <td>Brass/Bass_Tuba/ordinario/BTb-ord-C2-pp-N-T13d...</td>\n",
       "      <td>1</td>\n",
       "      <td>Brass</td>\n",
       "      <td>BTb</td>\n",
       "      <td>Bass Tuba</td>\n",
       "      <td>ord</td>\n",
       "      <td>ordinario</td>\n",
       "      <td>C2</td>\n",
       "      <td>36</td>\n",
       "      <td>pp</td>\n",
       "      <td>0</td>\n",
       "      <td>0</td>\n",
       "      <td>NaN</td>\n",
       "      <td>True</td>\n",
       "    </tr>\n",
       "    <tr>\n",
       "      <th>8</th>\n",
       "      <td>Brass/Bass_Tuba/ordinario/BTb-ord-D2-pp-N-T18u...</td>\n",
       "      <td>1</td>\n",
       "      <td>Brass</td>\n",
       "      <td>BTb</td>\n",
       "      <td>Bass Tuba</td>\n",
       "      <td>ord</td>\n",
       "      <td>ordinario</td>\n",
       "      <td>D2</td>\n",
       "      <td>38</td>\n",
       "      <td>pp</td>\n",
       "      <td>0</td>\n",
       "      <td>0</td>\n",
       "      <td>NaN</td>\n",
       "      <td>True</td>\n",
       "    </tr>\n",
       "    <tr>\n",
       "      <th>...</th>\n",
       "      <td>...</td>\n",
       "      <td>...</td>\n",
       "      <td>...</td>\n",
       "      <td>...</td>\n",
       "      <td>...</td>\n",
       "      <td>...</td>\n",
       "      <td>...</td>\n",
       "      <td>...</td>\n",
       "      <td>...</td>\n",
       "      <td>...</td>\n",
       "      <td>...</td>\n",
       "      <td>...</td>\n",
       "      <td>...</td>\n",
       "      <td>...</td>\n",
       "    </tr>\n",
       "    <tr>\n",
       "      <th>2902</th>\n",
       "      <td>Winds/Oboe/ordinario/Ob-ord-B5-ff-N-T11u.wav</td>\n",
       "      <td>3</td>\n",
       "      <td>Winds</td>\n",
       "      <td>Ob</td>\n",
       "      <td>Oboe</td>\n",
       "      <td>ord</td>\n",
       "      <td>ordinario</td>\n",
       "      <td>B5</td>\n",
       "      <td>83</td>\n",
       "      <td>ff</td>\n",
       "      <td>4</td>\n",
       "      <td>0</td>\n",
       "      <td>NaN</td>\n",
       "      <td>True</td>\n",
       "    </tr>\n",
       "    <tr>\n",
       "      <th>2905</th>\n",
       "      <td>Winds/Oboe/ordinario/Ob-ord-D6-ff-N-R100u.wav</td>\n",
       "      <td>4</td>\n",
       "      <td>Winds</td>\n",
       "      <td>Ob</td>\n",
       "      <td>Oboe</td>\n",
       "      <td>ord</td>\n",
       "      <td>ordinario</td>\n",
       "      <td>D6</td>\n",
       "      <td>86</td>\n",
       "      <td>ff</td>\n",
       "      <td>4</td>\n",
       "      <td>0</td>\n",
       "      <td>NaN</td>\n",
       "      <td>True</td>\n",
       "    </tr>\n",
       "    <tr>\n",
       "      <th>2909</th>\n",
       "      <td>Winds/Oboe/ordinario/Ob-ord-F#6-ff-N-T12u.wav</td>\n",
       "      <td>0</td>\n",
       "      <td>Winds</td>\n",
       "      <td>Ob</td>\n",
       "      <td>Oboe</td>\n",
       "      <td>ord</td>\n",
       "      <td>ordinario</td>\n",
       "      <td>F#6</td>\n",
       "      <td>90</td>\n",
       "      <td>ff</td>\n",
       "      <td>4</td>\n",
       "      <td>0</td>\n",
       "      <td>NaN</td>\n",
       "      <td>True</td>\n",
       "    </tr>\n",
       "    <tr>\n",
       "      <th>2910</th>\n",
       "      <td>Winds/Oboe/ordinario/Ob-ord-G6-ff-N-T16u.wav</td>\n",
       "      <td>0</td>\n",
       "      <td>Winds</td>\n",
       "      <td>Ob</td>\n",
       "      <td>Oboe</td>\n",
       "      <td>ord</td>\n",
       "      <td>ordinario</td>\n",
       "      <td>G6</td>\n",
       "      <td>91</td>\n",
       "      <td>ff</td>\n",
       "      <td>4</td>\n",
       "      <td>0</td>\n",
       "      <td>NaN</td>\n",
       "      <td>True</td>\n",
       "    </tr>\n",
       "    <tr>\n",
       "      <th>2912</th>\n",
       "      <td>Winds/Oboe/ordinario/Ob-ord-A6-ff-N-T18u.wav</td>\n",
       "      <td>1</td>\n",
       "      <td>Winds</td>\n",
       "      <td>Ob</td>\n",
       "      <td>Oboe</td>\n",
       "      <td>ord</td>\n",
       "      <td>ordinario</td>\n",
       "      <td>A6</td>\n",
       "      <td>93</td>\n",
       "      <td>ff</td>\n",
       "      <td>4</td>\n",
       "      <td>0</td>\n",
       "      <td>NaN</td>\n",
       "      <td>True</td>\n",
       "    </tr>\n",
       "  </tbody>\n",
       "</table>\n",
       "<p>640 rows × 14 columns</p>\n",
       "</div>"
      ],
      "text/plain": [
       "                                                   Path  Fold Family  \\\n",
       "1     Brass/Bass_Tuba/ordinario/BTb-ord-G1-pp-N-R100...     4  Brass   \n",
       "2     Brass/Bass_Tuba/ordinario/BTb-ord-G#1-pp-N-T16...     3  Brass   \n",
       "3     Brass/Bass_Tuba/ordinario/BTb-ord-A1-pp-N-T23d...     2  Brass   \n",
       "6     Brass/Bass_Tuba/ordinario/BTb-ord-C2-pp-N-T13d...     1  Brass   \n",
       "8     Brass/Bass_Tuba/ordinario/BTb-ord-D2-pp-N-T18u...     1  Brass   \n",
       "...                                                 ...   ...    ...   \n",
       "2902       Winds/Oboe/ordinario/Ob-ord-B5-ff-N-T11u.wav     3  Winds   \n",
       "2905      Winds/Oboe/ordinario/Ob-ord-D6-ff-N-R100u.wav     4  Winds   \n",
       "2909      Winds/Oboe/ordinario/Ob-ord-F#6-ff-N-T12u.wav     0  Winds   \n",
       "2910       Winds/Oboe/ordinario/Ob-ord-G6-ff-N-T16u.wav     0  Winds   \n",
       "2912       Winds/Oboe/ordinario/Ob-ord-A6-ff-N-T18u.wav     1  Winds   \n",
       "\n",
       "     Instrument (abbr.) Instrument (in full) Technique (abbr.)  \\\n",
       "1                   BTb            Bass Tuba               ord   \n",
       "2                   BTb            Bass Tuba               ord   \n",
       "3                   BTb            Bass Tuba               ord   \n",
       "6                   BTb            Bass Tuba               ord   \n",
       "8                   BTb            Bass Tuba               ord   \n",
       "...                 ...                  ...               ...   \n",
       "2902                 Ob                 Oboe               ord   \n",
       "2905                 Ob                 Oboe               ord   \n",
       "2909                 Ob                 Oboe               ord   \n",
       "2910                 Ob                 Oboe               ord   \n",
       "2912                 Ob                 Oboe               ord   \n",
       "\n",
       "     Technique (in full) Pitch  Pitch ID Dynamics  Dynamics ID  Instance ID  \\\n",
       "1              ordinario    G1        31       pp            0            0   \n",
       "2              ordinario   G#1        32       pp            0            0   \n",
       "3              ordinario    A1        33       pp            0            0   \n",
       "6              ordinario    C2        36       pp            0            0   \n",
       "8              ordinario    D2        38       pp            0            0   \n",
       "...                  ...   ...       ...      ...          ...          ...   \n",
       "2902           ordinario    B5        83       ff            4            0   \n",
       "2905           ordinario    D6        86       ff            4            0   \n",
       "2909           ordinario   F#6        90       ff            4            0   \n",
       "2910           ordinario    G6        91       ff            4            0   \n",
       "2912           ordinario    A6        93       ff            4            0   \n",
       "\n",
       "      String ID (if applicable)  Needed digital retuning  \n",
       "1                           NaN                     True  \n",
       "2                           NaN                     True  \n",
       "3                           NaN                     True  \n",
       "6                           NaN                     True  \n",
       "8                           NaN                     True  \n",
       "...                         ...                      ...  \n",
       "2902                        NaN                     True  \n",
       "2905                        NaN                     True  \n",
       "2909                        NaN                     True  \n",
       "2910                        NaN                     True  \n",
       "2912                        NaN                     True  \n",
       "\n",
       "[640 rows x 14 columns]"
      ]
     },
     "execution_count": 7,
     "metadata": {},
     "output_type": "execute_result"
    }
   ],
   "source": [
    "df_into"
   ]
  },
  {
   "cell_type": "code",
   "execution_count": 8,
   "id": "4d60e465",
   "metadata": {},
   "outputs": [],
   "source": [
    "notes = list(df_into['Pitch'].unique())"
   ]
  },
  {
   "cell_type": "code",
   "execution_count": 9,
   "id": "d30fa382",
   "metadata": {},
   "outputs": [
    {
     "data": {
      "text/plain": [
       "['G1',\n",
       " 'G#1',\n",
       " 'A1',\n",
       " 'C2',\n",
       " 'D2',\n",
       " 'D#2',\n",
       " 'E2',\n",
       " 'F2',\n",
       " 'F#2',\n",
       " 'G#2',\n",
       " 'A2',\n",
       " 'B2',\n",
       " 'C3',\n",
       " 'G3',\n",
       " 'A#3',\n",
       " 'B3',\n",
       " 'F#1',\n",
       " 'B1',\n",
       " 'G2',\n",
       " 'A#2',\n",
       " 'C#3',\n",
       " 'D3',\n",
       " 'D#3',\n",
       " 'E3',\n",
       " 'G#3',\n",
       " 'E4',\n",
       " 'A#1',\n",
       " 'C#4',\n",
       " 'F#4',\n",
       " 'G#4',\n",
       " 'D5',\n",
       " 'F5',\n",
       " 'E5',\n",
       " 'D#5',\n",
       " 'A3',\n",
       " 'D#4',\n",
       " 'C#2',\n",
       " 'C5',\n",
       " 'C4',\n",
       " 'D4',\n",
       " 'F4',\n",
       " 'F#5',\n",
       " 'G5',\n",
       " 'G#5',\n",
       " 'A5',\n",
       " 'F#3',\n",
       " 'G4',\n",
       " 'A4',\n",
       " 'C#5',\n",
       " 'B5',\n",
       " 'C6',\n",
       " 'C#6',\n",
       " 'G#7',\n",
       " 'B7',\n",
       " 'E1',\n",
       " 'F1',\n",
       " 'F3',\n",
       " 'A#4',\n",
       " 'B4',\n",
       " 'D6',\n",
       " 'D#6',\n",
       " 'A#5',\n",
       " 'B6',\n",
       " 'C7',\n",
       " 'A6',\n",
       " 'F#6',\n",
       " 'G6',\n",
       " 'C#7',\n",
       " 'D7',\n",
       " 'D#7',\n",
       " 'E7',\n",
       " 'F6',\n",
       " 'G#6',\n",
       " 'E6',\n",
       " 'A#6']"
      ]
     },
     "execution_count": 9,
     "metadata": {},
     "output_type": "execute_result"
    }
   ],
   "source": [
    "notes"
   ]
  },
  {
   "cell_type": "code",
   "execution_count": 23,
   "id": "9dd460d7",
   "metadata": {},
   "outputs": [],
   "source": [
    "scale_4 = [note for note in notes if len(set('4') & set(note)) != 0]"
   ]
  },
  {
   "cell_type": "code",
   "execution_count": 24,
   "id": "787e8633",
   "metadata": {},
   "outputs": [],
   "source": [
    "scale_4_4 = [note for note in scale_4 if len(set('#') & set(note)) == 0]"
   ]
  },
  {
   "cell_type": "code",
   "execution_count": 25,
   "id": "a6355ddf",
   "metadata": {},
   "outputs": [],
   "source": [
    "scale_5 = [note for note in notes if len(set('5') & set(note)) != 0]"
   ]
  },
  {
   "cell_type": "code",
   "execution_count": 26,
   "id": "d88661f2",
   "metadata": {},
   "outputs": [],
   "source": [
    "scale_6 = [note for note in notes if len(set('6') & set(note)) != 0]"
   ]
  },
  {
   "cell_type": "code",
   "execution_count": 27,
   "id": "7e101adb",
   "metadata": {},
   "outputs": [],
   "source": [
    "scalas = [scale_4, scale_5, scale_6]"
   ]
  },
  {
   "cell_type": "code",
   "execution_count": 28,
   "id": "6cb5d931",
   "metadata": {},
   "outputs": [],
   "source": [
    "for scalo in scalas:\n",
    "    df_final = pd.DataFrame()\n",
    "    if scalo == scale_4:\n",
    "        scale_name = '4_Octave'\n",
    "    elif scalo == scale_5:\n",
    "        scale_name = '5_Octave'\n",
    "    else:\n",
    "        scale_name = '6_Octave'\n",
    "    for note in scalo:\n",
    "        note_dataset = note\n",
    "        note_folder = re.sub(' ','_',str(note_dataset)).lower()+'/'\n",
    "        df_note = pd.read_csv(common_path+output_path+note_folder +'/' + note+'_features.csv')\n",
    "        df_final = pd.concat((df_final,df_note), axis=0).reset_index(drop=True)\n",
    "    df_final.to_csv(common_path+output_path + scale_name+'_features.csv')"
   ]
  },
  {
   "cell_type": "markdown",
   "id": "b0bde62b",
   "metadata": {},
   "source": [
    "# feature extraction"
   ]
  },
  {
   "cell_type": "code",
   "execution_count": null,
   "id": "3da8bda5",
   "metadata": {},
   "outputs": [],
   "source": [
    "df_into.iloc[0]['Path']"
   ]
  },
  {
   "cell_type": "code",
   "execution_count": null,
   "id": "cdb0892a",
   "metadata": {},
   "outputs": [],
   "source": [
    "audio, Fs = librosa.load(common_path+input_path+'/TinySOL/Brass/Bass_Tuba/ordinario/BTb-ord-G1-pp-N-R100u.wav')"
   ]
  },
  {
   "cell_type": "markdown",
   "id": "9b3fb6e2",
   "metadata": {},
   "source": [
    "## frequencies"
   ]
  },
  {
   "cell_type": "code",
   "execution_count": null,
   "id": "a39ab960",
   "metadata": {},
   "outputs": [],
   "source": [
    "def main_frequencies():\n",
    "    for kk in range(0,len(notes)):\n",
    "        print(kk)\n",
    "        note_dataset = notes[kk]\n",
    "        note_folder = re.sub(' ','_',str(note_dataset)).lower()+'/'\n",
    "        if not os.path.exists(common_path+output_path+note_folder):\n",
    "            os.makedirs(common_path+output_path+note_folder)\n",
    "#        output_file = 'database_{}_cepstrum_features'.format(instrument_folder)\n",
    "        df_final = pd.DataFrame()\n",
    "        for woko in df_into[df_into['Pitch'] == note_dataset]['Path']:\n",
    "            df_final3 = pd.DataFrame()\n",
    "            wavo = common_path+input_path+'/TinySOL/' + woko\n",
    "            titulo = woko.split('/')[-1]\n",
    "            titulo = re.sub('.wav','',str(titulo))\n",
    "            audio, Fs = librosa.load(wavo)\n",
    "            length = audio.shape[0] / Fs\n",
    "            print(f\"length = {length}s\")\n",
    "            print(f\"num of chunks = {length/0.25}\")\n",
    "            print(titulo)\n",
    "            chonkos = chunks(audio, Fs, 0.25)\n",
    "            for chunk in chonkos:\n",
    "                sp_sorted, freq_sorted, sp_final, freq_final = extract_peaks_and_freqs(chunk, Fs)\n",
    "                rms = librosa.feature.rms(y=chunk, frame_length=len(chunk), hop_length=int(len(chunk)+2))\n",
    "                spec_cent = librosa.feature.spectral_centroid(y=chunk, sr=Fs, n_fft=len(chunk), hop_length=int(len(chunk)+2))\n",
    "                rolloff = librosa.feature.spectral_rolloff(y=chunk, sr=Fs, n_fft=len(chunk), hop_length=int(len(chunk)+2))\n",
    "                zcr = librosa.feature.zero_crossing_rate(chunk, frame_length=len(chunk), hop_length=int(len(chunk)+2))\n",
    "                df_final_2 = pd.DataFrame({'10_freq': [list(freq_sorted)[:10]], '10_peak': [list(sp_sorted)[:10]], 'note_played': [note_dataset]})\n",
    "                df_final_2['rms']= rms[0,:]\n",
    "                df_final_2['spec_cent']= spec_cent[0,:]\n",
    "                df_final_2['rolloff']= rolloff[0,:]\n",
    "                df_final_2['zcr']= zcr[0,:]\n",
    "                df_final3 = pd.concat((df_final3,df_final_2), axis=0).reset_index(drop=True)\n",
    "            df_final = pd.concat((df_final,df_final3), axis=0).reset_index(drop=True)\n",
    "        df_final.to_csv(common_path+output_path+'/'+note_folder + note_dataset+'_freq.csv', index=False)"
   ]
  },
  {
   "cell_type": "code",
   "execution_count": null,
   "id": "0fc825d6",
   "metadata": {},
   "outputs": [],
   "source": [
    "main_frequencies()"
   ]
  },
  {
   "cell_type": "markdown",
   "id": "7e7c9602",
   "metadata": {},
   "source": [
    "## nsynth"
   ]
  },
  {
   "cell_type": "code",
   "execution_count": null,
   "id": "eef91c34",
   "metadata": {},
   "outputs": [],
   "source": [
    "def main_frequencies_nsynth(examples, note):\n",
    "    note_dataset = note\n",
    "    note_folder = note.lower()+'/'\n",
    "#    if not os.path.isfile(common_path+output_path+note_folder):\n",
    "#        os.makedirs(common_path+output_path+note_folder)\n",
    "#        output_file = 'database_{}_cepstrum_features'.format(instrument_folder)\n",
    "    df_final = pd.DataFrame()\n",
    "    print(note)\n",
    "    for i in range(0,len(examples)):\n",
    "        print(i)\n",
    "        woko = examples[i]\n",
    "        df_final3 = pd.DataFrame()\n",
    "        wavo = input_folder+ woko\n",
    "        titulo = str(woko)\n",
    "        titulo = re.sub('.wav','',str(titulo))\n",
    "        audio, Fs = librosa.load(wavo)\n",
    "        length = audio.shape[0] / Fs\n",
    "#        print(f\"length = {length}s\")\n",
    "#        print(f\"num of chunks = {length/0.25}\")\n",
    "#        print(titulo)\n",
    "        chonkos = chunks(audio, Fs, 0.25)\n",
    "        for chunk in chonkos:\n",
    "            try:\n",
    "                sp_sorted, freq_sorted, sp_final, freq_final = extract_peaks_and_freqs(chunk, Fs)\n",
    "                rms = librosa.feature.rms(y=chunk, frame_length=len(chunk), hop_length=int(len(chunk)+2))\n",
    "                spec_cent = librosa.feature.spectral_centroid(y=chunk, sr=Fs, n_fft=len(chunk), hop_length=int(len(chunk)+2))\n",
    "                rolloff = librosa.feature.spectral_rolloff(y=chunk, sr=Fs, n_fft=len(chunk), hop_length=int(len(chunk)+2))\n",
    "                zcr = librosa.feature.zero_crossing_rate(chunk, frame_length=len(chunk), hop_length=int(len(chunk)+2))\n",
    "                df_final_2 = pd.DataFrame({'10_freq': [list(freq_sorted)[:10]], '10_peak': [list(sp_sorted)[:10]], 'note_played': [note_dataset]})\n",
    "                df_final_2['rms']= rms[0,:]\n",
    "                df_final_2['spec_cent']= spec_cent[0,:]\n",
    "                df_final_2['rolloff']= rolloff[0,:]\n",
    "                df_final_2['zcr']= zcr[0,:]\n",
    "                df_final3 = pd.concat((df_final3,df_final_2), axis=0).reset_index(drop=True)\n",
    "            except:\n",
    "                continue\n",
    "        df_final = pd.concat((df_final,df_final3), axis=0).reset_index(drop=True)\n",
    "    df_final.to_csv(output_folder + note_folder + note_dataset+'_nsynth_freq.csv', index=False)"
   ]
  },
  {
   "cell_type": "code",
   "execution_count": null,
   "id": "4867f518",
   "metadata": {},
   "outputs": [],
   "source": [
    "notes_incomplete = octave_MIDI.columns[1:]\n",
    "notes_complete = {}\n",
    "\n",
    "input_folder = '/home/jacs/Documents/DataScience/Personal/song_similarity_audio/nsynth-train/audio/'\n",
    "output_folder = '/home/jacs/Documents/DataScience/Personal/song_similarity/melodic_contour/'\n",
    "\n",
    "plop = os.listdir('/home/jacs/Documents/DataScience/Personal/song_similarity_audio/nsynth-train/audio/')\n",
    "\n",
    "for scale in [4,5,6]:\n",
    "    for note in notes_incomplete:\n",
    "        note_full = note + str(scale)\n",
    "        MIDI = int(octave_MIDI[note].iloc[scale+1])\n",
    "        nsynth_track = [plopo for plopo in plop if '0'+str(MIDI) == plopo[-11:-8]][:300]\n",
    "        print(note_full)\n",
    "        note_dataset = note_full\n",
    "        note_folder = note_full.lower()+'/'\n",
    "        if os.path.isfile(output_folder + note_folder + note_dataset+'_nsynth_freq.csv'):\n",
    "            continue\n",
    "        main_frequencies_nsynth(nsynth_track, note_full)"
   ]
  },
  {
   "cell_type": "code",
   "execution_count": 19,
   "id": "ec7172c4",
   "metadata": {},
   "outputs": [],
   "source": [
    "def hist_sum(freqs, sp, bins, sp_sum):\n",
    "    min_max_freq = np.arange(200,2000,1)\n",
    "    interval = int(len(min_max_freq)/bins)\n",
    "    freq_ranges = [(min(min_max_freq[i*interval:(i+1)*interval]),max(min_max_freq[i*interval:(i+1)*interval])) for i in range(0,bins)]\n",
    "#    print(freq_ranges)\n",
    "    for kk in range(0,len(freqs)):\n",
    "        freq = freqs[kk]\n",
    "        for rangee in freq_ranges:\n",
    "            ###### DUDA AQUI\n",
    "            rangee_string = str(rangee)\n",
    "            ###############\n",
    "            ###### DUDA AQUI 2\n",
    "            if freq in range(int(rangee[0]),int(rangee[1])):\n",
    "                try:\n",
    "                    sp_sum[rangee_string] += sp[kk]\n",
    "                except:\n",
    "                    sp_sum[rangee_string] = sp[kk]\n",
    "            else:\n",
    "                try:\n",
    "                    sp_sum[rangee_string] += 0\n",
    "                except:\n",
    "                    sp_sum[rangee_string] = 0\n",
    "            ###############\n",
    "    return sp_sum"
   ]
  },
  {
   "cell_type": "code",
   "execution_count": null,
   "id": "4df32fff",
   "metadata": {},
   "outputs": [],
   "source": [
    "plop = ['E4','E5','E6']"
   ]
  },
  {
   "cell_type": "code",
   "execution_count": null,
   "id": "6511ae1f",
   "metadata": {},
   "outputs": [],
   "source": [
    "notes = pd.read_csv('notes.csv')"
   ]
  },
  {
   "cell_type": "code",
   "execution_count": null,
   "id": "39c80d13",
   "metadata": {},
   "outputs": [],
   "source": [
    "notes_scale = [notes[j] for j in [notes.index(i) for i in plop]]"
   ]
  },
  {
   "cell_type": "code",
   "execution_count": null,
   "id": "9dd72c50",
   "metadata": {},
   "outputs": [],
   "source": [
    "notes_scale"
   ]
  },
  {
   "cell_type": "code",
   "execution_count": null,
   "id": "ccb02be6",
   "metadata": {},
   "outputs": [],
   "source": [
    "freqos"
   ]
  },
  {
   "cell_type": "markdown",
   "id": "3a7aa109",
   "metadata": {},
   "source": [
    "## join databases"
   ]
  },
  {
   "cell_type": "code",
   "execution_count": null,
   "id": "f99e4f4f",
   "metadata": {},
   "outputs": [],
   "source": [
    "scale_4"
   ]
  },
  {
   "cell_type": "code",
   "execution_count": 20,
   "id": "95bfa6b5",
   "metadata": {},
   "outputs": [
    {
     "name": "stdout",
     "output_type": "stream",
     "text": [
      "0\n",
      "1\n",
      "2\n",
      "3\n",
      "4\n",
      "5\n",
      "6\n",
      "7\n",
      "8\n",
      "9\n",
      "10\n",
      "11\n"
     ]
    }
   ],
   "source": [
    "ii = 0\n",
    "for note in scale_4:\n",
    "    print(ii)\n",
    "#    note = notes[5]\n",
    "    note_folder = re.sub(' ','_',str(note)).lower()\n",
    "    df_dumm = pd.read_csv(common_path+output_path+note_folder +'/' + note+'_nsynth_freq.csv')\n",
    "    df_dumm2 = pd.read_csv(common_path+output_path+note_folder +'/' + note+'_freq.csv')\n",
    "#    colors = ['b','g','r','k','c','m','y']\n",
    "    df_dumm3  = pd.concat((df_dumm,df_dumm2), axis=0).reset_index(drop=True)\n",
    "    df_dumm3['scale'] = [4]*len(df_dumm3)\n",
    "    df_dumm3['note'] = [note]*len(df_dumm3)\n",
    "    df_dumm3.to_csv(common_path+output_path+note_folder +'/' + note+'_freq_concat.csv', index=False)\n",
    "    df_final = pd.DataFrame()\n",
    "    for kk in range(0,len(df_dumm3)):\n",
    "        note_played = df_dumm3.iloc[kk]['note_played']\n",
    "        scale = df_dumm3.iloc[kk]['scale']\n",
    "        rms_dumm = df_dumm3.iloc[kk]['rms']\n",
    "        spec_cent_dumm = df_dumm3.iloc[kk]['spec_cent']\n",
    "        rolloff_dumm = df_dumm3.iloc[kk]['rolloff']\n",
    "        zcr_dumm = df_dumm3.iloc[kk]['zcr']\n",
    "        sp_sum = dict()\n",
    "        freqos = df_dumm3.iloc[kk]['10_freq']\n",
    "        freqos = freqos.replace('[','').replace(']','').split(', ')\n",
    "        try:\n",
    "            freqos = [float(freqo) for freqo in freqos]\n",
    "        except:\n",
    "            continue\n",
    "        spos = df_dumm3.iloc[kk]['10_peak']\n",
    "        spos = spos.replace('[','').replace(']','').split(', ')\n",
    "        spos = [float(spo) for spo in spos]\n",
    "        sp_sum= hist_sum(freqos, spos, 90, sp_sum)\n",
    "        df_final3 = pd.DataFrame({'freq_sp': [sp_sum], 'scale': [scale], 'note': [note], 'note_played': [note_played], \n",
    "                                 'rms': [rms_dumm],'spec_cent': [spec_cent_dumm], 'rolloff': [rolloff_dumm],\n",
    "                                 'zcr': [zcr_dumm]})\n",
    "        df_final = pd.concat((df_final,df_final3), axis=0).reset_index(drop=True)\n",
    "    df_final.to_csv(common_path+output_path+note_folder +'/' + note+'_features.csv', index=False)\n",
    "    ii += 1"
   ]
  },
  {
   "cell_type": "code",
   "execution_count": 21,
   "id": "2cd96e13",
   "metadata": {},
   "outputs": [
    {
     "name": "stdout",
     "output_type": "stream",
     "text": [
      "0\n",
      "1\n",
      "2\n",
      "3\n",
      "4\n",
      "5\n",
      "6\n",
      "7\n",
      "8\n",
      "9\n",
      "10\n",
      "11\n"
     ]
    }
   ],
   "source": [
    "ii = 0\n",
    "for note in scale_5:\n",
    "    print(ii)\n",
    "#    note = notes[5]\n",
    "    note_folder = re.sub(' ','_',str(note)).lower()\n",
    "    df_dumm = pd.read_csv(common_path+output_path+note_folder +'/' + note+'_nsynth_freq.csv')\n",
    "    df_dumm2 = pd.read_csv(common_path+output_path+note_folder +'/' + note+'_freq.csv')\n",
    "#    colors = ['b','g','r','k','c','m','y']\n",
    "    df_dumm3  = pd.concat((df_dumm,df_dumm2), axis=0).reset_index(drop=True)\n",
    "    df_dumm3['scale'] = [5]*len(df_dumm3)\n",
    "    df_dumm3['note'] = [note]*len(df_dumm3)\n",
    "    df_dumm3.to_csv(common_path+output_path+note_folder +'/' + note+'_freq_concat.csv', index=False)\n",
    "    df_final = pd.DataFrame()\n",
    "    for kk in range(0,len(df_dumm3)):\n",
    "        note_played = df_dumm3.iloc[kk]['note_played']\n",
    "        scale = df_dumm3.iloc[kk]['scale']\n",
    "        rms_dumm = df_dumm3.iloc[kk]['rms']\n",
    "        spec_cent_dumm = df_dumm3.iloc[kk]['spec_cent']\n",
    "        rolloff_dumm = df_dumm3.iloc[kk]['rolloff']\n",
    "        zcr_dumm = df_dumm3.iloc[kk]['zcr']\n",
    "        sp_sum = dict()\n",
    "        freqos = df_dumm3.iloc[kk]['10_freq']\n",
    "        freqos = freqos.replace('[','').replace(']','').split(', ')\n",
    "        try:\n",
    "            freqos = [float(freqo) for freqo in freqos]\n",
    "        except:\n",
    "            continue\n",
    "        spos = df_dumm3.iloc[kk]['10_peak']\n",
    "        spos = spos.replace('[','').replace(']','').split(', ')\n",
    "        spos = [float(spo) for spo in spos]\n",
    "        sp_sum= hist_sum(freqos, spos, 90, sp_sum)\n",
    "        df_final3 = pd.DataFrame({'freq_sp': [sp_sum], 'scale': [scale], 'note': [note], 'note_played': [note_played], \n",
    "                                 'rms': [rms_dumm],'spec_cent': [spec_cent_dumm], 'rolloff': [rolloff_dumm],\n",
    "                                 'zcr': [zcr_dumm]})\n",
    "        df_final = pd.concat((df_final,df_final3), axis=0).reset_index(drop=True)\n",
    "    df_final.to_csv(common_path+output_path+note_folder +'/' + note+'_features.csv', index=False)\n",
    "    ii += 1"
   ]
  },
  {
   "cell_type": "code",
   "execution_count": 22,
   "id": "178363a4",
   "metadata": {},
   "outputs": [
    {
     "name": "stdout",
     "output_type": "stream",
     "text": [
      "0\n",
      "1\n",
      "2\n",
      "3\n",
      "4\n",
      "5\n",
      "6\n",
      "7\n",
      "8\n",
      "9\n",
      "10\n",
      "11\n"
     ]
    }
   ],
   "source": [
    "ii = 0\n",
    "for note in scale_6:\n",
    "    print(ii)\n",
    "#    note = notes[5]\n",
    "    note_folder = re.sub(' ','_',str(note)).lower()\n",
    "    df_dumm = pd.read_csv(common_path+output_path+note_folder +'/' + note+'_nsynth_freq.csv')\n",
    "    df_dumm2 = pd.read_csv(common_path+output_path+note_folder +'/' + note+'_freq.csv')\n",
    "#    colors = ['b','g','r','k','c','m','y']\n",
    "    df_dumm3  = pd.concat((df_dumm,df_dumm2), axis=0).reset_index(drop=True)\n",
    "    df_dumm3['scale'] = [6]*len(df_dumm3)\n",
    "    df_dumm3['note'] = [note]*len(df_dumm3)\n",
    "    df_dumm3.to_csv(common_path+output_path+note_folder +'/' + note+'_freq_concat.csv', index=False)\n",
    "    df_final = pd.DataFrame()\n",
    "    for kk in range(0,len(df_dumm3)):\n",
    "        note_played = df_dumm3.iloc[kk]['note_played']\n",
    "        scale = df_dumm3.iloc[kk]['scale']\n",
    "        rms_dumm = df_dumm3.iloc[kk]['rms']\n",
    "        spec_cent_dumm = df_dumm3.iloc[kk]['spec_cent']\n",
    "        rolloff_dumm = df_dumm3.iloc[kk]['rolloff']\n",
    "        zcr_dumm = df_dumm3.iloc[kk]['zcr']\n",
    "        sp_sum = dict()\n",
    "        freqos = df_dumm3.iloc[kk]['10_freq']\n",
    "        freqos = freqos.replace('[','').replace(']','').split(', ')\n",
    "        try:\n",
    "            freqos = [float(freqo) for freqo in freqos]\n",
    "        except:\n",
    "            continue\n",
    "        spos = df_dumm3.iloc[kk]['10_peak']\n",
    "        spos = spos.replace('[','').replace(']','').split(', ')\n",
    "        spos = [float(spo) for spo in spos]\n",
    "        sp_sum= hist_sum(freqos, spos, 90, sp_sum)\n",
    "        df_final3 = pd.DataFrame({'freq_sp': [sp_sum], 'scale': [scale], 'note': [note], 'note_played': [note_played], \n",
    "                                 'rms': [rms_dumm],'spec_cent': [spec_cent_dumm], 'rolloff': [rolloff_dumm],\n",
    "                                 'zcr': [zcr_dumm]})\n",
    "        df_final = pd.concat((df_final,df_final3), axis=0).reset_index(drop=True)\n",
    "    df_final.to_csv(common_path+output_path+note_folder +'/' + note+'_features.csv', index=False)\n",
    "    ii += 1"
   ]
  },
  {
   "cell_type": "code",
   "execution_count": null,
   "id": "1a3b2ad7",
   "metadata": {},
   "outputs": [],
   "source": [
    "jj = 0\n",
    "plt.figure()\n",
    "for note in scale_4:\n",
    "#    note = notes[5]\n",
    "    note_folder = re.sub(' ','_',str(note)).lower()\n",
    "    df_dumm = pd.read_csv(common_path+output_path+note_folder +'/' + note+'_nsynth_freq.csv')\n",
    "#    colors = ['b','g','r','k','c','m','y']\n",
    "    colors = ['y']\n",
    "    for kk in range(0,len(df_dumm)):\n",
    "        sp_sum = dict()\n",
    "        freqos = df_dumm.iloc[kk]['10_freq']\n",
    "        freqos = freqos.replace('[','').replace(']','').split(', ')\n",
    "        try:\n",
    "            freqos = [float(freqo) for freqo in freqos]\n",
    "        except:\n",
    "            continue\n",
    "        spos = df_dumm.iloc[kk]['10_peak']\n",
    "        spos = spos.replace('[','').replace(']','').split(', ')\n",
    "        spos = [float(spo) for spo in spos]\n",
    "        sp_sum= hist_sum(freqos, spos, 90, sp_sum)\n",
    "        if kk == 9:\n",
    "            plt.plot(list(sp_sum.keys()), list(sp_sum.values()), '.'+colors[jj] , label = note)\n",
    "        else:\n",
    "            try:\n",
    "                plt.plot(list(sp_sum.keys()), list(sp_sum.values()), '.'+colors[jj])\n",
    "            except:\n",
    "                jj = 0\n",
    "                plt.plot(list(sp_sum.keys()), list(sp_sum.values()), '.'+colors[jj])\n",
    "        \n",
    "    jj += 1\n",
    "ax = plt.gca()\n",
    "ax.tick_params(axis='x', labelrotation = 90)\n",
    "plt.title('4th Octave')\n",
    "#plt.legend()\n",
    "plt.show()"
   ]
  },
  {
   "cell_type": "code",
   "execution_count": null,
   "id": "ae17610e",
   "metadata": {},
   "outputs": [],
   "source": [
    "jj = 0\n",
    "plt.figure()\n",
    "for note in scale_5:\n",
    "#    note = notes[5]\n",
    "    note_folder = re.sub(' ','_',str(note)).lower()\n",
    "    df_dumm = pd.read_csv(common_path+output_path+note_folder +'/' + note+'_nsynth_freq.csv')\n",
    "#    colors = ['b','g','r','k','c','m','y']\n",
    "    colors = ['c']\n",
    "    for kk in range(0,len(df_dumm)):\n",
    "        sp_sum = dict()\n",
    "        freqos = df_dumm.iloc[kk]['10_freq']\n",
    "        freqos = freqos.replace('[','').replace(']','').split(', ')\n",
    "        try:\n",
    "            freqos = [float(freqo) for freqo in freqos]\n",
    "        except:\n",
    "            continue\n",
    "        spos = df_dumm.iloc[kk]['10_peak']\n",
    "        spos = spos.replace('[','').replace(']','').split(', ')\n",
    "        spos = [float(spo) for spo in spos]\n",
    "        sp_sum= hist_sum(freqos, spos, 90, sp_sum)\n",
    "        if kk == 9:\n",
    "            plt.plot(list(sp_sum.keys()), list(sp_sum.values()), '.'+colors[jj] , label = note)\n",
    "        else:\n",
    "            try:\n",
    "                plt.plot(list(sp_sum.keys()), list(sp_sum.values()), '.'+colors[jj])\n",
    "            except:\n",
    "                jj = 0\n",
    "                plt.plot(list(sp_sum.keys()), list(sp_sum.values()), '.'+colors[jj])\n",
    "        \n",
    "    jj += 1\n",
    "ax = plt.gca()\n",
    "ax.tick_params(axis='x', labelrotation = 90)\n",
    "plt.title('5th Octave')\n",
    "#plt.legend()\n",
    "plt.show()"
   ]
  },
  {
   "cell_type": "code",
   "execution_count": null,
   "id": "563d5434",
   "metadata": {},
   "outputs": [],
   "source": [
    "jj = 0\n",
    "plt.figure()\n",
    "for note in scale_6:\n",
    "#    note = notes[5]\n",
    "    note_folder = re.sub(' ','_',str(note)).lower()\n",
    "    df_dumm = pd.read_csv(common_path+output_path+note_folder +'/' + note+'_nsynth_freq.csv')\n",
    "#    colors = ['b','g','r','k','c','m','y']\n",
    "    colors = ['g']\n",
    "    for kk in range(0,len(df_dumm)):\n",
    "        sp_sum = dict()\n",
    "        freqos = df_dumm.iloc[kk]['10_freq']\n",
    "        freqos = freqos.replace('[','').replace(']','').split(', ')\n",
    "        try:\n",
    "            freqos = [float(freqo) for freqo in freqos]\n",
    "        except:\n",
    "            continue\n",
    "        spos = df_dumm.iloc[kk]['10_peak']\n",
    "        spos = spos.replace('[','').replace(']','').split(', ')\n",
    "        spos = [float(spo) for spo in spos]\n",
    "        sp_sum= hist_sum(freqos, spos, 90, sp_sum)\n",
    "        if kk == 9:\n",
    "            plt.plot(list(sp_sum.keys()), list(sp_sum.values()), '.'+colors[jj] , label = note)\n",
    "        else:\n",
    "            try:\n",
    "                plt.plot(list(sp_sum.keys()), list(sp_sum.values()), '.'+colors[jj])\n",
    "            except:\n",
    "                jj = 0\n",
    "                plt.plot(list(sp_sum.keys()), list(sp_sum.values()), '.'+colors[jj])\n",
    "        \n",
    "    jj += 1\n",
    "ax = plt.gca()\n",
    "ax.tick_params(axis='x', labelrotation = 90)\n",
    "plt.title('6th Octave')\n",
    "#plt.legend()\n",
    "plt.show()"
   ]
  },
  {
   "cell_type": "code",
   "execution_count": null,
   "id": "ac25c82a",
   "metadata": {},
   "outputs": [],
   "source": [
    "#for ii in range(0,len(notes_scale)):\n",
    "#    note = notes_scale[ii]\n",
    "jj = 0\n",
    "plt.figure()\n",
    "for note in notes_scale:\n",
    "#    note = notes[5]\n",
    "    note_folder = re.sub(' ','_',str(note)).lower()\n",
    "    df_dumm = pd.read_csv(common_path+output_path+note_folder +'/' + note+'_freq.csv')\n",
    "    colors = ['b','g','r','k','c','m','y']\n",
    "    for kk in range(0,10):\n",
    "        freqos = df_dumm.iloc[kk]['10_freq']\n",
    "        freqos = freqos.replace('[','').replace(']','').split(', ')\n",
    "        freqos = [float(freqo) for freqo in freqos]\n",
    "        spos = df_dumm.iloc[kk]['10_peak']\n",
    "        spos = spos.replace('[','').replace(']','').split(', ')\n",
    "        spos = [float(spo) for spo in spos]\n",
    "        if kk == 9:\n",
    "            plt.plot(freqos, spos, '*'+colors[jj], label= note)\n",
    "        else:\n",
    "            try:\n",
    "                plt.plot(freqos, spos, '*'+colors[jj])\n",
    "            except:\n",
    "                jj = 0\n",
    "                plt.plot(freqos, spos, '*'+colors[jj])\n",
    "        \n",
    "    jj += 1\n",
    "plt.legend()\n",
    "plt.show()\n",
    "    \n",
    "#    plt.show()"
   ]
  },
  {
   "cell_type": "markdown",
   "id": "ac80f0b0",
   "metadata": {},
   "source": [
    "## cepstrum"
   ]
  },
  {
   "cell_type": "code",
   "execution_count": null,
   "id": "c09156a5",
   "metadata": {},
   "outputs": [],
   "source": [
    "def main_cepstrum():\n",
    "    for kk in range(0,len(notes)):\n",
    "        print(kk)\n",
    "        instrument_dataset = notes[kk]\n",
    "        instrument_folder = re.sub(' ','_',str(instrument_dataset)).lower()+'/'\n",
    "        if not os.path.exists(common_path+output_path+instrument_folder):\n",
    "            os.makedirs(common_path+output_path+instrument_folder)\n",
    "#        output_file = 'database_{}_cepstrum_features'.format(instrument_folder)\n",
    "        df_final = pd.DataFrame()\n",
    "        df_final3 = pd.DataFrame()\n",
    "        for woko in df_into[df_into['Pitch'] == instrument_dataset]['Path']:\n",
    "            wavo = common_path+input_path+'/TinySOL/' + woko\n",
    "            titulo = woko.split('/')[-1]\n",
    "            titulo = re.sub('.wav','',str(titulo))\n",
    "            audio, Fs = librosa.load(wavo)\n",
    "            length = audio.shape[0] / Fs\n",
    "            print(f\"length = {length}s\")\n",
    "            print(titulo)\n",
    "            indexoo = 0\n",
    "            df_final_2 = mel_freq_cepstrum(audio, Fs, 13, kk, instrument_dataset)\n",
    "            df_final3 = pd.concat((df_final3,df_final_2), axis=0).reset_index(drop=True)\n",
    "        df_final = pd.concat((df_final,df_final3), axis=0).reset_index(drop=True)\n",
    "        df_final.to_csv(common_path+output_path+'/'+instrument_folder + instrument_dataset+'.csv', index=False)"
   ]
  },
  {
   "cell_type": "code",
   "execution_count": null,
   "id": "20661a42",
   "metadata": {},
   "outputs": [],
   "source": [
    "main_cepstrum()"
   ]
  },
  {
   "cell_type": "code",
   "execution_count": null,
   "id": "36d98163",
   "metadata": {},
   "outputs": [],
   "source": [
    "brass_cols = ['spec_cent', 'spec_bw',\n",
    "       'rolloff', 'zcr', 'mfccs_0', 'mfccs_1', 'mfccs_2', 'mfccs_3', 'mfccs_4',\n",
    "       'mfccs_5', 'mfccs_6', 'mfccs_7', 'mfccs_8', 'mfccs_9', 'mfccs_10',\n",
    "       'mfccs_11', 'mfccs_12']"
   ]
  },
  {
   "cell_type": "code",
   "execution_count": null,
   "id": "eddd0731",
   "metadata": {},
   "outputs": [],
   "source": [
    "#brass_cols = list(df_instrument.columns)[3:-4]\n",
    "for col in brass_cols:\n",
    "    for note in notes_scale:\n",
    "        note_folder = re.sub(' ','_',str(note)).lower()\n",
    "        df_dumm = pd.read_csv(common_path+output_path+note_folder +'/' + note+'.csv')\n",
    "#        df_dumm = df_dumm[df_dumm['note_played'] == note]\n",
    "        df_dumm[col].hist(bins=20, legend =True)\n",
    "    plt.title(col)\n",
    "    plt.show()"
   ]
  },
  {
   "cell_type": "code",
   "execution_count": null,
   "id": "e49c90b0",
   "metadata": {},
   "outputs": [],
   "source": []
  },
  {
   "cell_type": "code",
   "execution_count": null,
   "id": "7bee1bad",
   "metadata": {},
   "outputs": [],
   "source": []
  },
  {
   "cell_type": "code",
   "execution_count": null,
   "id": "39109bc2",
   "metadata": {},
   "outputs": [],
   "source": []
  },
  {
   "cell_type": "code",
   "execution_count": null,
   "id": "065df94c",
   "metadata": {},
   "outputs": [],
   "source": []
  },
  {
   "cell_type": "code",
   "execution_count": null,
   "id": "6b4257b6",
   "metadata": {},
   "outputs": [],
   "source": []
  },
  {
   "cell_type": "code",
   "execution_count": null,
   "id": "9c61da01",
   "metadata": {},
   "outputs": [],
   "source": []
  },
  {
   "cell_type": "code",
   "execution_count": null,
   "id": "117153c6",
   "metadata": {},
   "outputs": [],
   "source": []
  },
  {
   "cell_type": "code",
   "execution_count": null,
   "id": "03b2dfdb",
   "metadata": {},
   "outputs": [],
   "source": [
    "tinysol = ['Bass Tuba', 'French Horn', 'Trombone', 'Trumpet in C', 'Accordion', 'Cello', \n",
    "           'Contrabass', 'Viola', 'Violin', 'Alto Saxophone', 'Bassoon', 'Clarinet in Bb',\n",
    "           'Flute', 'Oboe']"
   ]
  },
  {
   "cell_type": "code",
   "execution_count": null,
   "id": "3bfda372",
   "metadata": {},
   "outputs": [],
   "source": [
    "instruments = ['Bass Tuba','French Horn','Trombone','Trumpet in C','Accordion','Cello','Contrabass','Viola','Violin','Alto Saxophone','Bassoon','Clarinet in Bb','Flute','Oboe','Guitar','Electric guitar','Acoustic guitar','Bass guitar','Tapping','Steelpan','Percussion', 'Drum and bass', 'Wind instrument', 'Bowed string instrument', 'Keyboard', 'Single Voice Singing', 'Group Singing', 'Noise']"
   ]
  },
  {
   "cell_type": "code",
   "execution_count": null,
   "id": "fa2ddbad",
   "metadata": {},
   "outputs": [],
   "source": [
    "set(instruments) - set(tinysol)"
   ]
  },
  {
   "cell_type": "code",
   "execution_count": null,
   "id": "657fb026",
   "metadata": {},
   "outputs": [],
   "source": [
    "instruments_reduced = {'woodwind': ['Clarinet in Bb','Flute','Oboe', 'Bassoon', 'Alto Saxophone', 'Wind Instrument'],\n",
    "                       'brass':['Bass Tuba','French Horn','Trombone', 'Trumpet in C'],\n",
    "                       'bowed_string_instruments': ['Cello','Viola','Violin', 'Bowed string instrument'],\n",
    "                       'plucked_string_instruments':['Guitar','Electric guitar','Acoustic guitar', 'Tapping', 'Bass guitar','Contrabass'],\n",
    "                       'keyboard': ['Keyboard','Accordion'],\n",
    "                       'percussion': ['Steelpan','Percussion', 'Drum and bass'],\n",
    "                       'singing': ['Single Voice Singing', 'Group Singing'],\n",
    "                       'noise': ['Noise']}"
   ]
  },
  {
   "cell_type": "code",
   "execution_count": null,
   "id": "5b916fae",
   "metadata": {},
   "outputs": [],
   "source": [
    "brass = pd.read_csv('/home/jacs/Documents/DataScience/Personal/data/keyboard.csv')"
   ]
  },
  {
   "cell_type": "code",
   "execution_count": null,
   "id": "c439f068",
   "metadata": {},
   "outputs": [],
   "source": [
    "instruments = list(dict(brass.groupby(['instrument']).count()['instrument_name']).keys())"
   ]
  },
  {
   "cell_type": "code",
   "execution_count": null,
   "id": "2f4ce4d3",
   "metadata": {},
   "outputs": [],
   "source": [
    "brass.groupby(['instrument']).count()['instrument_name']"
   ]
  },
  {
   "cell_type": "code",
   "execution_count": null,
   "id": "91ef7a6f",
   "metadata": {},
   "outputs": [],
   "source": []
  },
  {
   "cell_type": "code",
   "execution_count": null,
   "id": "0a45aa54",
   "metadata": {},
   "outputs": [],
   "source": []
  },
  {
   "cell_type": "code",
   "execution_count": null,
   "id": "8f9f7d85",
   "metadata": {},
   "outputs": [],
   "source": []
  },
  {
   "cell_type": "code",
   "execution_count": null,
   "id": "b700acb4",
   "metadata": {},
   "outputs": [],
   "source": []
  },
  {
   "cell_type": "code",
   "execution_count": null,
   "id": "7404afc6",
   "metadata": {},
   "outputs": [],
   "source": []
  },
  {
   "cell_type": "code",
   "execution_count": null,
   "id": "6be4296c",
   "metadata": {},
   "outputs": [],
   "source": [
    "sol_path = '/home/jacs/Documents/DataScience/Personal/song_similarity_audio/'"
   ]
  },
  {
   "cell_type": "code",
   "execution_count": null,
   "id": "c6fbbd8d",
   "metadata": {},
   "outputs": [],
   "source": [
    "trumpet_sol = pd.read_csv('/home/jacs/Documents/DataScience/Personal/song_similarity_audio/trumpet_in_c/database_trumpet_in_c_cepstrum_features.csv')\n",
    "trumpet_youtube = pd.read_csv('/home/jacs/Documents/DataScience/Personal/data/instruments/original/trumpet_in_c.csv')"
   ]
  },
  {
   "cell_type": "code",
   "execution_count": null,
   "id": "9d1b4337",
   "metadata": {},
   "outputs": [],
   "source": [
    "def best_examples(df_stats, df_bowed):\n",
    "    df_bowed_final = pd.DataFrame()\n",
    "#    cols = list(df_bowed.columns[1:-4])\n",
    "    cols = ['mfccs_0','mfccs_1', 'mfccs_2', 'mfccs_3', 'mfccs_4', 'mfccs_5', 'mfccs_6','mfccs_7', 'mfccs_8', 'mfccs_9', 'mfccs_10', 'mfccs_11', 'mfccs_12']\n",
    "    for i in range(0,len(cols)):\n",
    "        col = cols[i]\n",
    "        stats = df_stats[col].describe()[['mean', 'std']].values\n",
    "        if i == 0 :\n",
    "            df_bowed_final = df_bowed[df_bowed[col].apply(lambda x: stats[0]-(3*stats[1]) <= x <= stats[0]+(3*stats[1]))]\n",
    "            continue\n",
    "        else:\n",
    "            df_iter = df_bowed[df_bowed[col].apply(lambda x: stats[0]-(3*stats[1]) <= x <= stats[0]+(3*stats[1]))]\n",
    "            df_bowed_final = pd.merge(df_bowed_final, df_iter, left_index=True, right_index=True)[['index_x', 'rms_x', 'spec_cent_x', 'spec_bw_x', 'rolloff_x', 'zcr_x',\n",
    "                                                                                        'mfccs_0_x', 'mfccs_1_x', 'mfccs_2_x', 'mfccs_3_x', 'mfccs_4_x',\n",
    "                                                                                        'mfccs_5_x', 'mfccs_6_x', 'mfccs_7_x', 'mfccs_8_x', 'mfccs_9_x',\n",
    "                                                                                        'mfccs_10_x', 'mfccs_11_x', 'mfccs_12_x', 'instrument_x',\n",
    "                                                                                        'note_played_x', 'instrument_name_x']]\n",
    "            df_iter = pd.DataFrame()\n",
    "    df_bowed_final = df_bowed_final.drop_duplicates()\n",
    "    df_bowed_final.columns = ['index', 'rms', 'spec_cent', 'spec_bw', 'rolloff', 'zcr', 'mfccs_0',\n",
    "       'mfccs_1', 'mfccs_2', 'mfccs_3', 'mfccs_4', 'mfccs_5', 'mfccs_6',\n",
    "       'mfccs_7', 'mfccs_8', 'mfccs_9', 'mfccs_10', 'mfccs_11', 'mfccs_12',\n",
    "       'instrument', 'note_played', 'instrument_name']\n",
    "    df_bowed_final = df_bowed_final.reset_index(drop=True)\n",
    "    return df_bowed_final"
   ]
  },
  {
   "cell_type": "code",
   "execution_count": null,
   "id": "324c3d92",
   "metadata": {},
   "outputs": [],
   "source": [
    "trumpet_sol.rename(columns={\"rms\": \"rmeso\"}, inplace=True)"
   ]
  },
  {
   "cell_type": "code",
   "execution_count": null,
   "id": "e786dbb6",
   "metadata": {},
   "outputs": [],
   "source": [
    "df_blop = df_blop[['index', 'rms', 'spec_cent', 'spec_bw', 'rolloff', 'zcr',\n",
    "       'mfccs_0', 'mfccs_1', 'mfccs_2', 'mfccs_3', 'mfccs_4', 'mfccs_5',\n",
    "       'mfccs_6', 'mfccs_7', 'mfccs_8', 'mfccs_9', 'mfccs_10', 'mfccs_11',\n",
    "       'mfccs_12', 'instrument', 'note_played', 'instrument_name']]\n",
    "\n",
    "df_blop"
   ]
  },
  {
   "cell_type": "code",
   "execution_count": null,
   "id": "bd47c566",
   "metadata": {},
   "outputs": [],
   "source": [
    "route1 = '/home/jacs/Documents/DataScience/Personal/data/instruments/original/'\n",
    "for blop in instruments:\n",
    "    instrument_name = re.sub(' ','_',str(blop)).lower()\n",
    "    df_blop = pd.read_csv(route1+'{}.csv'.format(instrument_name))\n",
    "    df_blop.rename(columns={\"indstrument_name\": \"instrument_name\"}, inplace=True)\n",
    "    dF_blop = df_blop[['index', 'rms', 'spec_cent', 'spec_bw', 'rolloff', 'zcr',\n",
    "       'mfccs_0', 'mfccs_1', 'mfccs_2', 'mfccs_3', 'mfccs_4', 'mfccs_5',\n",
    "       'mfccs_6', 'mfccs_7', 'mfccs_8', 'mfccs_9', 'mfccs_10', 'mfccs_11',\n",
    "       'mfccs_12', 'instrument', 'note_played', 'instrument_name']]\n",
    "    df_blop.to_csv(route1 +'{}.csv'.format(instrument_name), index=False)\n",
    "    print(instrument_name)"
   ]
  },
  {
   "cell_type": "code",
   "execution_count": null,
   "id": "38eac1c5",
   "metadata": {},
   "outputs": [],
   "source": [
    "for sol in tinysol:\n",
    "    sol_lower = re.sub(' ','_',str(sol)).lower()\n",
    "    print(sol_lower)\n",
    "    df_sol = pd.read_csv(sol_path + sol_lower+'/'+'database_{}_cepstrum_features.csv'.format(sol_lower))\n",
    "    df_non_sol = pd.read_csv('/home/jacs/Documents/DataScience/Personal/data/instruments/original/{}.csv'.format(sol_lower))\n",
    "    print(df_non_sol.shape)\n",
    "    df_final=best_examples(df_sol, df_non_sol)\n",
    "    df_final.to_csv('/home/jacs/Documents/DataScience/Personal/data/instruments/{}.csv'.format(sol_lower))\n",
    "    print(df_final.shape)"
   ]
  },
  {
   "cell_type": "code",
   "execution_count": null,
   "id": "261b01e4",
   "metadata": {},
   "outputs": [],
   "source": [
    "cols = ['mfccs_0',\n",
    "       'mfccs_1', 'mfccs_2', 'mfccs_3', 'mfccs_4', 'mfccs_5', 'mfccs_6',\n",
    "       'mfccs_7', 'mfccs_8', 'mfccs_9', 'mfccs_10', 'mfccs_11', 'mfccs_12']\n",
    "\n",
    "for i in range(0,len(cols)):\n",
    "    col = cols[i]\n",
    "    stats = trumpet_sol[col].describe()[['mean', 'std']].values\n",
    "    print(stats)\n",
    "    if i == 0 :\n",
    "        df_bowed_final = trumpet_youtube[trumpet_youtube[col].apply(lambda x: stats[0]-(2*stats[1]) <= x <= stats[0]+(2*stats[1]))]\n",
    "        continue\n",
    "    else:\n",
    "        df_iter = trumpet_youtube[trumpet_youtube[col].apply(lambda x: stats[0]-(2*stats[1]) <= x <= stats[0]+(2*stats[1]))]\n",
    "        df_bowed_final = pd.merge(df_bowed_final, df_iter, left_index=True, right_index=True)[['index_x', 'rms_x', 'spec_cent_x', 'spec_bw_x', 'rolloff_x', 'zcr_x',\n",
    "                                                                                    'mfccs_0_x', 'mfccs_1_x', 'mfccs_2_x', 'mfccs_3_x', 'mfccs_4_x',\n",
    "                                                                                    'mfccs_5_x', 'mfccs_6_x', 'mfccs_7_x', 'mfccs_8_x', 'mfccs_9_x',\n",
    "                                                                                    'mfccs_10_x', 'mfccs_11_x', 'mfccs_12_x', 'instrument_x',\n",
    "                                                                                    'note_played_x']]\n",
    "        df_iter = pd.DataFrame()\n",
    "df_bowed_final = df_bowed_final.drop_duplicates()\n",
    "#df_bowed_final.columns = ['index', 'rms', 'spec_cent', 'spec_bw', 'rolloff', 'zcr', 'mfccs_0',\n",
    "#   'mfccs_1', 'mfccs_2', 'mfccs_3', 'mfccs_4', 'mfccs_5', 'mfccs_6',\n",
    "#   'mfccs_7', 'mfccs_8', 'mfccs_9', 'mfccs_10', 'mfccs_11', 'mfccs_12',\n",
    "#   'instrument', 'note_played', 'instrument_name']\n",
    "df_bowed_final = df_bowed_final.reset_index(drop=True)"
   ]
  },
  {
   "cell_type": "code",
   "execution_count": null,
   "id": "70d73af6",
   "metadata": {},
   "outputs": [],
   "source": [
    "df_bowed_final"
   ]
  },
  {
   "cell_type": "code",
   "execution_count": null,
   "id": "163086fa",
   "metadata": {},
   "outputs": [],
   "source": [
    "trumpet_youtube.shape"
   ]
  },
  {
   "cell_type": "code",
   "execution_count": null,
   "id": "61283b1a",
   "metadata": {},
   "outputs": [],
   "source": []
  },
  {
   "cell_type": "code",
   "execution_count": null,
   "id": "4f9268e4",
   "metadata": {},
   "outputs": [],
   "source": [
    "instruments_reduced['woodwind']"
   ]
  },
  {
   "cell_type": "code",
   "execution_count": null,
   "id": "cd13f75c",
   "metadata": {},
   "outputs": [],
   "source": [
    "final_data_path = common_path + dummy_path + 'data/new/' #instrument_folder"
   ]
  },
  {
   "cell_type": "code",
   "execution_count": null,
   "id": "bd5519f0",
   "metadata": {},
   "outputs": [],
   "source": [
    "input_path = '/home/jacs/Documents/DataScience/Personal/data/instruments/original/'\n",
    "output_path = '/home/jacs/Documents/DataScience/Personal/data/instruments/new/'"
   ]
  },
  {
   "cell_type": "code",
   "execution_count": null,
   "id": "f7a137e3",
   "metadata": {},
   "outputs": [],
   "source": [
    "blop = pd.read_csv('/home/jacs/Documents/DataScience/Personal/data/instruments/cello.csv')"
   ]
  },
  {
   "cell_type": "code",
   "execution_count": null,
   "id": "e22c890b",
   "metadata": {},
   "outputs": [],
   "source": [
    "best_examples(blop)"
   ]
  },
  {
   "cell_type": "code",
   "execution_count": null,
   "id": "779a14a8",
   "metadata": {},
   "outputs": [],
   "source": [
    "for pp in range(0,len(instruments)):\n",
    "    instrument = instruments[pp]\n",
    "    instrument_folder = re.sub(' ','_',str(instrument)).lower()#+'/'\n",
    "    print(instrument_folder)\n",
    "    df_iteration = pd.read_csv(input_path + instrument_folder+'.csv')\n",
    "    df_iteration = best_examples(df_iteration)\n",
    "    df_iteration.to_csv(output_path+'{}.csv'.format(instrument_folder))"
   ]
  },
  {
   "cell_type": "code",
   "execution_count": null,
   "id": "c414db22",
   "metadata": {},
   "outputs": [],
   "source": []
  },
  {
   "cell_type": "code",
   "execution_count": null,
   "id": "ea9b46c1",
   "metadata": {},
   "outputs": [],
   "source": [
    "for pp in range(0,len(instruments)):\n",
    "    if not os.path.exists(final_data_path):\n",
    "        os.makedirs(final_data_path)\n",
    "    df_final2 = pd.DataFrame([])\n",
    "    instrument = instruments[pp]\n",
    "#        print(instrument)\n",
    "    instrument_folder = re.sub(' ','_',str(instrument)).lower()#+'/'\n",
    "    input_data_path = common_path + input_path+ instrument_folder\n",
    "#    print(os.listdir(path))\n",
    "    for file in os.listdir(input_data_path):\n",
    "        if file == '{}_youtube_database_enrichment.csv'.format(instrument_folder):\n",
    "            continue\n",
    "        else:\n",
    "            print(file)\n",
    "            df_iteration = pd.read_csv(input_data_path+'/'+file)\n",
    "            df_final2 = pd.concat((df_final2,df_iteration), axis=0).reset_index(drop=True)\n",
    "    df_final2.to_csv(final_data_path+'{}.csv'.format(instrument_folder))\n",
    "#    links_audio = list(df_links['youtube_links'])\n",
    "#        print(instrument,len(links_audio))\n",
    "#    titles = list(df_links['title'])\n"
   ]
  },
  {
   "cell_type": "code",
   "execution_count": null,
   "id": "dde0f881",
   "metadata": {},
   "outputs": [],
   "source": [
    "blop = pd.read_csv('/home/jacs/Documents/DataScience/Personal/data/instruments/accordion.csv')"
   ]
  },
  {
   "cell_type": "code",
   "execution_count": null,
   "id": "f82e23e2",
   "metadata": {},
   "outputs": [],
   "source": [
    "stats = blop['mfccs_1'].describe()[['mean', 'std']].values\n",
    "mffc1 = blop[blop['mfccs_1'].apply(lambda x: stats[0]-stats[1] <= x <= stats[0]+stats[1])]\n",
    "\n",
    "stats = blop['mfccs_2'].describe()[['mean', 'std']].values\n",
    "mfcc2 = blop[blop['mfccs_2'].apply(lambda x: stats[0]-stats[1] <= x <= stats[0]+stats[1])]\n",
    "\n",
    "stats = blop['mfccs_3'].describe()[['mean', 'std']].values\n",
    "mfcc3 = blop[blop['mfccs_3'].apply(lambda x: stats[0]-stats[1] <= x <= stats[0]+stats[1])]\n",
    "\n",
    "df_bowed_final = pd.merge(mffc1, mfcc2, left_index=True, right_index=True)[['index_x', 'rms_x', 'spec_cent_x', 'spec_bw_x', 'rolloff_x', 'zcr_x',\n",
    "       'mfccs_0_x', 'mfccs_1_x', 'mfccs_2_x', 'mfccs_3_x', 'mfccs_4_x',\n",
    "       'mfccs_5_x', 'mfccs_6_x', 'mfccs_7_x', 'mfccs_8_x', 'mfccs_9_x',\n",
    "       'mfccs_10_x', 'mfccs_11_x', 'mfccs_12_x', 'instrument_x',\n",
    "       'note_played_x', 'instrument_name_x']]\n",
    "\n",
    "df_bowed_final = pd.merge(df_bowed_final, mfcc3, left_index=True, right_index=True)[['index_x', 'rms_x', 'spec_cent_x', 'spec_bw_x', 'rolloff_x', 'zcr_x',\n",
    "       'mfccs_0_x', 'mfccs_1_x', 'mfccs_2_x', 'mfccs_3_x', 'mfccs_4_x',\n",
    "       'mfccs_5_x', 'mfccs_6_x', 'mfccs_7_x', 'mfccs_8_x', 'mfccs_9_x',\n",
    "       'mfccs_10_x', 'mfccs_11_x', 'mfccs_12_x', 'instrument_x',\n",
    "       'note_played_x', 'instrument_name_x']]\n",
    "\n",
    "print(mffc1.shape, mfcc2.shape, mfcc3.shape, df_bowed_final.shape)"
   ]
  },
  {
   "cell_type": "code",
   "execution_count": null,
   "id": "2684f877",
   "metadata": {},
   "outputs": [],
   "source": [
    "setto = set(mffc1.index) & set(mfcc2.index)"
   ]
  },
  {
   "cell_type": "code",
   "execution_count": null,
   "id": "d6a2ef27",
   "metadata": {},
   "outputs": [],
   "source": [
    "pd.merge(mffc1, mfcc2, left_index=True, right_index=True)[['index_x', 'rms_x', 'spec_cent_x', 'spec_bw_x', 'rolloff_x', 'zcr_x',\n",
    "       'mfccs_0_x', 'mfccs_1_x', 'mfccs_2_x', 'mfccs_3_x', 'mfccs_4_x',\n",
    "       'mfccs_5_x', 'mfccs_6_x', 'mfccs_7_x', 'mfccs_8_x', 'mfccs_9_x',\n",
    "       'mfccs_10_x', 'mfccs_11_x', 'mfccs_12_x', 'instrument_x',\n",
    "       'note_played_x', 'instrument_name_x']]"
   ]
  },
  {
   "cell_type": "code",
   "execution_count": null,
   "id": "1c740948",
   "metadata": {},
   "outputs": [],
   "source": [
    "blop.columns"
   ]
  },
  {
   "cell_type": "code",
   "execution_count": null,
   "id": "4983203c",
   "metadata": {},
   "outputs": [],
   "source": [
    "blop.shape"
   ]
  },
  {
   "cell_type": "code",
   "execution_count": null,
   "id": "8aca8dbf",
   "metadata": {},
   "outputs": [],
   "source": [
    "best_examples(blop)"
   ]
  },
  {
   "cell_type": "code",
   "execution_count": null,
   "id": "b25fd54c",
   "metadata": {},
   "outputs": [],
   "source": [
    "df_final3=df_final2"
   ]
  },
  {
   "cell_type": "code",
   "execution_count": null,
   "id": "6991db31",
   "metadata": {},
   "outputs": [],
   "source": [
    "blopo"
   ]
  },
  {
   "cell_type": "code",
   "execution_count": null,
   "id": "b96fb880",
   "metadata": {},
   "outputs": [],
   "source": [
    "blopo = df_final.columns\n",
    "splopo = np.zeros((len(blopo),len(blopo)))\n",
    "for i in range(0,len(blopo)):\n",
    "    for j in range(0,len(blopo)):\n",
    "        corr, _ = spearmanr(df_final2[blopo[i]], df_final2[blopo[j]])\n",
    "        splopo[i,j] = corr\n",
    "#print('Spearmans correlation: %.3f' % corr)\n",
    "\n",
    "splopo"
   ]
  },
  {
   "cell_type": "code",
   "execution_count": null,
   "id": "153ed53a",
   "metadata": {},
   "outputs": [],
   "source": [
    "for i in range(0,len(blopo)):\n",
    "    print(blopo[i],df_final2[blopo[i]].describe())"
   ]
  },
  {
   "cell_type": "code",
   "execution_count": null,
   "id": "69ecf6f7",
   "metadata": {},
   "outputs": [],
   "source": [
    "for i in range(0,len(blopo)):\n",
    "    print(blopo[i],df_final2[blopo[i]].describe(),df_final3[blopo[i]].describe())"
   ]
  },
  {
   "cell_type": "code",
   "execution_count": null,
   "id": "d697f67a",
   "metadata": {},
   "outputs": [],
   "source": [
    "linko1 = '/home/jacs/Documents/DataScience/Personal/song_similarity_audio/trumpet_in_c/database_trumpet_in_c_cepstrum_features.csv'\n",
    "linko2 = '/home/jacs/Documents/DataScience/Personal/song_similarity_audio/alto_saxophone/database_alto_saxophone_cepstrum_features.csv'"
   ]
  },
  {
   "cell_type": "code",
   "execution_count": null,
   "id": "77f6da50",
   "metadata": {},
   "outputs": [],
   "source": [
    "df_final2['mfccs_0'].describe()"
   ]
  },
  {
   "cell_type": "code",
   "execution_count": null,
   "id": "35cf19ca",
   "metadata": {},
   "outputs": [],
   "source": [
    "plt.plot(df_final3['rms'],df_final3['mfccs_0'], '.b')\n",
    "plt.plot(df_final2['rms'],df_final2['mfccs_0'], '+r')"
   ]
  },
  {
   "cell_type": "code",
   "execution_count": null,
   "id": "717a5072",
   "metadata": {},
   "outputs": [],
   "source": [
    "df_tru = pd.read_csv(linko1)\n",
    "df_sax = pd.read_csv(linko2)"
   ]
  },
  {
   "cell_type": "code",
   "execution_count": null,
   "id": "4c37d587",
   "metadata": {},
   "outputs": [],
   "source": [
    "df_tru_new = pd.DataFrame([])\n",
    "df_sax_new = pd.DataFrame([])\n",
    "for tuu in df_tru.columns:\n",
    "    df_tru_new[tuu] = df_tru[tuu].describe()\n",
    "    df_sax_new[tuu] = df_sax[tuu].describe()"
   ]
  },
  {
   "cell_type": "code",
   "execution_count": null,
   "id": "6eadd55c",
   "metadata": {},
   "outputs": [],
   "source": [
    "df_tru_new"
   ]
  },
  {
   "cell_type": "code",
   "execution_count": null,
   "id": "126a034e",
   "metadata": {},
   "outputs": [],
   "source": [
    "df_sax_new"
   ]
  },
  {
   "cell_type": "code",
   "execution_count": null,
   "id": "0c0ac99c",
   "metadata": {},
   "outputs": [],
   "source": [
    "plt.plot(df_acc['rms'],df_acc['mfccs_0'], '.b')\n",
    "plt.plot(df_sax['rms'],df_sax['mfccs_0'], '+r')"
   ]
  },
  {
   "cell_type": "code",
   "execution_count": null,
   "id": "506ea401",
   "metadata": {},
   "outputs": [],
   "source": [
    "path = '/home/jacs/Documents/DataScience/Personal/song_similarity_audio/'\n",
    "instrument = 'cello'\n",
    "os.listdir(path)"
   ]
  },
  {
   "cell_type": "code",
   "execution_count": null,
   "id": "ce6fe744",
   "metadata": {},
   "outputs": [],
   "source": [
    "# for data transformation\n",
    "import numpy as np\n",
    "# for visualizing the data\n",
    "import matplotlib.pyplot as plt\n",
    "# for opening the media file\n",
    "import scipy.io.wavfile as wavfile\n",
    "\n",
    "import re\n",
    "import librosa\n",
    "import scipy\n",
    "# for dataframe manipulation\n",
    "import pandas as pd"
   ]
  },
  {
   "cell_type": "code",
   "execution_count": null,
   "id": "300838b5",
   "metadata": {},
   "outputs": [],
   "source": [
    "wavo = '/home/jacs/Documents/DataScience/Personal/song_similarity_audio/TinySOL/Brass/Trumpet_C/ordinario/TpC-ord-D4-ff-N-T27u.wav'"
   ]
  },
  {
   "cell_type": "code",
   "execution_count": null,
   "id": "25e50e58",
   "metadata": {},
   "outputs": [],
   "source": [
    "Fs, audio = wavfile.read(wavo)"
   ]
  },
  {
   "cell_type": "code",
   "execution_count": null,
   "id": "0d3f78c2",
   "metadata": {},
   "outputs": [],
   "source": [
    "#mfccs = librosa.feature.mfcc(y=audio, sr=Fs)\n",
    "#print(mfccs.shape)"
   ]
  },
  {
   "cell_type": "code",
   "execution_count": null,
   "id": "0dc5dafa",
   "metadata": {},
   "outputs": [],
   "source": []
  },
  {
   "cell_type": "code",
   "execution_count": null,
   "id": "482b5057",
   "metadata": {},
   "outputs": [],
   "source": [
    "x, fs = librosa.load(wavo)\n",
    "#librosa.display.waveplot(x, sr=fs)"
   ]
  },
  {
   "cell_type": "code",
   "execution_count": null,
   "id": "5f66129a",
   "metadata": {},
   "outputs": [],
   "source": [
    "xx= x#[:5*fs]"
   ]
  },
  {
   "cell_type": "code",
   "execution_count": null,
   "id": "ff02ac2b",
   "metadata": {},
   "outputs": [],
   "source": [
    "mfccs = librosa.feature.mfcc(y=xx, sr=fs)#, norm='ortho')#, n_fft=26)\n",
    "print(mfccs.shape)"
   ]
  },
  {
   "cell_type": "code",
   "execution_count": null,
   "id": "9323e9d7",
   "metadata": {},
   "outputs": [],
   "source": [
    "spec_cent = librosa.feature.spectral_centroid(y=xx, sr=fs)\n",
    "spec_bw = librosa.feature.spectral_bandwidth(y=xx, sr=fs)\n",
    "rolloff = librosa.feature.spectral_rolloff(y=xx, sr=fs)\n",
    "zcr = librosa.feature.zero_crossing_rate(xx)"
   ]
  },
  {
   "cell_type": "code",
   "execution_count": null,
   "id": "c85a53ae",
   "metadata": {},
   "outputs": [],
   "source": [
    "df = pd.DataFrame()\n",
    "df['zcr']= zcr[0,:]\n",
    "for i in range(0,mfccs.shape[0]):\n",
    "    df['mfccs_{}'.format(i)] = mfccs[i,:]"
   ]
  },
  {
   "cell_type": "code",
   "execution_count": null,
   "id": "165f6839",
   "metadata": {},
   "outputs": [],
   "source": [
    "df2 = pd.DataFrame()"
   ]
  },
  {
   "cell_type": "code",
   "execution_count": null,
   "id": "c1208359",
   "metadata": {},
   "outputs": [],
   "source": [
    "pd.concat((df,df2), axis=0)"
   ]
  },
  {
   "cell_type": "code",
   "execution_count": null,
   "id": "8e724f46",
   "metadata": {},
   "outputs": [],
   "source": [
    "np.mean(mfccs[:,0])"
   ]
  },
  {
   "cell_type": "code",
   "execution_count": null,
   "id": "26fa0a3d",
   "metadata": {},
   "outputs": [],
   "source": [
    "plt.plot(np.log(xx))"
   ]
  },
  {
   "cell_type": "code",
   "execution_count": null,
   "id": "ca37a113",
   "metadata": {},
   "outputs": [],
   "source": [
    "meano = []\n",
    "\n",
    "for i in range(0,mfccs.shape[1]):\n",
    "    meano.append(np.mean(mfccs[:,i]))"
   ]
  },
  {
   "cell_type": "code",
   "execution_count": null,
   "id": "c965d2c3",
   "metadata": {},
   "outputs": [],
   "source": [
    "plt.plot(meano)\n",
    "#    plt.show()\n",
    "#    plt.xlim(0,50)\n",
    "#    plt.ylim(-350,-300)"
   ]
  },
  {
   "cell_type": "code",
   "execution_count": null,
   "id": "5119ba7b",
   "metadata": {},
   "outputs": [],
   "source": [
    "sp = scipy.fft.fft(xx)\n",
    "freq = scipy.fft.fftfreq(len(xx),fs)"
   ]
  },
  {
   "cell_type": "code",
   "execution_count": null,
   "id": "40d14239",
   "metadata": {},
   "outputs": [],
   "source": [
    "plt.plot(freq,sp)\n",
    "plt.xlim(0,0.00002)"
   ]
  },
  {
   "cell_type": "code",
   "execution_count": null,
   "id": "34c5fe94",
   "metadata": {},
   "outputs": [],
   "source": [
    "plop = len(xx)\n",
    "plop2= mfccs.shape[1]\n",
    "\n",
    "print((plop/plop2)/fs)"
   ]
  },
  {
   "cell_type": "code",
   "execution_count": null,
   "id": "2084cda2",
   "metadata": {},
   "outputs": [],
   "source": [
    "mfccs[:10,:].shape"
   ]
  },
  {
   "cell_type": "code",
   "execution_count": null,
   "id": "8e25f269",
   "metadata": {},
   "outputs": [],
   "source": [
    "librosa.display.specshow(mfccs, sr=fs, x_axis='time')"
   ]
  },
  {
   "cell_type": "code",
   "execution_count": null,
   "id": "bf3154c8",
   "metadata": {},
   "outputs": [],
   "source": [
    "mfccs[0]`"
   ]
  },
  {
   "cell_type": "code",
   "execution_count": null,
   "id": "261b9bf6",
   "metadata": {},
   "outputs": [],
   "source": [
    "mfccs = sklearn.preprocessing.scale(mfccs, axis=1)\n",
    "print(mfccs.mean(axis=1))\n",
    "print(mfccs.var(axis=1))\n"
   ]
  },
  {
   "cell_type": "code",
   "execution_count": null,
   "id": "bf598d56",
   "metadata": {},
   "outputs": [],
   "source": [
    "flop = 'TOP_10_MOST_POPULAR_TRUMPET_SONGS_(with_Sheet_Music_Notes)'"
   ]
  },
  {
   "cell_type": "code",
   "execution_count": null,
   "id": "2a58b1bb",
   "metadata": {},
   "outputs": [],
   "source": [
    "re.sub('[)!$/(]','',flop)"
   ]
  },
  {
   "cell_type": "code",
   "execution_count": null,
   "id": "7341c149",
   "metadata": {},
   "outputs": [],
   "source": [
    "Fs, audio = wavfile.read('The_Most_Beautiful_Trumpet_Solo.wav')"
   ]
  },
  {
   "cell_type": "code",
   "execution_count": null,
   "id": "509b46d1",
   "metadata": {},
   "outputs": [],
   "source": [
    "#top_2_idx = np.argsort(sp)[-40:]\n",
    "#listo_freq = [freq[i] for i in top_2_idx]"
   ]
  },
  {
   "cell_type": "code",
   "execution_count": null,
   "id": "9fc6aff4",
   "metadata": {},
   "outputs": [],
   "source": [
    "# Creates different chunks of data from a signal\n",
    "# Includes half the past chunk\n",
    "# Say, you have a 1s signal, you want windows of 0.25s \n",
    "# with this methodology you will have each window that includes half of the past window\n",
    "\n",
    "def chunks(xs, n):\n",
    "    # xs: signal\n",
    "    # n: times you want to split the signal\n",
    "    # len(return): n(even): 2n - 1\n",
    "    #            : n(odd): 2n +1\n",
    "    ms = int(len(xs)/n)\n",
    "    return list(xs[i-int(ms/2):i+int(ms/2)] for i in range(int(ms/2), len(xs), int(ms/2)))\n",
    "#    return list(xs[i:i+ms] for i in range(0, len(xs), ms))"
   ]
  },
  {
   "cell_type": "code",
   "execution_count": null,
   "id": "496de1ce",
   "metadata": {},
   "outputs": [],
   "source": [
    "def suma_repetidos(freq_int, sp):\n",
    "    sp_int = []\n",
    "    frequ_int = []\n",
    "    for i in range(1,len(freq_int)):\n",
    "        frequ = int(freq_int[i-1])\n",
    "        frequ_1 = int(freq_int[i])\n",
    "        try:\n",
    "            frequ_2 = int(freq_int[i+1])\n",
    "        except:\n",
    "            frequ_2 = int(freq_int[-1])\n",
    "        if i == 1:\n",
    "            frequ_int.append(frequ)\n",
    "        if frequ == frequ_1:\n",
    "            try:\n",
    "                sp_new = sp_int[-1] + sp[i+1]\n",
    "                sp_int.pop()\n",
    "                sp_int.append(sp_new)\n",
    "#                print(\"blop\")\n",
    "            except:\n",
    "                sp_new = sp[i] + sp[i+1]\n",
    "                sp_int.append(sp_new)\n",
    "#                print(\"blopo\")\n",
    "            if frequ_int[-1] != frequ_1:\n",
    "                frequ_int.append(frequ_1)\n",
    "        else:\n",
    "            sp_new = sp[i]\n",
    "            sp_int.append(sp_new)\n",
    "            frequ_int.append(frequ_1)\n",
    "#            print(\"plopo\")\n",
    "    return frequ_int, sp_int"
   ]
  },
  {
   "cell_type": "code",
   "execution_count": null,
   "id": "bd344ce8",
   "metadata": {},
   "outputs": [],
   "source": [
    "def exist_or_zero(freq_new,sp,freq_final):\n",
    "    sp_final = []\n",
    "    maxxo = max(sp)\n",
    "    for freq in freq_final:\n",
    "        if freq in freq_new:\n",
    "            spe = sp[list(freq_new).index(freq)]\n",
    "            sp_final.append(spe/maxxo)\n",
    "        else:\n",
    "            sp_final.append(0)\n",
    "    return sp_final"
   ]
  },
  {
   "cell_type": "code",
   "execution_count": null,
   "id": "4a7ceccd",
   "metadata": {},
   "outputs": [],
   "source": [
    "def extract_peaks_and_freqs(aud, Fs):\n",
    "    sp = scipy.fft.fft(aud)\n",
    "    freq = scipy.fft.fftfreq(len(aud),Fs)\n",
    "    freq_sci= scipy.signal.find_peaks(sp)[0]\n",
    "    sp_sci = scipy.signal.peak_prominences(sp, peaks=freq_sci)[0]\n",
    "    freq_gaps = np.arange(0,6750,1)\n",
    "    sp_final = exist_or_zero(freq_sci, sp_sci, freq_gaps)\n",
    "    freq_final, _ = scipy.signal.find_peaks(sp_final)\n",
    "    pikos = [sp_final[freq_final[i]] for i in range(0,len(freq_final))]\n",
    "    sp_sorted = sorted(pikos, reverse= True)\n",
    "    freq_sorted=[freq_final[pikos.index(pikoso)] for pikoso in sp_sorted]\n",
    "    return sp_sorted, freq_sorted, sp_final, freq_final"
   ]
  },
  {
   "cell_type": "code",
   "execution_count": null,
   "id": "a4fc3de8",
   "metadata": {},
   "outputs": [],
   "source": [
    "def final_data_collection(freq_sorted, pikos_sorted, n, m, note_played):\n",
    "    df_final = pd.DataFrame({'peak_1': [], 'peak_2': [], 'Magnitude difference': [],'instrument': m, 'note_played': []})\n",
    "    frequs_sp = []\n",
    "    for i in range(0,len(freq_sorted[:n])):\n",
    "        freq_1, sp_1 = freq_sorted[i], pikos_sorted[i]\n",
    "        frequs_sp.append((freq_1, sp_1))\n",
    "        for j in range(0,len(freq_sorted[:n])):\n",
    "            freq_2, sp_2 = freq_sorted[j], pikos_sorted[j]\n",
    "            if (freq_2, sp_2) in frequs_sp:\n",
    "                continue\n",
    "            else:\n",
    "                distance = np.sqrt((freq_2 - freq_1)**2 + (sp_2 - sp_1)**2)\n",
    "                df_iteration = pd.DataFrame({'peak_1':[(freq_1, sp_1)], 'peak_2':[(freq_2, sp_2)], 'Magnitude difference': [distance] ,'instrument': 1, 'note_played': [note_played]})\n",
    "                df_final = df_final.append(df_iteration)\n",
    "    return df_final"
   ]
  },
  {
   "cell_type": "code",
   "execution_count": null,
   "id": "a87aa2cf",
   "metadata": {},
   "outputs": [],
   "source": [
    "common_path = '/home/jacs/Documents/DataScience/Personal/song_similarity_audio/TinySOL/'\n",
    "df_into = pd.read_csv(common_path+'TinySOL_metadata.csv')\n",
    "df_into= df_into[df_into['Needed digital retuning']]\n",
    "instruments = df_into['Instrument (in full)'].unique()"
   ]
  },
  {
   "cell_type": "code",
   "execution_count": null,
   "id": "2d4aa572",
   "metadata": {},
   "outputs": [],
   "source": [
    "instruments"
   ]
  },
  {
   "cell_type": "code",
   "execution_count": null,
   "id": "1826d800",
   "metadata": {},
   "outputs": [],
   "source": [
    "instruments_test = ['Trombone', 'Trumpet in C']\n",
    "outputs = ['database_trombone_10_peaks', 'database_trumpet_10_peaks']"
   ]
  },
  {
   "cell_type": "code",
   "execution_count": null,
   "id": "aed1bd17",
   "metadata": {},
   "outputs": [],
   "source": [
    "#audio_files = ['A-sharp-trumpet', 'B-trumpet', 'C-sharp-trumpet', 'D-sharp-trumpet', 'E-trumpet', 'F-sharp-trumpet', 'G-sharp-trumpet']\n",
    "\n",
    "df_final = pd.DataFrame({'peak_1': [], 'peak_2': [], 'Magnitude difference': [],'instrument': [], 'note_played': []})\n",
    "\n",
    "i=0\n",
    "\n",
    "for woko in df_into[df_into['Instrument (in full)'] == 'Trumpet in C']['Path']:\n",
    "    wavo = common_path + woko\n",
    "    titulo = woko.split('/')[-1]\n",
    "#    file_1 = file.format(audio_1)\n",
    "#    wavo = path + file_1\n",
    "    Fs, audio = wavfile.read(wavo)\n",
    "    length = audio.shape[0] / Fs\n",
    "    audio_chunks = chunks(audio,int(length)*2)\n",
    "    print(f\"length = {length}s\")\n",
    "    for aud in audio_chunks[2:-2]:\n",
    "        length_2 = aud.shape[0] / Fs\n",
    "#        print(Fs)\n",
    "        # select left channel only\n",
    "        try:\n",
    "            aud = aud[:,0]\n",
    "            print('plop')\n",
    "        except:\n",
    "            aud = aud[:]\n",
    "            print('anti-plop')\n",
    "        pikos_sorted, freq_sorted, sp_final, peaks  = extract_peaks_and_freqs(aud, Fs)\n",
    "        print(i)\n",
    "        i+=1\n",
    "        df_final_2 = final_data_collection(freq_sorted, pikos_sorted, 10, 1, titulo).reset_index(drop=True)\n",
    "        df_final = df_final.append(df_final_2).reset_index(drop=True)\n",
    "df_final=df_final.reset_index(drop=True)\n",
    "df_final.to_csv(output[1]+'.csv', index=False)\n",
    "#################################\n",
    "#        plt.specgram(aud, Fs=Fs)\n",
    "#        plt.xticks(time_cnk)    \n",
    "#        plt.ylim(0,5000)\n",
    "#        plt.title(titulo)\n",
    "#        plt.show()\n",
    "#        time = np.linspace(0., length_2, aud.shape[0])\n",
    "#        plt.plot(time, aud)\n",
    "#        plt.title('Original signal')\n",
    "#        plt.show()\n",
    "#        plt.plot(peaks, [sp_final[i] for i in peaks])\n",
    "#        plt.plot(freq_sorted[:10], pikos_sorted[:10],'x')\n",
    "#        plt.title('Final frequencies and intensities')\n",
    "#        plt.show()\n",
    "#        ss = np.fft.ifft(sp_final)\n",
    "#        time = np.linspace(0., length_2, len(sp_final))\n",
    "#        plt.plot(time, ss)\n",
    "#        plt.title('Reconstruccion with data manipulation')\n",
    "#        plt.show()\n",
    "#################################"
   ]
  },
  {
   "cell_type": "code",
   "execution_count": null,
   "id": "41726861",
   "metadata": {},
   "outputs": [],
   "source": [
    "df_final"
   ]
  },
  {
   "cell_type": "code",
   "execution_count": null,
   "id": "1404722e",
   "metadata": {},
   "outputs": [],
   "source": [
    "df_final=df_final.reset_index(drop=True)"
   ]
  },
  {
   "cell_type": "code",
   "execution_count": null,
   "id": "8b1fde79",
   "metadata": {},
   "outputs": [],
   "source": [
    "df_final.to_csv('database_trumpet_10_peaks.csv', index=False)"
   ]
  },
  {
   "cell_type": "code",
   "execution_count": null,
   "id": "60230e43",
   "metadata": {},
   "outputs": [],
   "source": [
    "pd.read_csv('database_trumpet_freq.csv')"
   ]
  },
  {
   "cell_type": "code",
   "execution_count": null,
   "id": "b6d701ac",
   "metadata": {},
   "outputs": [],
   "source": [
    "max(freq_sci)"
   ]
  },
  {
   "cell_type": "code",
   "execution_count": null,
   "id": "b0b829a0",
   "metadata": {},
   "outputs": [],
   "source": [
    "wavfile.write(\"example.wav\", Fs, ss.astype(np.int16))"
   ]
  },
  {
   "cell_type": "code",
   "execution_count": null,
   "id": "35b57f51",
   "metadata": {},
   "outputs": [],
   "source": []
  },
  {
   "cell_type": "code",
   "execution_count": null,
   "id": "b5069051",
   "metadata": {},
   "outputs": [],
   "source": []
  },
  {
   "cell_type": "code",
   "execution_count": null,
   "id": "1b0624b1",
   "metadata": {},
   "outputs": [],
   "source": [
    "sp = scipy.fft.fft(aud)\n",
    "freq = scipy.fft.fftfreq(len(aud),Fs)\n",
    "freq_sci= scipy.signal.find_peaks(sp)[0]\n",
    "sp_sci = scipy.signal.peak_prominences(sp, peaks=freq_sci)[0]\n",
    "freq_gaps = np.arange(0,6750,1)\n",
    "sp_final = exist_or_zero(freq_sci, sp_sci, freq_gaps)\n",
    "freq_final, _ = scipy.signal.find_peaks(sp_final)\n",
    "pikos = [sp_final[freq_final[i]] for i in range(0,len(freq_final))]\n",
    "sp_sorted = sorted(pikos, reverse= True)\n",
    "freq_sorted=[freq_final[pikos.index(pikoso)] for pikoso in sp_sorted]"
   ]
  },
  {
   "cell_type": "code",
   "execution_count": null,
   "id": "7a56a33e",
   "metadata": {},
   "outputs": [],
   "source": [
    "plt.plot(freq_gaps, sp_final)\n",
    "plt.plot(freq_sorted[:15],sp_sorted[:15], 'x')"
   ]
  },
  {
   "cell_type": "code",
   "execution_count": null,
   "id": "c312909a",
   "metadata": {},
   "outputs": [],
   "source": []
  },
  {
   "cell_type": "markdown",
   "id": "9854003a",
   "metadata": {},
   "source": [
    "# Usando numpy"
   ]
  },
  {
   "cell_type": "code",
   "execution_count": null,
   "id": "b1ccd0b8",
   "metadata": {},
   "outputs": [],
   "source": [
    "#audio_files = ['A-sharp-trumpet', 'B-trumpet', 'C-sharp-trumpet', 'D-sharp-trumpet', 'E-trumpet', 'F-sharp-trumpet', 'G-sharp-trumpet']\n",
    "\n",
    "df_final = pd.DataFrame({'note_played':[], 'frequencies':[], 'intensities':[], 'instrument': []})\n",
    "\n",
    "for audio_1 in audio_files:\n",
    "    file_1 = file.format(audio_1)\n",
    "    wavo = path + file_1\n",
    "    Fs, audio = wavfile.read(wavo + '.wav')\n",
    "    length = audio.shape[0] / Fs\n",
    "    audio_chunks = chunks(audio,int(length)*2)\n",
    "    print(f\"length = {length}s\")\n",
    "    for aud in audio_chunks[2:-2]:\n",
    "#        print(Fs)\n",
    "        # select left channel only\n",
    "        try:\n",
    "            aud = aud[:,0]\n",
    "            print('plop')\n",
    "        except:\n",
    "            aud = aud[:]\n",
    "            print('anti-plop')\n",
    "        # trim the first 125 seconds\n",
    "        sp_final = np.fft.fft(aud)\n",
    "        freq_final = np.fft.fftfreq(aud.shape[-1], d=(1/Fs))\n",
    "        plt.specgram(aud, Fs=Fs)\n",
    "        plt.ylim(0,5000)\n",
    "        time = np.linspace(0., length, aud.shape[0])\n",
    "        freq_positive = [(freq_final[i], sp_final[i]) for i in range(0,len(freq_final)) if freq_final[i]>=0]\n",
    "        freq_final = [freq_positive[i][0] for i in range(0,len(freq_positive))]\n",
    "        sp_final = [freq_positive[i][1] for i in range(0,len(freq_positive))]\n",
    "        plt.title(file_1)\n",
    "        plt.show()\n",
    "        plt.plot(time, aud)\n",
    "        plt.title('Original signal')\n",
    "        plt.show()\n",
    "        plt.plot(freq_final,sp_final)\n",
    "        plt.title('Final frequencies and intensities')\n",
    "        plt.show()\n",
    "        ss = np.fft.ifft(sp_final)\n",
    "        time = np.linspace(0., length, len(sp_final))\n",
    "        plt.plot(time, ss)\n",
    "        plt.title('Reconstruccion with data manipulation')\n",
    "        plt.show()\n",
    "        df_iteration = pd.DataFrame({'note_played': file_1, 'frequencies':[freq_final], 'intensities':[sp_final], 'instrument': 1})\n",
    "        df_final = df_final.append(df_iteration)"
   ]
  },
  {
   "cell_type": "code",
   "execution_count": null,
   "id": "c76a6e69",
   "metadata": {},
   "outputs": [],
   "source": [
    "df_final"
   ]
  },
  {
   "cell_type": "markdown",
   "id": "25c54df1",
   "metadata": {},
   "source": [
    "# Usando spectrogram de matplotlib"
   ]
  },
  {
   "cell_type": "code",
   "execution_count": null,
   "id": "2ea51d27",
   "metadata": {},
   "outputs": [],
   "source": [
    "for audio in audio_files:\n",
    "    file_1 = file.format(audio_1)\n",
    "    wavo = path + file_1\n",
    "    Fs, audio = wavfile.read(wavo + '.wav')\n",
    "    length = audio.shape[0] / Fs\n",
    "    audio_chunks = chunks(audio,int(length*8))\n",
    "    print(f\"length = {length}s\")\n",
    "    for aud in audio_chunks[1:-1]:\n",
    "        # select left channel only\n",
    "        try:\n",
    "            aud = aud[:,0]\n",
    "            print('plop')\n",
    "        except:\n",
    "            aud = aud[:]\n",
    "            print('anti-plop')\n",
    "        # trim the first 125 seconds\n",
    "        length = aud.shape[0] / Fs\n",
    "        first = aud[:int(Fs*length)]\n",
    "        powerSpectrum, frequenciesFound, time2, imageAxis = plt.specgram(first, Fs=Fs)\n",
    "        plt.ylim(0,5000)\n",
    "        time = np.linspace(0., length, aud.shape[0])\n",
    "        plt.title(file_1)\n",
    "        plt.show()\n",
    "        plt.plot(time, aud)\n",
    "        plt.show()\n",
    "        print(frequenciesFound)\n",
    "    #    poweroso = [np.average(powerSpectrum[i,:]) for i in range(0,len(powerSpectrum))]\n",
    "    #    print(len(poweroso))\n",
    "    #    ss = np.fft.ifft(poweroso)\n",
    "        plt.plot(frequenciesFound,powerSpectrum)\n",
    "        plt.xlim(0,2500)\n",
    "        plt.title('frequencies')\n",
    "        plt.show()\n",
    "    #    plt.plot(ss.real)\n",
    "    #    plt.title('Reconstruccion')\n",
    "    #    plt.show()\n",
    "    #    plt.savefig('{}.png'.format(audio))"
   ]
  },
  {
   "cell_type": "code",
   "execution_count": null,
   "id": "75784c6a",
   "metadata": {},
   "outputs": [],
   "source": [
    "len(frequenciesFound)"
   ]
  },
  {
   "cell_type": "code",
   "execution_count": null,
   "id": "0ba262cc",
   "metadata": {},
   "outputs": [],
   "source": [
    "powerSpectrum"
   ]
  }
 ],
 "metadata": {
  "kernelspec": {
   "display_name": "Python(jorgenv)",
   "language": "python",
   "name": "jorgenv"
  },
  "language_info": {
   "codemirror_mode": {
    "name": "ipython",
    "version": 3
   },
   "file_extension": ".py",
   "mimetype": "text/x-python",
   "name": "python",
   "nbconvert_exporter": "python",
   "pygments_lexer": "ipython3",
   "version": "3.11.3"
  }
 },
 "nbformat": 4,
 "nbformat_minor": 5
}
