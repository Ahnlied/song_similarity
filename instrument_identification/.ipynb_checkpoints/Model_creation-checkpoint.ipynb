{
 "cells": [
  {
   "cell_type": "code",
   "execution_count": 2,
   "id": "a4e5699b",
   "metadata": {},
   "outputs": [],
   "source": [
    "import librosa\n",
    "import pandas as pd\n",
    "import numpy as np\n",
    "import matplotlib.pyplot as plt\n",
    "%matplotlib inline\n",
    "import os\n",
    "import re\n",
    "from PIL import Image\n",
    "\n",
    "import pickle\n",
    "\n",
    "import pathlib\n",
    "import csv\n",
    "\n",
    "# Preprocessing\n",
    "from sklearn.utils import shuffle\n",
    "from sklearn.model_selection import train_test_split\n",
    "from sklearn.preprocessing import LabelEncoder, StandardScaler\n",
    "from sklearn.metrics import confusion_matrix\n",
    "from sklearn.svm import SVC\n",
    "from sklearn.metrics import recall_score, precision_score, accuracy_score\n",
    "from sklearn.metrics import confusion_matrix, f1_score, classification_report\n",
    "from sklearn.model_selection import cross_val_score\n",
    "from sklearn.ensemble import RandomForestClassifier\n",
    "#from xgboost import XGBClassifier\n"
   ]
  },
  {
   "cell_type": "code",
   "execution_count": 3,
   "id": "65c19b8c",
   "metadata": {},
   "outputs": [],
   "source": [
    "def best_examples(df_bowed):\n",
    "    df_bowed_final = pd.DataFrame()\n",
    "    cols = list(df_bowed.columns[7:10])\n",
    "    for i in range(0,len(cols)):\n",
    "        col = cols[i]\n",
    "        stats = df_bowed[col].describe()[['mean', 'std']].values\n",
    "        if i == 0 :\n",
    "            df_bowed_final = df_bowed[df_bowed[col].apply(lambda x: stats[0]-stats[1] <= x <= stats[0]+stats[1])]\n",
    "            continue\n",
    "        else:\n",
    "            df_iter = df_bowed[df_bowed[col].apply(lambda x: stats[0]-stats[1] <= x <= stats[0]+stats[1])]\n",
    "            df_bowed_final = pd.concat([df_bowed_final, df_iter], join='inner')\n",
    "            df_iter = pd.DataFrame()\n",
    "    df_bowed_final = df_bowed_final.drop_duplicates()\n",
    "    return df_bowed_final"
   ]
  },
  {
   "cell_type": "code",
   "execution_count": null,
   "id": "51bf421f",
   "metadata": {},
   "outputs": [],
   "source": [
    "df_plucked_string = pd.read_csv('/content/drive/MyDrive/Colab Notebooks/data/plucked_string_instruments.csv')"
   ]
  },
  {
   "cell_type": "code",
   "execution_count": null,
   "id": "6efac140",
   "metadata": {},
   "outputs": [],
   "source": [
    "df_plucked_string = best_examples(df_plucked_string)"
   ]
  },
  {
   "cell_type": "code",
   "execution_count": 3,
   "id": "c67e7100",
   "metadata": {},
   "outputs": [],
   "source": [
    "peaches = pd.read_csv('Peaches.csv')"
   ]
  },
  {
   "cell_type": "code",
   "execution_count": 15,
   "id": "cabbe4a6",
   "metadata": {},
   "outputs": [],
   "source": [
    "inst_4 = \"/home/jacs/Documents/DataScience/Personal/song_similarity/instrument_identification/models/keyboard_model.pkl\"\n",
    "with open(inst_4, 'rb') as file:\n",
    "    inst_4_model = pickle.load(file)"
   ]
  },
  {
   "cell_type": "code",
   "execution_count": 6,
   "id": "7d6adfbe",
   "metadata": {},
   "outputs": [],
   "source": [
    "instrument_type = list(instruments_reduced.keys())"
   ]
  },
  {
   "cell_type": "code",
   "execution_count": 7,
   "id": "d3688210",
   "metadata": {},
   "outputs": [
    {
     "data": {
      "text/plain": [
       "['woodwind',\n",
       " 'brass',\n",
       " 'bowed_string_instruments',\n",
       " 'plucked_string_instruments',\n",
       " 'keyboard',\n",
       " 'percussion',\n",
       " 'singing',\n",
       " 'noise']"
      ]
     },
     "execution_count": 7,
     "metadata": {},
     "output_type": "execute_result"
    }
   ],
   "source": [
    "instrument_type"
   ]
  },
  {
   "cell_type": "code",
   "execution_count": 9,
   "id": "b0e065e7",
   "metadata": {},
   "outputs": [],
   "source": [
    "scaler = StandardScaler()"
   ]
  },
  {
   "cell_type": "code",
   "execution_count": 13,
   "id": "c6298269",
   "metadata": {},
   "outputs": [
    {
     "ename": "NameError",
     "evalue": "name 'x' is not defined",
     "output_type": "error",
     "traceback": [
      "\u001b[0;31m---------------------------------------------------------------------------\u001b[0m",
      "\u001b[0;31mNameError\u001b[0m                                 Traceback (most recent call last)",
      "Input \u001b[0;32mIn [13]\u001b[0m, in \u001b[0;36m<module>\u001b[0;34m\u001b[0m\n\u001b[0;32m----> 1\u001b[0m X \u001b[38;5;241m=\u001b[39m scaler\u001b[38;5;241m.\u001b[39mfit_transform(np\u001b[38;5;241m.\u001b[39marray(\u001b[43mx\u001b[49m\u001b[38;5;241m.\u001b[39miloc[:, :\u001b[38;5;241m-\u001b[39m\u001b[38;5;241m1\u001b[39m], dtype \u001b[38;5;241m=\u001b[39m \u001b[38;5;28mfloat\u001b[39m))\n\u001b[1;32m      2\u001b[0m Y \u001b[38;5;241m=\u001b[39m inst_6_model\u001b[38;5;241m.\u001b[39mpredict(X)\n\u001b[1;32m      3\u001b[0m Y_name \u001b[38;5;241m=\u001b[39m instruments_reduced[instrument_type[\u001b[38;5;241m4\u001b[39m]][Y]\n",
      "\u001b[0;31mNameError\u001b[0m: name 'x' is not defined"
     ]
    }
   ],
   "source": [
    "X = scaler.fit_transform(np.array(x.iloc[:, :-1], dtype = float))\n",
    "Y = inst_6_model.predict(X)\n",
    "Y_name = instruments_reduced[instrument_type[4]][Y]"
   ]
  },
  {
   "cell_type": "code",
   "execution_count": 11,
   "id": "dd3bedc6",
   "metadata": {},
   "outputs": [],
   "source": [
    "X_matrix = peaches[peaches['instrument_type_predicted'].apply(lambda x: x==4)]"
   ]
  },
  {
   "cell_type": "code",
   "execution_count": 12,
   "id": "37b164a3",
   "metadata": {},
   "outputs": [
    {
     "data": {
      "text/plain": [
       "Index(['rms', 'spec_cent', 'spec_bw', 'rolloff', 'zcr', 'mfccs_0', 'mfccs_1',\n",
       "       'mfccs_2', 'mfccs_3', 'mfccs_4', 'mfccs_5', 'mfccs_6', 'mfccs_7',\n",
       "       'mfccs_8', 'mfccs_9', 'mfccs_10', 'mfccs_11', 'mfccs_12',\n",
       "       'instrument_type_predicted'],\n",
       "      dtype='object')"
      ]
     },
     "execution_count": 12,
     "metadata": {},
     "output_type": "execute_result"
    }
   ],
   "source": [
    "peaches.iloc[:, :-3].columns"
   ]
  },
  {
   "cell_type": "code",
   "execution_count": 76,
   "id": "d3f67eef",
   "metadata": {},
   "outputs": [],
   "source": [
    "plop = scaler.fit_transform(X_matrix.iloc[0,:-2].values.reshape(-1, 1))#[:,0]"
   ]
  },
  {
   "cell_type": "code",
   "execution_count": 59,
   "id": "b5a625f3",
   "metadata": {},
   "outputs": [
    {
     "data": {
      "text/plain": [
       "array([[-0.38940561],\n",
       "       [ 1.78580592],\n",
       "       [ 0.86804686],\n",
       "       [ 3.40148163],\n",
       "       [-0.38940561],\n",
       "       [-0.60365586],\n",
       "       [-0.38940561],\n",
       "       [-0.38940561],\n",
       "       [-0.38940561],\n",
       "       [-0.38940561],\n",
       "       [-0.38940561],\n",
       "       [-0.38940561],\n",
       "       [-0.38940561],\n",
       "       [-0.38940561],\n",
       "       [-0.38940561],\n",
       "       [-0.38940561],\n",
       "       [-0.38940561],\n",
       "       [-0.38940561]])"
      ]
     },
     "execution_count": 59,
     "metadata": {},
     "output_type": "execute_result"
    }
   ],
   "source": [
    "plop"
   ]
  },
  {
   "cell_type": "code",
   "execution_count": 57,
   "id": "26316b25",
   "metadata": {},
   "outputs": [
    {
     "data": {
      "text/plain": [
       "array([-0.38940561,  1.78580592,  0.86804686,  3.40148163, -0.38940561,\n",
       "       -0.60365586, -0.38940561, -0.38940561, -0.38940561, -0.38940561,\n",
       "       -0.38940561, -0.38940561, -0.38940561, -0.38940561, -0.38940561,\n",
       "       -0.38940561, -0.38940561, -0.38940561])"
      ]
     },
     "execution_count": 57,
     "metadata": {},
     "output_type": "execute_result"
    }
   ],
   "source": [
    "plop"
   ]
  },
  {
   "cell_type": "code",
   "execution_count": 74,
   "id": "472c7c76",
   "metadata": {},
   "outputs": [
    {
     "data": {
      "text/plain": [
       "18"
      ]
     },
     "execution_count": 74,
     "metadata": {},
     "output_type": "execute_result"
    }
   ],
   "source": [
    "len(X_matrix.iloc[:,:-2].columns)"
   ]
  },
  {
   "cell_type": "code",
   "execution_count": 112,
   "id": "d9f0f18c",
   "metadata": {},
   "outputs": [
    {
     "ename": "ValueError",
     "evalue": "Expected 2D array, got 1D array instead:\narray=[   0.        0.        0.        0.        0.     -564.0776    0.\n    0.        0.        0.        0.        0.        0.        0.\n    0.        0.        0.        0.    ].\nReshape your data either using array.reshape(-1, 1) if your data has a single feature or array.reshape(1, -1) if it contains a single sample.",
     "output_type": "error",
     "traceback": [
      "\u001b[0;31m---------------------------------------------------------------------------\u001b[0m",
      "\u001b[0;31mValueError\u001b[0m                                Traceback (most recent call last)",
      "Input \u001b[0;32mIn [112]\u001b[0m, in \u001b[0;36m<module>\u001b[0;34m\u001b[0m\n\u001b[1;32m      1\u001b[0m \u001b[38;5;28;01mfor\u001b[39;00m x \u001b[38;5;129;01min\u001b[39;00m \u001b[38;5;28mrange\u001b[39m(\u001b[38;5;241m0\u001b[39m,peaches\u001b[38;5;241m.\u001b[39mshape[\u001b[38;5;241m0\u001b[39m]):\n\u001b[0;32m----> 2\u001b[0m     \u001b[38;5;28mprint\u001b[39m(inst_6_model(\u001b[43mscaler\u001b[49m\u001b[38;5;241;43m.\u001b[39;49m\u001b[43mfit_transform\u001b[49m\u001b[43m(\u001b[49m\u001b[43mnp\u001b[49m\u001b[38;5;241;43m.\u001b[39;49m\u001b[43marray\u001b[49m\u001b[43m(\u001b[49m\u001b[43mpeaches\u001b[49m\u001b[38;5;241;43m.\u001b[39;49m\u001b[43miloc\u001b[49m\u001b[43m[\u001b[49m\u001b[43mx\u001b[49m\u001b[43m,\u001b[49m\u001b[43m:\u001b[49m\u001b[38;5;241;43m-\u001b[39;49m\u001b[38;5;241;43m2\u001b[39;49m\u001b[43m]\u001b[49m\u001b[43m,\u001b[49m\u001b[43m \u001b[49m\u001b[43mdtype\u001b[49m\u001b[38;5;241;43m=\u001b[39;49m\u001b[38;5;28;43mfloat\u001b[39;49m\u001b[43m)\u001b[49m\u001b[43m)\u001b[49m))\n",
      "File \u001b[0;32m~/jorgenv/lib/python3.10/site-packages/sklearn/utils/_set_output.py:140\u001b[0m, in \u001b[0;36m_wrap_method_output.<locals>.wrapped\u001b[0;34m(self, X, *args, **kwargs)\u001b[0m\n\u001b[1;32m    138\u001b[0m \u001b[38;5;129m@wraps\u001b[39m(f)\n\u001b[1;32m    139\u001b[0m \u001b[38;5;28;01mdef\u001b[39;00m \u001b[38;5;21mwrapped\u001b[39m(\u001b[38;5;28mself\u001b[39m, X, \u001b[38;5;241m*\u001b[39margs, \u001b[38;5;241m*\u001b[39m\u001b[38;5;241m*\u001b[39mkwargs):\n\u001b[0;32m--> 140\u001b[0m     data_to_wrap \u001b[38;5;241m=\u001b[39m \u001b[43mf\u001b[49m\u001b[43m(\u001b[49m\u001b[38;5;28;43mself\u001b[39;49m\u001b[43m,\u001b[49m\u001b[43m \u001b[49m\u001b[43mX\u001b[49m\u001b[43m,\u001b[49m\u001b[43m \u001b[49m\u001b[38;5;241;43m*\u001b[39;49m\u001b[43margs\u001b[49m\u001b[43m,\u001b[49m\u001b[43m \u001b[49m\u001b[38;5;241;43m*\u001b[39;49m\u001b[38;5;241;43m*\u001b[39;49m\u001b[43mkwargs\u001b[49m\u001b[43m)\u001b[49m\n\u001b[1;32m    141\u001b[0m     \u001b[38;5;28;01mif\u001b[39;00m \u001b[38;5;28misinstance\u001b[39m(data_to_wrap, \u001b[38;5;28mtuple\u001b[39m):\n\u001b[1;32m    142\u001b[0m         \u001b[38;5;66;03m# only wrap the first output for cross decomposition\u001b[39;00m\n\u001b[1;32m    143\u001b[0m         \u001b[38;5;28;01mreturn\u001b[39;00m (\n\u001b[1;32m    144\u001b[0m             _wrap_data_with_container(method, data_to_wrap[\u001b[38;5;241m0\u001b[39m], X, \u001b[38;5;28mself\u001b[39m),\n\u001b[1;32m    145\u001b[0m             \u001b[38;5;241m*\u001b[39mdata_to_wrap[\u001b[38;5;241m1\u001b[39m:],\n\u001b[1;32m    146\u001b[0m         )\n",
      "File \u001b[0;32m~/jorgenv/lib/python3.10/site-packages/sklearn/base.py:878\u001b[0m, in \u001b[0;36mTransformerMixin.fit_transform\u001b[0;34m(self, X, y, **fit_params)\u001b[0m\n\u001b[1;32m    874\u001b[0m \u001b[38;5;66;03m# non-optimized default implementation; override when a better\u001b[39;00m\n\u001b[1;32m    875\u001b[0m \u001b[38;5;66;03m# method is possible for a given clustering algorithm\u001b[39;00m\n\u001b[1;32m    876\u001b[0m \u001b[38;5;28;01mif\u001b[39;00m y \u001b[38;5;129;01mis\u001b[39;00m \u001b[38;5;28;01mNone\u001b[39;00m:\n\u001b[1;32m    877\u001b[0m     \u001b[38;5;66;03m# fit method of arity 1 (unsupervised transformation)\u001b[39;00m\n\u001b[0;32m--> 878\u001b[0m     \u001b[38;5;28;01mreturn\u001b[39;00m \u001b[38;5;28;43mself\u001b[39;49m\u001b[38;5;241;43m.\u001b[39;49m\u001b[43mfit\u001b[49m\u001b[43m(\u001b[49m\u001b[43mX\u001b[49m\u001b[43m,\u001b[49m\u001b[43m \u001b[49m\u001b[38;5;241;43m*\u001b[39;49m\u001b[38;5;241;43m*\u001b[39;49m\u001b[43mfit_params\u001b[49m\u001b[43m)\u001b[49m\u001b[38;5;241m.\u001b[39mtransform(X)\n\u001b[1;32m    879\u001b[0m \u001b[38;5;28;01melse\u001b[39;00m:\n\u001b[1;32m    880\u001b[0m     \u001b[38;5;66;03m# fit method of arity 2 (supervised transformation)\u001b[39;00m\n\u001b[1;32m    881\u001b[0m     \u001b[38;5;28;01mreturn\u001b[39;00m \u001b[38;5;28mself\u001b[39m\u001b[38;5;241m.\u001b[39mfit(X, y, \u001b[38;5;241m*\u001b[39m\u001b[38;5;241m*\u001b[39mfit_params)\u001b[38;5;241m.\u001b[39mtransform(X)\n",
      "File \u001b[0;32m~/jorgenv/lib/python3.10/site-packages/sklearn/preprocessing/_data.py:824\u001b[0m, in \u001b[0;36mStandardScaler.fit\u001b[0;34m(self, X, y, sample_weight)\u001b[0m\n\u001b[1;32m    822\u001b[0m \u001b[38;5;66;03m# Reset internal state before fitting\u001b[39;00m\n\u001b[1;32m    823\u001b[0m \u001b[38;5;28mself\u001b[39m\u001b[38;5;241m.\u001b[39m_reset()\n\u001b[0;32m--> 824\u001b[0m \u001b[38;5;28;01mreturn\u001b[39;00m \u001b[38;5;28;43mself\u001b[39;49m\u001b[38;5;241;43m.\u001b[39;49m\u001b[43mpartial_fit\u001b[49m\u001b[43m(\u001b[49m\u001b[43mX\u001b[49m\u001b[43m,\u001b[49m\u001b[43m \u001b[49m\u001b[43my\u001b[49m\u001b[43m,\u001b[49m\u001b[43m \u001b[49m\u001b[43msample_weight\u001b[49m\u001b[43m)\u001b[49m\n",
      "File \u001b[0;32m~/jorgenv/lib/python3.10/site-packages/sklearn/preprocessing/_data.py:861\u001b[0m, in \u001b[0;36mStandardScaler.partial_fit\u001b[0;34m(self, X, y, sample_weight)\u001b[0m\n\u001b[1;32m    858\u001b[0m \u001b[38;5;28mself\u001b[39m\u001b[38;5;241m.\u001b[39m_validate_params()\n\u001b[1;32m    860\u001b[0m first_call \u001b[38;5;241m=\u001b[39m \u001b[38;5;129;01mnot\u001b[39;00m \u001b[38;5;28mhasattr\u001b[39m(\u001b[38;5;28mself\u001b[39m, \u001b[38;5;124m\"\u001b[39m\u001b[38;5;124mn_samples_seen_\u001b[39m\u001b[38;5;124m\"\u001b[39m)\n\u001b[0;32m--> 861\u001b[0m X \u001b[38;5;241m=\u001b[39m \u001b[38;5;28;43mself\u001b[39;49m\u001b[38;5;241;43m.\u001b[39;49m\u001b[43m_validate_data\u001b[49m\u001b[43m(\u001b[49m\n\u001b[1;32m    862\u001b[0m \u001b[43m    \u001b[49m\u001b[43mX\u001b[49m\u001b[43m,\u001b[49m\n\u001b[1;32m    863\u001b[0m \u001b[43m    \u001b[49m\u001b[43maccept_sparse\u001b[49m\u001b[38;5;241;43m=\u001b[39;49m\u001b[43m(\u001b[49m\u001b[38;5;124;43m\"\u001b[39;49m\u001b[38;5;124;43mcsr\u001b[39;49m\u001b[38;5;124;43m\"\u001b[39;49m\u001b[43m,\u001b[49m\u001b[43m \u001b[49m\u001b[38;5;124;43m\"\u001b[39;49m\u001b[38;5;124;43mcsc\u001b[39;49m\u001b[38;5;124;43m\"\u001b[39;49m\u001b[43m)\u001b[49m\u001b[43m,\u001b[49m\n\u001b[1;32m    864\u001b[0m \u001b[43m    \u001b[49m\u001b[43mdtype\u001b[49m\u001b[38;5;241;43m=\u001b[39;49m\u001b[43mFLOAT_DTYPES\u001b[49m\u001b[43m,\u001b[49m\n\u001b[1;32m    865\u001b[0m \u001b[43m    \u001b[49m\u001b[43mforce_all_finite\u001b[49m\u001b[38;5;241;43m=\u001b[39;49m\u001b[38;5;124;43m\"\u001b[39;49m\u001b[38;5;124;43mallow-nan\u001b[39;49m\u001b[38;5;124;43m\"\u001b[39;49m\u001b[43m,\u001b[49m\n\u001b[1;32m    866\u001b[0m \u001b[43m    \u001b[49m\u001b[43mreset\u001b[49m\u001b[38;5;241;43m=\u001b[39;49m\u001b[43mfirst_call\u001b[49m\u001b[43m,\u001b[49m\n\u001b[1;32m    867\u001b[0m \u001b[43m\u001b[49m\u001b[43m)\u001b[49m\n\u001b[1;32m    868\u001b[0m n_features \u001b[38;5;241m=\u001b[39m X\u001b[38;5;241m.\u001b[39mshape[\u001b[38;5;241m1\u001b[39m]\n\u001b[1;32m    870\u001b[0m \u001b[38;5;28;01mif\u001b[39;00m sample_weight \u001b[38;5;129;01mis\u001b[39;00m \u001b[38;5;129;01mnot\u001b[39;00m \u001b[38;5;28;01mNone\u001b[39;00m:\n",
      "File \u001b[0;32m~/jorgenv/lib/python3.10/site-packages/sklearn/base.py:565\u001b[0m, in \u001b[0;36mBaseEstimator._validate_data\u001b[0;34m(self, X, y, reset, validate_separately, **check_params)\u001b[0m\n\u001b[1;32m    563\u001b[0m     \u001b[38;5;28;01mraise\u001b[39;00m \u001b[38;5;167;01mValueError\u001b[39;00m(\u001b[38;5;124m\"\u001b[39m\u001b[38;5;124mValidation should be done on X, y or both.\u001b[39m\u001b[38;5;124m\"\u001b[39m)\n\u001b[1;32m    564\u001b[0m \u001b[38;5;28;01melif\u001b[39;00m \u001b[38;5;129;01mnot\u001b[39;00m no_val_X \u001b[38;5;129;01mand\u001b[39;00m no_val_y:\n\u001b[0;32m--> 565\u001b[0m     X \u001b[38;5;241m=\u001b[39m \u001b[43mcheck_array\u001b[49m\u001b[43m(\u001b[49m\u001b[43mX\u001b[49m\u001b[43m,\u001b[49m\u001b[43m \u001b[49m\u001b[43minput_name\u001b[49m\u001b[38;5;241;43m=\u001b[39;49m\u001b[38;5;124;43m\"\u001b[39;49m\u001b[38;5;124;43mX\u001b[39;49m\u001b[38;5;124;43m\"\u001b[39;49m\u001b[43m,\u001b[49m\u001b[43m \u001b[49m\u001b[38;5;241;43m*\u001b[39;49m\u001b[38;5;241;43m*\u001b[39;49m\u001b[43mcheck_params\u001b[49m\u001b[43m)\u001b[49m\n\u001b[1;32m    566\u001b[0m     out \u001b[38;5;241m=\u001b[39m X\n\u001b[1;32m    567\u001b[0m \u001b[38;5;28;01melif\u001b[39;00m no_val_X \u001b[38;5;129;01mand\u001b[39;00m \u001b[38;5;129;01mnot\u001b[39;00m no_val_y:\n",
      "File \u001b[0;32m~/jorgenv/lib/python3.10/site-packages/sklearn/utils/validation.py:902\u001b[0m, in \u001b[0;36mcheck_array\u001b[0;34m(array, accept_sparse, accept_large_sparse, dtype, order, copy, force_all_finite, ensure_2d, allow_nd, ensure_min_samples, ensure_min_features, estimator, input_name)\u001b[0m\n\u001b[1;32m    900\u001b[0m     \u001b[38;5;66;03m# If input is 1D raise error\u001b[39;00m\n\u001b[1;32m    901\u001b[0m     \u001b[38;5;28;01mif\u001b[39;00m array\u001b[38;5;241m.\u001b[39mndim \u001b[38;5;241m==\u001b[39m \u001b[38;5;241m1\u001b[39m:\n\u001b[0;32m--> 902\u001b[0m         \u001b[38;5;28;01mraise\u001b[39;00m \u001b[38;5;167;01mValueError\u001b[39;00m(\n\u001b[1;32m    903\u001b[0m             \u001b[38;5;124m\"\u001b[39m\u001b[38;5;124mExpected 2D array, got 1D array instead:\u001b[39m\u001b[38;5;130;01m\\n\u001b[39;00m\u001b[38;5;124marray=\u001b[39m\u001b[38;5;132;01m{}\u001b[39;00m\u001b[38;5;124m.\u001b[39m\u001b[38;5;130;01m\\n\u001b[39;00m\u001b[38;5;124m\"\u001b[39m\n\u001b[1;32m    904\u001b[0m             \u001b[38;5;124m\"\u001b[39m\u001b[38;5;124mReshape your data either using array.reshape(-1, 1) if \u001b[39m\u001b[38;5;124m\"\u001b[39m\n\u001b[1;32m    905\u001b[0m             \u001b[38;5;124m\"\u001b[39m\u001b[38;5;124myour data has a single feature or array.reshape(1, -1) \u001b[39m\u001b[38;5;124m\"\u001b[39m\n\u001b[1;32m    906\u001b[0m             \u001b[38;5;124m\"\u001b[39m\u001b[38;5;124mif it contains a single sample.\u001b[39m\u001b[38;5;124m\"\u001b[39m\u001b[38;5;241m.\u001b[39mformat(array)\n\u001b[1;32m    907\u001b[0m         )\n\u001b[1;32m    909\u001b[0m \u001b[38;5;28;01mif\u001b[39;00m dtype_numeric \u001b[38;5;129;01mand\u001b[39;00m array\u001b[38;5;241m.\u001b[39mdtype\u001b[38;5;241m.\u001b[39mkind \u001b[38;5;129;01min\u001b[39;00m \u001b[38;5;124m\"\u001b[39m\u001b[38;5;124mUSV\u001b[39m\u001b[38;5;124m\"\u001b[39m:\n\u001b[1;32m    910\u001b[0m     \u001b[38;5;28;01mraise\u001b[39;00m \u001b[38;5;167;01mValueError\u001b[39;00m(\n\u001b[1;32m    911\u001b[0m         \u001b[38;5;124m\"\u001b[39m\u001b[38;5;124mdtype=\u001b[39m\u001b[38;5;124m'\u001b[39m\u001b[38;5;124mnumeric\u001b[39m\u001b[38;5;124m'\u001b[39m\u001b[38;5;124m is not compatible with arrays of bytes/strings.\u001b[39m\u001b[38;5;124m\"\u001b[39m\n\u001b[1;32m    912\u001b[0m         \u001b[38;5;124m\"\u001b[39m\u001b[38;5;124mConvert your data to numeric values explicitly instead.\u001b[39m\u001b[38;5;124m\"\u001b[39m\n\u001b[1;32m    913\u001b[0m     )\n",
      "\u001b[0;31mValueError\u001b[0m: Expected 2D array, got 1D array instead:\narray=[   0.        0.        0.        0.        0.     -564.0776    0.\n    0.        0.        0.        0.        0.        0.        0.\n    0.        0.        0.        0.    ].\nReshape your data either using array.reshape(-1, 1) if your data has a single feature or array.reshape(1, -1) if it contains a single sample."
     ]
    }
   ],
   "source": [
    "for x in range(0,peaches.shape[0]):\n",
    "    print(inst_6_model(scaler.fit_transform(np.array(peaches.iloc[x,:-2], dtype=float))))"
   ]
  },
  {
   "cell_type": "code",
   "execution_count": 107,
   "id": "e6ef67ba",
   "metadata": {},
   "outputs": [
    {
     "ename": "NameError",
     "evalue": "name 'x' is not defined",
     "output_type": "error",
     "traceback": [
      "\u001b[0;31m---------------------------------------------------------------------------\u001b[0m",
      "\u001b[0;31mNameError\u001b[0m                                 Traceback (most recent call last)",
      "Input \u001b[0;32mIn [107]\u001b[0m, in \u001b[0;36m<module>\u001b[0;34m\u001b[0m\n\u001b[0;32m----> 1\u001b[0m inst_6_model(scaler\u001b[38;5;241m.\u001b[39mfit_transform(np\u001b[38;5;241m.\u001b[39marray(\u001b[43mx\u001b[49m\u001b[38;5;241m.\u001b[39miloc[:\u001b[38;5;241m-\u001b[39m\u001b[38;5;241m2\u001b[39m], dtype\u001b[38;5;241m=\u001b[39m\u001b[38;5;28mfloat\u001b[39m)))\n",
      "\u001b[0;31mNameError\u001b[0m: name 'x' is not defined"
     ]
    }
   ],
   "source": []
  },
  {
   "cell_type": "code",
   "execution_count": 128,
   "id": "789be96d",
   "metadata": {},
   "outputs": [
    {
     "data": {
      "text/plain": [
       "17"
      ]
     },
     "execution_count": 128,
     "metadata": {},
     "output_type": "execute_result"
    }
   ],
   "source": [
    "len(peaches[peaches['mfccs_6'].apply(lambda x: x==0.0)])"
   ]
  },
  {
   "cell_type": "code",
   "execution_count": 119,
   "id": "0ddde525",
   "metadata": {},
   "outputs": [
    {
     "data": {
      "text/html": [
       "<div>\n",
       "<style scoped>\n",
       "    .dataframe tbody tr th:only-of-type {\n",
       "        vertical-align: middle;\n",
       "    }\n",
       "\n",
       "    .dataframe tbody tr th {\n",
       "        vertical-align: top;\n",
       "    }\n",
       "\n",
       "    .dataframe thead th {\n",
       "        text-align: right;\n",
       "    }\n",
       "</style>\n",
       "<table border=\"1\" class=\"dataframe\">\n",
       "  <thead>\n",
       "    <tr style=\"text-align: right;\">\n",
       "      <th></th>\n",
       "      <th>rms</th>\n",
       "      <th>spec_cent</th>\n",
       "      <th>spec_bw</th>\n",
       "      <th>rolloff</th>\n",
       "      <th>zcr</th>\n",
       "      <th>mfccs_0</th>\n",
       "      <th>mfccs_1</th>\n",
       "      <th>mfccs_2</th>\n",
       "      <th>mfccs_3</th>\n",
       "      <th>mfccs_4</th>\n",
       "      <th>mfccs_5</th>\n",
       "      <th>mfccs_6</th>\n",
       "      <th>mfccs_7</th>\n",
       "      <th>mfccs_8</th>\n",
       "      <th>mfccs_9</th>\n",
       "      <th>mfccs_10</th>\n",
       "      <th>mfccs_11</th>\n",
       "      <th>mfccs_12</th>\n",
       "      <th>instrument_type_predicted</th>\n",
       "      <th>instrument_type_name</th>\n",
       "    </tr>\n",
       "  </thead>\n",
       "  <tbody>\n",
       "    <tr>\n",
       "      <th>0</th>\n",
       "      <td>0.000000e+00</td>\n",
       "      <td>0.000000</td>\n",
       "      <td>0.000000</td>\n",
       "      <td>0.000000</td>\n",
       "      <td>0.000000</td>\n",
       "      <td>-564.07760</td>\n",
       "      <td>0.000000</td>\n",
       "      <td>0.000000</td>\n",
       "      <td>0.000000</td>\n",
       "      <td>0.000000</td>\n",
       "      <td>0.000000</td>\n",
       "      <td>0.000000</td>\n",
       "      <td>0.000000</td>\n",
       "      <td>0.000000</td>\n",
       "      <td>0.000000</td>\n",
       "      <td>0.000000</td>\n",
       "      <td>0.000000</td>\n",
       "      <td>0.000000</td>\n",
       "      <td>7</td>\n",
       "      <td>noise</td>\n",
       "    </tr>\n",
       "    <tr>\n",
       "      <th>1</th>\n",
       "      <td>0.000000e+00</td>\n",
       "      <td>0.000000</td>\n",
       "      <td>0.000000</td>\n",
       "      <td>0.000000</td>\n",
       "      <td>0.000000</td>\n",
       "      <td>-564.07760</td>\n",
       "      <td>0.000000</td>\n",
       "      <td>0.000000</td>\n",
       "      <td>0.000000</td>\n",
       "      <td>0.000000</td>\n",
       "      <td>0.000000</td>\n",
       "      <td>0.000000</td>\n",
       "      <td>0.000000</td>\n",
       "      <td>0.000000</td>\n",
       "      <td>0.000000</td>\n",
       "      <td>0.000000</td>\n",
       "      <td>0.000000</td>\n",
       "      <td>0.000000</td>\n",
       "      <td>7</td>\n",
       "      <td>noise</td>\n",
       "    </tr>\n",
       "    <tr>\n",
       "      <th>2</th>\n",
       "      <td>0.000000e+00</td>\n",
       "      <td>0.000000</td>\n",
       "      <td>0.000000</td>\n",
       "      <td>0.000000</td>\n",
       "      <td>0.000000</td>\n",
       "      <td>-564.07760</td>\n",
       "      <td>0.000000</td>\n",
       "      <td>0.000000</td>\n",
       "      <td>0.000000</td>\n",
       "      <td>0.000000</td>\n",
       "      <td>0.000000</td>\n",
       "      <td>0.000000</td>\n",
       "      <td>0.000000</td>\n",
       "      <td>0.000000</td>\n",
       "      <td>0.000000</td>\n",
       "      <td>0.000000</td>\n",
       "      <td>0.000000</td>\n",
       "      <td>0.000000</td>\n",
       "      <td>7</td>\n",
       "      <td>noise</td>\n",
       "    </tr>\n",
       "    <tr>\n",
       "      <th>3</th>\n",
       "      <td>1.156595e-14</td>\n",
       "      <td>5726.892173</td>\n",
       "      <td>3310.618119</td>\n",
       "      <td>9980.639648</td>\n",
       "      <td>0.000000</td>\n",
       "      <td>-564.07760</td>\n",
       "      <td>0.000000</td>\n",
       "      <td>0.000000</td>\n",
       "      <td>0.000000</td>\n",
       "      <td>0.000000</td>\n",
       "      <td>0.000000</td>\n",
       "      <td>0.000000</td>\n",
       "      <td>0.000000</td>\n",
       "      <td>0.000000</td>\n",
       "      <td>0.000000</td>\n",
       "      <td>0.000000</td>\n",
       "      <td>0.000000</td>\n",
       "      <td>0.000000</td>\n",
       "      <td>6</td>\n",
       "      <td>singing</td>\n",
       "    </tr>\n",
       "    <tr>\n",
       "      <th>4</th>\n",
       "      <td>3.013355e-14</td>\n",
       "      <td>5636.735205</td>\n",
       "      <td>3203.756724</td>\n",
       "      <td>9679.174805</td>\n",
       "      <td>0.000000</td>\n",
       "      <td>-564.07760</td>\n",
       "      <td>0.000000</td>\n",
       "      <td>0.000000</td>\n",
       "      <td>0.000000</td>\n",
       "      <td>0.000000</td>\n",
       "      <td>0.000000</td>\n",
       "      <td>0.000000</td>\n",
       "      <td>0.000000</td>\n",
       "      <td>0.000000</td>\n",
       "      <td>0.000000</td>\n",
       "      <td>0.000000</td>\n",
       "      <td>0.000000</td>\n",
       "      <td>0.000000</td>\n",
       "      <td>7</td>\n",
       "      <td>noise</td>\n",
       "    </tr>\n",
       "    <tr>\n",
       "      <th>...</th>\n",
       "      <td>...</td>\n",
       "      <td>...</td>\n",
       "      <td>...</td>\n",
       "      <td>...</td>\n",
       "      <td>...</td>\n",
       "      <td>...</td>\n",
       "      <td>...</td>\n",
       "      <td>...</td>\n",
       "      <td>...</td>\n",
       "      <td>...</td>\n",
       "      <td>...</td>\n",
       "      <td>...</td>\n",
       "      <td>...</td>\n",
       "      <td>...</td>\n",
       "      <td>...</td>\n",
       "      <td>...</td>\n",
       "      <td>...</td>\n",
       "      <td>...</td>\n",
       "      <td>...</td>\n",
       "      <td>...</td>\n",
       "    </tr>\n",
       "    <tr>\n",
       "      <th>7317</th>\n",
       "      <td>1.117105e-03</td>\n",
       "      <td>2128.187048</td>\n",
       "      <td>1941.466457</td>\n",
       "      <td>3617.578125</td>\n",
       "      <td>0.133301</td>\n",
       "      <td>-460.80685</td>\n",
       "      <td>65.696594</td>\n",
       "      <td>-28.021587</td>\n",
       "      <td>-13.611927</td>\n",
       "      <td>7.486486</td>\n",
       "      <td>-2.839512</td>\n",
       "      <td>-1.166629</td>\n",
       "      <td>-1.828944</td>\n",
       "      <td>-7.770325</td>\n",
       "      <td>-6.542423</td>\n",
       "      <td>-8.216579</td>\n",
       "      <td>-8.614381</td>\n",
       "      <td>-7.239151</td>\n",
       "      <td>1</td>\n",
       "      <td>brass</td>\n",
       "    </tr>\n",
       "    <tr>\n",
       "      <th>7318</th>\n",
       "      <td>1.174458e-03</td>\n",
       "      <td>2077.859357</td>\n",
       "      <td>1925.179261</td>\n",
       "      <td>3606.811523</td>\n",
       "      <td>0.126465</td>\n",
       "      <td>-458.93356</td>\n",
       "      <td>68.531360</td>\n",
       "      <td>-26.078667</td>\n",
       "      <td>-13.538274</td>\n",
       "      <td>8.410459</td>\n",
       "      <td>0.633437</td>\n",
       "      <td>2.172370</td>\n",
       "      <td>0.722847</td>\n",
       "      <td>-4.589847</td>\n",
       "      <td>-3.014851</td>\n",
       "      <td>-4.298756</td>\n",
       "      <td>-6.516530</td>\n",
       "      <td>-8.163893</td>\n",
       "      <td>1</td>\n",
       "      <td>brass</td>\n",
       "    </tr>\n",
       "    <tr>\n",
       "      <th>7319</th>\n",
       "      <td>1.145464e-03</td>\n",
       "      <td>2101.543688</td>\n",
       "      <td>2020.532042</td>\n",
       "      <td>3725.244141</td>\n",
       "      <td>0.125000</td>\n",
       "      <td>-465.07285</td>\n",
       "      <td>67.795616</td>\n",
       "      <td>-20.933617</td>\n",
       "      <td>-11.609925</td>\n",
       "      <td>12.307507</td>\n",
       "      <td>4.289395</td>\n",
       "      <td>1.476938</td>\n",
       "      <td>1.397412</td>\n",
       "      <td>-3.484148</td>\n",
       "      <td>-4.123268</td>\n",
       "      <td>-5.019330</td>\n",
       "      <td>-8.128373</td>\n",
       "      <td>-11.194332</td>\n",
       "      <td>1</td>\n",
       "      <td>brass</td>\n",
       "    </tr>\n",
       "    <tr>\n",
       "      <th>7320</th>\n",
       "      <td>1.011876e-03</td>\n",
       "      <td>2110.759388</td>\n",
       "      <td>2019.865083</td>\n",
       "      <td>3746.777344</td>\n",
       "      <td>0.102051</td>\n",
       "      <td>-470.53363</td>\n",
       "      <td>63.903107</td>\n",
       "      <td>-21.422382</td>\n",
       "      <td>-14.022314</td>\n",
       "      <td>8.939741</td>\n",
       "      <td>1.682859</td>\n",
       "      <td>1.026704</td>\n",
       "      <td>4.747888</td>\n",
       "      <td>0.117566</td>\n",
       "      <td>-3.852565</td>\n",
       "      <td>-7.848798</td>\n",
       "      <td>-13.510786</td>\n",
       "      <td>-16.981354</td>\n",
       "      <td>1</td>\n",
       "      <td>brass</td>\n",
       "    </tr>\n",
       "    <tr>\n",
       "      <th>7321</th>\n",
       "      <td>8.137591e-04</td>\n",
       "      <td>2115.256374</td>\n",
       "      <td>2007.078881</td>\n",
       "      <td>3789.843750</td>\n",
       "      <td>0.071289</td>\n",
       "      <td>-487.15518</td>\n",
       "      <td>54.534946</td>\n",
       "      <td>-16.608917</td>\n",
       "      <td>-13.719713</td>\n",
       "      <td>8.790948</td>\n",
       "      <td>4.653482</td>\n",
       "      <td>0.165616</td>\n",
       "      <td>6.101295</td>\n",
       "      <td>8.489083</td>\n",
       "      <td>2.473620</td>\n",
       "      <td>-6.782734</td>\n",
       "      <td>-13.241824</td>\n",
       "      <td>-16.369263</td>\n",
       "      <td>1</td>\n",
       "      <td>brass</td>\n",
       "    </tr>\n",
       "  </tbody>\n",
       "</table>\n",
       "<p>7322 rows × 20 columns</p>\n",
       "</div>"
      ],
      "text/plain": [
       "               rms    spec_cent      spec_bw      rolloff       zcr  \\\n",
       "0     0.000000e+00     0.000000     0.000000     0.000000  0.000000   \n",
       "1     0.000000e+00     0.000000     0.000000     0.000000  0.000000   \n",
       "2     0.000000e+00     0.000000     0.000000     0.000000  0.000000   \n",
       "3     1.156595e-14  5726.892173  3310.618119  9980.639648  0.000000   \n",
       "4     3.013355e-14  5636.735205  3203.756724  9679.174805  0.000000   \n",
       "...            ...          ...          ...          ...       ...   \n",
       "7317  1.117105e-03  2128.187048  1941.466457  3617.578125  0.133301   \n",
       "7318  1.174458e-03  2077.859357  1925.179261  3606.811523  0.126465   \n",
       "7319  1.145464e-03  2101.543688  2020.532042  3725.244141  0.125000   \n",
       "7320  1.011876e-03  2110.759388  2019.865083  3746.777344  0.102051   \n",
       "7321  8.137591e-04  2115.256374  2007.078881  3789.843750  0.071289   \n",
       "\n",
       "        mfccs_0    mfccs_1    mfccs_2    mfccs_3    mfccs_4   mfccs_5  \\\n",
       "0    -564.07760   0.000000   0.000000   0.000000   0.000000  0.000000   \n",
       "1    -564.07760   0.000000   0.000000   0.000000   0.000000  0.000000   \n",
       "2    -564.07760   0.000000   0.000000   0.000000   0.000000  0.000000   \n",
       "3    -564.07760   0.000000   0.000000   0.000000   0.000000  0.000000   \n",
       "4    -564.07760   0.000000   0.000000   0.000000   0.000000  0.000000   \n",
       "...         ...        ...        ...        ...        ...       ...   \n",
       "7317 -460.80685  65.696594 -28.021587 -13.611927   7.486486 -2.839512   \n",
       "7318 -458.93356  68.531360 -26.078667 -13.538274   8.410459  0.633437   \n",
       "7319 -465.07285  67.795616 -20.933617 -11.609925  12.307507  4.289395   \n",
       "7320 -470.53363  63.903107 -21.422382 -14.022314   8.939741  1.682859   \n",
       "7321 -487.15518  54.534946 -16.608917 -13.719713   8.790948  4.653482   \n",
       "\n",
       "       mfccs_6   mfccs_7   mfccs_8   mfccs_9  mfccs_10   mfccs_11   mfccs_12  \\\n",
       "0     0.000000  0.000000  0.000000  0.000000  0.000000   0.000000   0.000000   \n",
       "1     0.000000  0.000000  0.000000  0.000000  0.000000   0.000000   0.000000   \n",
       "2     0.000000  0.000000  0.000000  0.000000  0.000000   0.000000   0.000000   \n",
       "3     0.000000  0.000000  0.000000  0.000000  0.000000   0.000000   0.000000   \n",
       "4     0.000000  0.000000  0.000000  0.000000  0.000000   0.000000   0.000000   \n",
       "...        ...       ...       ...       ...       ...        ...        ...   \n",
       "7317 -1.166629 -1.828944 -7.770325 -6.542423 -8.216579  -8.614381  -7.239151   \n",
       "7318  2.172370  0.722847 -4.589847 -3.014851 -4.298756  -6.516530  -8.163893   \n",
       "7319  1.476938  1.397412 -3.484148 -4.123268 -5.019330  -8.128373 -11.194332   \n",
       "7320  1.026704  4.747888  0.117566 -3.852565 -7.848798 -13.510786 -16.981354   \n",
       "7321  0.165616  6.101295  8.489083  2.473620 -6.782734 -13.241824 -16.369263   \n",
       "\n",
       "      instrument_type_predicted instrument_type_name  \n",
       "0                             7                noise  \n",
       "1                             7                noise  \n",
       "2                             7                noise  \n",
       "3                             6              singing  \n",
       "4                             7                noise  \n",
       "...                         ...                  ...  \n",
       "7317                          1                brass  \n",
       "7318                          1                brass  \n",
       "7319                          1                brass  \n",
       "7320                          1                brass  \n",
       "7321                          1                brass  \n",
       "\n",
       "[7322 rows x 20 columns]"
      ]
     },
     "execution_count": 119,
     "metadata": {},
     "output_type": "execute_result"
    }
   ],
   "source": [
    "peaches"
   ]
  },
  {
   "cell_type": "code",
   "execution_count": 131,
   "id": "4330d00b",
   "metadata": {},
   "outputs": [
    {
     "data": {
      "text/html": [
       "<div>\n",
       "<style scoped>\n",
       "    .dataframe tbody tr th:only-of-type {\n",
       "        vertical-align: middle;\n",
       "    }\n",
       "\n",
       "    .dataframe tbody tr th {\n",
       "        vertical-align: top;\n",
       "    }\n",
       "\n",
       "    .dataframe thead th {\n",
       "        text-align: right;\n",
       "    }\n",
       "</style>\n",
       "<table border=\"1\" class=\"dataframe\">\n",
       "  <thead>\n",
       "    <tr style=\"text-align: right;\">\n",
       "      <th></th>\n",
       "      <th>rms</th>\n",
       "      <th>spec_cent</th>\n",
       "      <th>spec_bw</th>\n",
       "      <th>rolloff</th>\n",
       "      <th>zcr</th>\n",
       "      <th>mfccs_0</th>\n",
       "      <th>mfccs_1</th>\n",
       "      <th>mfccs_2</th>\n",
       "      <th>mfccs_3</th>\n",
       "      <th>mfccs_4</th>\n",
       "      <th>mfccs_5</th>\n",
       "      <th>mfccs_6</th>\n",
       "      <th>mfccs_7</th>\n",
       "      <th>mfccs_8</th>\n",
       "      <th>mfccs_9</th>\n",
       "      <th>mfccs_10</th>\n",
       "      <th>mfccs_11</th>\n",
       "      <th>mfccs_12</th>\n",
       "      <th>instrument_type_predicted</th>\n",
       "      <th>instrument_type_name</th>\n",
       "    </tr>\n",
       "  </thead>\n",
       "  <tbody>\n",
       "    <tr>\n",
       "      <th>3</th>\n",
       "      <td>1.156595e-14</td>\n",
       "      <td>5726.892173</td>\n",
       "      <td>3310.618119</td>\n",
       "      <td>9980.639648</td>\n",
       "      <td>0.000000</td>\n",
       "      <td>-564.07760</td>\n",
       "      <td>0.000000</td>\n",
       "      <td>0.000000</td>\n",
       "      <td>0.000000</td>\n",
       "      <td>0.000000</td>\n",
       "      <td>0.000000</td>\n",
       "      <td>0.000000</td>\n",
       "      <td>0.000000</td>\n",
       "      <td>0.000000</td>\n",
       "      <td>0.000000</td>\n",
       "      <td>0.000000</td>\n",
       "      <td>0.000000</td>\n",
       "      <td>0.000000</td>\n",
       "      <td>6</td>\n",
       "      <td>singing</td>\n",
       "    </tr>\n",
       "    <tr>\n",
       "      <th>12</th>\n",
       "      <td>2.106130e-02</td>\n",
       "      <td>6181.614943</td>\n",
       "      <td>2731.542016</td>\n",
       "      <td>9248.510742</td>\n",
       "      <td>0.545410</td>\n",
       "      <td>-315.64136</td>\n",
       "      <td>-41.111510</td>\n",
       "      <td>22.558334</td>\n",
       "      <td>17.584543</td>\n",
       "      <td>30.796047</td>\n",
       "      <td>29.681625</td>\n",
       "      <td>-7.238529</td>\n",
       "      <td>20.609600</td>\n",
       "      <td>4.666684</td>\n",
       "      <td>16.568851</td>\n",
       "      <td>12.433352</td>\n",
       "      <td>6.003268</td>\n",
       "      <td>8.820747</td>\n",
       "      <td>6</td>\n",
       "      <td>singing</td>\n",
       "    </tr>\n",
       "    <tr>\n",
       "      <th>16</th>\n",
       "      <td>3.156509e-04</td>\n",
       "      <td>4943.904495</td>\n",
       "      <td>3130.555964</td>\n",
       "      <td>8860.913086</td>\n",
       "      <td>0.452148</td>\n",
       "      <td>-555.53010</td>\n",
       "      <td>5.693569</td>\n",
       "      <td>-0.309217</td>\n",
       "      <td>5.830748</td>\n",
       "      <td>10.996153</td>\n",
       "      <td>5.256971</td>\n",
       "      <td>0.096686</td>\n",
       "      <td>4.447771</td>\n",
       "      <td>9.086618</td>\n",
       "      <td>4.988353</td>\n",
       "      <td>-0.267360</td>\n",
       "      <td>2.816060</td>\n",
       "      <td>7.301386</td>\n",
       "      <td>6</td>\n",
       "      <td>singing</td>\n",
       "    </tr>\n",
       "    <tr>\n",
       "      <th>161</th>\n",
       "      <td>5.193421e-02</td>\n",
       "      <td>3320.118236</td>\n",
       "      <td>2608.974041</td>\n",
       "      <td>6352.294922</td>\n",
       "      <td>0.270020</td>\n",
       "      <td>-114.74920</td>\n",
       "      <td>61.824097</td>\n",
       "      <td>-22.978542</td>\n",
       "      <td>16.364183</td>\n",
       "      <td>-25.916573</td>\n",
       "      <td>9.108524</td>\n",
       "      <td>-15.906714</td>\n",
       "      <td>0.945143</td>\n",
       "      <td>-1.980760</td>\n",
       "      <td>4.188730</td>\n",
       "      <td>-22.729588</td>\n",
       "      <td>10.835538</td>\n",
       "      <td>-11.904405</td>\n",
       "      <td>6</td>\n",
       "      <td>singing</td>\n",
       "    </tr>\n",
       "    <tr>\n",
       "      <th>162</th>\n",
       "      <td>4.083123e-02</td>\n",
       "      <td>3290.707294</td>\n",
       "      <td>2602.884426</td>\n",
       "      <td>6287.695312</td>\n",
       "      <td>0.253418</td>\n",
       "      <td>-131.31674</td>\n",
       "      <td>60.927890</td>\n",
       "      <td>-21.061210</td>\n",
       "      <td>15.915478</td>\n",
       "      <td>-30.508808</td>\n",
       "      <td>4.547114</td>\n",
       "      <td>-28.565886</td>\n",
       "      <td>-7.319231</td>\n",
       "      <td>-7.435170</td>\n",
       "      <td>1.887699</td>\n",
       "      <td>-25.210976</td>\n",
       "      <td>14.172609</td>\n",
       "      <td>-8.887466</td>\n",
       "      <td>6</td>\n",
       "      <td>singing</td>\n",
       "    </tr>\n",
       "    <tr>\n",
       "      <th>...</th>\n",
       "      <td>...</td>\n",
       "      <td>...</td>\n",
       "      <td>...</td>\n",
       "      <td>...</td>\n",
       "      <td>...</td>\n",
       "      <td>...</td>\n",
       "      <td>...</td>\n",
       "      <td>...</td>\n",
       "      <td>...</td>\n",
       "      <td>...</td>\n",
       "      <td>...</td>\n",
       "      <td>...</td>\n",
       "      <td>...</td>\n",
       "      <td>...</td>\n",
       "      <td>...</td>\n",
       "      <td>...</td>\n",
       "      <td>...</td>\n",
       "      <td>...</td>\n",
       "      <td>...</td>\n",
       "      <td>...</td>\n",
       "    </tr>\n",
       "    <tr>\n",
       "      <th>5759</th>\n",
       "      <td>4.968766e-02</td>\n",
       "      <td>2482.827398</td>\n",
       "      <td>1810.205962</td>\n",
       "      <td>4511.206055</td>\n",
       "      <td>0.163086</td>\n",
       "      <td>-144.31050</td>\n",
       "      <td>83.371070</td>\n",
       "      <td>-84.020836</td>\n",
       "      <td>10.148407</td>\n",
       "      <td>-9.057024</td>\n",
       "      <td>25.016800</td>\n",
       "      <td>-14.828281</td>\n",
       "      <td>1.520978</td>\n",
       "      <td>10.790264</td>\n",
       "      <td>0.154740</td>\n",
       "      <td>4.522187</td>\n",
       "      <td>9.669994</td>\n",
       "      <td>-6.550300</td>\n",
       "      <td>6</td>\n",
       "      <td>singing</td>\n",
       "    </tr>\n",
       "    <tr>\n",
       "      <th>5760</th>\n",
       "      <td>4.995284e-02</td>\n",
       "      <td>2602.875863</td>\n",
       "      <td>1902.960591</td>\n",
       "      <td>4640.405273</td>\n",
       "      <td>0.170898</td>\n",
       "      <td>-132.31422</td>\n",
       "      <td>75.864624</td>\n",
       "      <td>-76.481470</td>\n",
       "      <td>9.259155</td>\n",
       "      <td>-13.160841</td>\n",
       "      <td>26.876163</td>\n",
       "      <td>-17.406315</td>\n",
       "      <td>-3.923172</td>\n",
       "      <td>9.837364</td>\n",
       "      <td>-0.009950</td>\n",
       "      <td>-1.376455</td>\n",
       "      <td>9.138608</td>\n",
       "      <td>-6.263877</td>\n",
       "      <td>6</td>\n",
       "      <td>singing</td>\n",
       "    </tr>\n",
       "    <tr>\n",
       "      <th>5777</th>\n",
       "      <td>3.875104e-02</td>\n",
       "      <td>2112.954658</td>\n",
       "      <td>1624.033378</td>\n",
       "      <td>3768.310547</td>\n",
       "      <td>0.142090</td>\n",
       "      <td>-165.73398</td>\n",
       "      <td>98.973680</td>\n",
       "      <td>-92.820890</td>\n",
       "      <td>-8.297152</td>\n",
       "      <td>-23.573645</td>\n",
       "      <td>25.073925</td>\n",
       "      <td>-1.975322</td>\n",
       "      <td>-0.103445</td>\n",
       "      <td>-3.327511</td>\n",
       "      <td>0.240206</td>\n",
       "      <td>-9.108937</td>\n",
       "      <td>3.422263</td>\n",
       "      <td>-4.344016</td>\n",
       "      <td>6</td>\n",
       "      <td>singing</td>\n",
       "    </tr>\n",
       "    <tr>\n",
       "      <th>5778</th>\n",
       "      <td>4.118774e-02</td>\n",
       "      <td>2096.363833</td>\n",
       "      <td>1673.940856</td>\n",
       "      <td>3714.477539</td>\n",
       "      <td>0.139648</td>\n",
       "      <td>-161.82881</td>\n",
       "      <td>98.904420</td>\n",
       "      <td>-88.948610</td>\n",
       "      <td>-12.402101</td>\n",
       "      <td>-23.680307</td>\n",
       "      <td>25.857399</td>\n",
       "      <td>-6.365520</td>\n",
       "      <td>5.362111</td>\n",
       "      <td>-1.109872</td>\n",
       "      <td>0.969134</td>\n",
       "      <td>-14.479006</td>\n",
       "      <td>2.229706</td>\n",
       "      <td>-4.866431</td>\n",
       "      <td>6</td>\n",
       "      <td>singing</td>\n",
       "    </tr>\n",
       "    <tr>\n",
       "      <th>6437</th>\n",
       "      <td>8.391371e-03</td>\n",
       "      <td>2126.274903</td>\n",
       "      <td>2075.322734</td>\n",
       "      <td>3908.276367</td>\n",
       "      <td>0.121582</td>\n",
       "      <td>-297.47418</td>\n",
       "      <td>103.883446</td>\n",
       "      <td>-44.523525</td>\n",
       "      <td>1.953995</td>\n",
       "      <td>-13.709682</td>\n",
       "      <td>-1.546751</td>\n",
       "      <td>-4.132659</td>\n",
       "      <td>-5.148747</td>\n",
       "      <td>-13.886132</td>\n",
       "      <td>-4.510683</td>\n",
       "      <td>-11.126352</td>\n",
       "      <td>-7.070900</td>\n",
       "      <td>-7.856731</td>\n",
       "      <td>6</td>\n",
       "      <td>singing</td>\n",
       "    </tr>\n",
       "  </tbody>\n",
       "</table>\n",
       "<p>760 rows × 20 columns</p>\n",
       "</div>"
      ],
      "text/plain": [
       "               rms    spec_cent      spec_bw      rolloff       zcr  \\\n",
       "3     1.156595e-14  5726.892173  3310.618119  9980.639648  0.000000   \n",
       "12    2.106130e-02  6181.614943  2731.542016  9248.510742  0.545410   \n",
       "16    3.156509e-04  4943.904495  3130.555964  8860.913086  0.452148   \n",
       "161   5.193421e-02  3320.118236  2608.974041  6352.294922  0.270020   \n",
       "162   4.083123e-02  3290.707294  2602.884426  6287.695312  0.253418   \n",
       "...            ...          ...          ...          ...       ...   \n",
       "5759  4.968766e-02  2482.827398  1810.205962  4511.206055  0.163086   \n",
       "5760  4.995284e-02  2602.875863  1902.960591  4640.405273  0.170898   \n",
       "5777  3.875104e-02  2112.954658  1624.033378  3768.310547  0.142090   \n",
       "5778  4.118774e-02  2096.363833  1673.940856  3714.477539  0.139648   \n",
       "6437  8.391371e-03  2126.274903  2075.322734  3908.276367  0.121582   \n",
       "\n",
       "        mfccs_0     mfccs_1    mfccs_2    mfccs_3    mfccs_4    mfccs_5  \\\n",
       "3    -564.07760    0.000000   0.000000   0.000000   0.000000   0.000000   \n",
       "12   -315.64136  -41.111510  22.558334  17.584543  30.796047  29.681625   \n",
       "16   -555.53010    5.693569  -0.309217   5.830748  10.996153   5.256971   \n",
       "161  -114.74920   61.824097 -22.978542  16.364183 -25.916573   9.108524   \n",
       "162  -131.31674   60.927890 -21.061210  15.915478 -30.508808   4.547114   \n",
       "...         ...         ...        ...        ...        ...        ...   \n",
       "5759 -144.31050   83.371070 -84.020836  10.148407  -9.057024  25.016800   \n",
       "5760 -132.31422   75.864624 -76.481470   9.259155 -13.160841  26.876163   \n",
       "5777 -165.73398   98.973680 -92.820890  -8.297152 -23.573645  25.073925   \n",
       "5778 -161.82881   98.904420 -88.948610 -12.402101 -23.680307  25.857399   \n",
       "6437 -297.47418  103.883446 -44.523525   1.953995 -13.709682  -1.546751   \n",
       "\n",
       "        mfccs_6    mfccs_7    mfccs_8    mfccs_9   mfccs_10   mfccs_11  \\\n",
       "3      0.000000   0.000000   0.000000   0.000000   0.000000   0.000000   \n",
       "12    -7.238529  20.609600   4.666684  16.568851  12.433352   6.003268   \n",
       "16     0.096686   4.447771   9.086618   4.988353  -0.267360   2.816060   \n",
       "161  -15.906714   0.945143  -1.980760   4.188730 -22.729588  10.835538   \n",
       "162  -28.565886  -7.319231  -7.435170   1.887699 -25.210976  14.172609   \n",
       "...         ...        ...        ...        ...        ...        ...   \n",
       "5759 -14.828281   1.520978  10.790264   0.154740   4.522187   9.669994   \n",
       "5760 -17.406315  -3.923172   9.837364  -0.009950  -1.376455   9.138608   \n",
       "5777  -1.975322  -0.103445  -3.327511   0.240206  -9.108937   3.422263   \n",
       "5778  -6.365520   5.362111  -1.109872   0.969134 -14.479006   2.229706   \n",
       "6437  -4.132659  -5.148747 -13.886132  -4.510683 -11.126352  -7.070900   \n",
       "\n",
       "       mfccs_12  instrument_type_predicted instrument_type_name  \n",
       "3      0.000000                          6              singing  \n",
       "12     8.820747                          6              singing  \n",
       "16     7.301386                          6              singing  \n",
       "161  -11.904405                          6              singing  \n",
       "162   -8.887466                          6              singing  \n",
       "...         ...                        ...                  ...  \n",
       "5759  -6.550300                          6              singing  \n",
       "5760  -6.263877                          6              singing  \n",
       "5777  -4.344016                          6              singing  \n",
       "5778  -4.866431                          6              singing  \n",
       "6437  -7.856731                          6              singing  \n",
       "\n",
       "[760 rows x 20 columns]"
      ]
     },
     "execution_count": 131,
     "metadata": {},
     "output_type": "execute_result"
    }
   ],
   "source": [
    "X_matrix"
   ]
  },
  {
   "cell_type": "code",
   "execution_count": 158,
   "id": "dbfabace",
   "metadata": {},
   "outputs": [
    {
     "data": {
      "text/plain": [
       "array([[ 1.15659530e-14,  5.72689217e+03,  3.31061812e+03,\n",
       "         9.98063965e+03,  0.00000000e+00, -5.64077600e+02,\n",
       "         0.00000000e+00,  0.00000000e+00,  0.00000000e+00,\n",
       "         0.00000000e+00,  0.00000000e+00,  0.00000000e+00,\n",
       "         0.00000000e+00,  0.00000000e+00,  0.00000000e+00,\n",
       "         0.00000000e+00,  0.00000000e+00]])"
      ]
     },
     "execution_count": 158,
     "metadata": {},
     "output_type": "execute_result"
    }
   ],
   "source": []
  },
  {
   "cell_type": "code",
   "execution_count": 181,
   "id": "49c8cc3b",
   "metadata": {},
   "outputs": [],
   "source": [
    "index_0 = peaches.index[peaches['instrument_type_predicted'] == 6].tolist()\n",
    "peaches_0 = peaches[peaches['instrument_type_predicted'] == 6]"
   ]
  },
  {
   "cell_type": "code",
   "execution_count": 201,
   "id": "6beca390",
   "metadata": {},
   "outputs": [],
   "source": [
    "X =peaches.iloc[i,:]"
   ]
  },
  {
   "cell_type": "code",
   "execution_count": 203,
   "id": "61329041",
   "metadata": {},
   "outputs": [
    {
     "data": {
      "text/plain": [
       "rms                  0.0\n",
       "spec_cent    5726.892173\n",
       "spec_bw      3310.618119\n",
       "rolloff      9980.639648\n",
       "zcr                  0.0\n",
       "mfccs_0        -564.0776\n",
       "mfccs_1              0.0\n",
       "mfccs_2              0.0\n",
       "mfccs_3              0.0\n",
       "mfccs_4              0.0\n",
       "mfccs_5              0.0\n",
       "mfccs_6              0.0\n",
       "mfccs_7              0.0\n",
       "mfccs_8              0.0\n",
       "mfccs_9              0.0\n",
       "mfccs_10             0.0\n",
       "mfccs_11             0.0\n",
       "mfccs_12             0.0\n",
       "Name: 3, dtype: object"
      ]
     },
     "execution_count": 203,
     "metadata": {},
     "output_type": "execute_result"
    }
   ],
   "source": [
    "X[:-2]"
   ]
  },
  {
   "cell_type": "code",
   "execution_count": 17,
   "id": "214f8191",
   "metadata": {},
   "outputs": [
    {
     "data": {
      "text/plain": [
       "Index(['rms', 'spec_cent', 'spec_bw', 'rolloff', 'zcr', 'mfccs_0', 'mfccs_1',\n",
       "       'mfccs_2', 'mfccs_3', 'mfccs_4', 'mfccs_5', 'mfccs_6', 'mfccs_7',\n",
       "       'mfccs_8', 'mfccs_9', 'mfccs_10', 'mfccs_11', 'mfccs_12',\n",
       "       'instrument_type_predicted', 'instrument_type_name',\n",
       "       'instrument_identification', 'instrument_identification_name'],\n",
       "      dtype='object')"
      ]
     },
     "execution_count": 17,
     "metadata": {},
     "output_type": "execute_result"
    }
   ],
   "source": [
    "peaches.columns"
   ]
  },
  {
   "cell_type": "code",
   "execution_count": 28,
   "id": "342c3f16",
   "metadata": {},
   "outputs": [],
   "source": [
    "Y_pred = []\n",
    "Y_name = []\n",
    "for i in range(0,len(peaches)):\n",
    "    X = peaches.iloc[i,:]\n",
    "    if X['instrument_type_predicted'] == 4:\n",
    "        X = X[:-5]\n",
    "        X = np.array(list(X.values), dtype=float).reshape(1,-1)\n",
    "        y_predo = inst_4_model.predict(X)[0]\n",
    "        Y_pred.append(y_predo)\n",
    "        Y_name.append(instruments_reduced[instrument_type[4]][y_predo])\n",
    "#peaches_0['instrument_prediction'] = Y_pred\n",
    "#peaches_0['instrument_prediction_name'] = Y_name"
   ]
  },
  {
   "cell_type": "code",
   "execution_count": 29,
   "id": "40ad8eed",
   "metadata": {},
   "outputs": [
    {
     "data": {
      "text/plain": [
       "6607"
      ]
     },
     "execution_count": 29,
     "metadata": {},
     "output_type": "execute_result"
    }
   ],
   "source": [
    "Y_name.count('Accordion')"
   ]
  },
  {
   "cell_type": "code",
   "execution_count": 30,
   "id": "5d145c57",
   "metadata": {},
   "outputs": [
    {
     "data": {
      "text/plain": [
       "0"
      ]
     },
     "execution_count": 30,
     "metadata": {},
     "output_type": "execute_result"
    }
   ],
   "source": [
    "Y_name.count('Keyboard')"
   ]
  },
  {
   "cell_type": "code",
   "execution_count": 26,
   "id": "e15bcdef",
   "metadata": {},
   "outputs": [
    {
     "ename": "NameError",
     "evalue": "name 'inst_6_model' is not defined",
     "output_type": "error",
     "traceback": [
      "\u001b[0;31m---------------------------------------------------------------------------\u001b[0m",
      "\u001b[0;31mNameError\u001b[0m                                 Traceback (most recent call last)",
      "Input \u001b[0;32mIn [26]\u001b[0m, in \u001b[0;36m<module>\u001b[0;34m\u001b[0m\n\u001b[1;32m      2\u001b[0m \u001b[38;5;66;03m#Y_name = []\u001b[39;00m\n\u001b[1;32m      3\u001b[0m \u001b[38;5;66;03m#for i in range(0,X_matrix.shape[0]):\u001b[39;00m\n\u001b[1;32m      4\u001b[0m \u001b[38;5;66;03m#X = scaler.fit_transform(np.array(X_matrix.iloc[:,:-3], dtype = float))\u001b[39;00m\n\u001b[1;32m      5\u001b[0m \u001b[38;5;66;03m#X = np.array(X_matrix.iloc[:,:-3])\u001b[39;00m\n\u001b[1;32m      6\u001b[0m X \u001b[38;5;241m=\u001b[39m np\u001b[38;5;241m.\u001b[39marray(\u001b[38;5;28mlist\u001b[39m(X_matrix\u001b[38;5;241m.\u001b[39miloc[\u001b[38;5;241m0\u001b[39m,:\u001b[38;5;241m-\u001b[39m\u001b[38;5;241m3\u001b[39m]\u001b[38;5;241m.\u001b[39mvalues), dtype\u001b[38;5;241m=\u001b[39m\u001b[38;5;28mfloat\u001b[39m)\u001b[38;5;241m.\u001b[39mreshape(\u001b[38;5;241m1\u001b[39m,\u001b[38;5;241m-\u001b[39m\u001b[38;5;241m1\u001b[39m)\n\u001b[0;32m----> 7\u001b[0m Y_pred \u001b[38;5;241m=\u001b[39m \u001b[43minst_6_model\u001b[49m\u001b[38;5;241m.\u001b[39mpredict(X)\n\u001b[1;32m      8\u001b[0m Y_name \u001b[38;5;241m=\u001b[39m [instruments_reduced[instrument_type[\u001b[38;5;241m6\u001b[39m]][i] \u001b[38;5;28;01mfor\u001b[39;00m i \u001b[38;5;129;01min\u001b[39;00m Y_pred]\n",
      "\u001b[0;31mNameError\u001b[0m: name 'inst_6_model' is not defined"
     ]
    }
   ],
   "source": [
    "Y_pred = []\n",
    "#Y_name = []\n",
    "#for i in range(0,X_matrix.shape[0]):\n",
    "#X = scaler.fit_transform(np.array(X_matrix.iloc[:,:-3], dtype = float))\n",
    "#X = np.array(X_matrix.iloc[:,:-3])\n",
    "X = np.array(list(X_matrix.iloc[0,:-3].values), dtype=float).reshape(1,-1)\n",
    "Y_pred = inst_6_model.predict(X)\n",
    "Y_name = [instruments_reduced[instrument_type[6]][i] for i in Y_pred]"
   ]
  },
  {
   "cell_type": "code",
   "execution_count": 161,
   "id": "98a6da1d",
   "metadata": {},
   "outputs": [
    {
     "data": {
      "text/plain": [
       "['Group Singing']"
      ]
     },
     "execution_count": 161,
     "metadata": {},
     "output_type": "execute_result"
    }
   ],
   "source": [
    "Y_name"
   ]
  },
  {
   "cell_type": "code",
   "execution_count": 151,
   "id": "aedea82e",
   "metadata": {},
   "outputs": [
    {
     "data": {
      "text/plain": [
       "432"
      ]
     },
     "execution_count": 151,
     "metadata": {},
     "output_type": "execute_result"
    }
   ],
   "source": [
    "Y_name.count('Single Voice Singing')"
   ]
  },
  {
   "cell_type": "code",
   "execution_count": 152,
   "id": "641623bb",
   "metadata": {},
   "outputs": [
    {
     "data": {
      "text/plain": [
       "328"
      ]
     },
     "execution_count": 152,
     "metadata": {},
     "output_type": "execute_result"
    }
   ],
   "source": [
    "Y_name.count('Group Singing')"
   ]
  },
  {
   "cell_type": "code",
   "execution_count": 5,
   "id": "2672ffc9",
   "metadata": {},
   "outputs": [],
   "source": [
    "import pandas as pd\n",
    "import re"
   ]
  },
  {
   "cell_type": "code",
   "execution_count": 6,
   "id": "3611b418",
   "metadata": {},
   "outputs": [],
   "source": [
    "instruments = ['Bass Tuba','French Horn','Trombone','Trumpet in C','Accordion','Cello','Contrabass','Viola','Violin','Alto Saxophone','Bassoon','Clarinet in Bb','Flute','Oboe','Guitar','Electric guitar','Acoustic guitar','Bass guitar','Tapping','Steelpan','Percussion', 'Drum and bass', 'Wind instrument', 'Bowed string instrument', 'Keyboard', 'Single Voice Singing', 'Group Singing', 'Noise']\n",
    "\n",
    "# bowed = 23"
   ]
  },
  {
   "cell_type": "code",
   "execution_count": 10,
   "id": "8a41aca4",
   "metadata": {},
   "outputs": [],
   "source": [
    "route1 = '/home/jacs/Documents/DataScience/Personal/data/instruments/'\n",
    "route2 = '/home/jacs/Documents/DataScience/Personal/data/'"
   ]
  },
  {
   "cell_type": "code",
   "execution_count": 11,
   "id": "ef058f88",
   "metadata": {},
   "outputs": [],
   "source": [
    "instruments_reduced = {'woodwind': ['Clarinet in Bb','Flute','Oboe', 'Bassoon', 'Alto Saxophone', 'Wind Instrument'],\n",
    "                       'brass':['Bass Tuba','French Horn','Trombone', 'Trumpet in C'],\n",
    "                       'bowed_string_instruments': ['Cello','Viola','Violin', 'Bowed string instrument'],\n",
    "                       'plucked_string_instruments':['Guitar','Electric guitar','Acoustic guitar', 'Tapping', 'Bass guitar','Contrabass'],\n",
    "                       'keyboard': ['Keyboard','Accordion'],\n",
    "                       'percussion': ['Steelpan','Percussion', 'Drum and bass'],\n",
    "                       'singing': ['Single Voice Singing', 'Group Singing'],\n",
    "                       'noise': ['Noise']}"
   ]
  },
  {
   "cell_type": "code",
   "execution_count": 12,
   "id": "f3ab9dad",
   "metadata": {},
   "outputs": [
    {
     "name": "stdout",
     "output_type": "stream",
     "text": [
      "['Clarinet in Bb', 'Flute', 'Oboe', 'Bassoon', 'Alto Saxophone', 'Wind Instrument']\n",
      "['Bass Tuba', 'French Horn', 'Trombone', 'Trumpet in C']\n",
      "['Cello', 'Viola', 'Violin', 'Bowed string instrument']\n",
      "['Guitar', 'Electric guitar', 'Acoustic guitar', 'Tapping', 'Bass guitar', 'Contrabass']\n",
      "['Keyboard', 'Accordion']\n",
      "['Steelpan', 'Percussion', 'Drum and bass']\n",
      "['Single Voice Singing', 'Group Singing']\n",
      "['Noise']\n"
     ]
    }
   ],
   "source": [
    "j = 0\n",
    "for typs in instruments_reduced:\n",
    "    df_typs = pd.DataFrame([])\n",
    "    typs2 = instruments_reduced[typs]\n",
    "    for instru in typs2:\n",
    "        instrument_lower = re.sub(' ','_',str(instru)).lower()\n",
    "        df1 = pd.read_csv(route1 + instrument_lower+'.csv')\n",
    "        df_typs = pd.concat((df_typs,df1),axis=0)\n",
    "    df_typs['instrument_type'] = [j]*len(df_typs)\n",
    "    df_typs['instrument_type_name'] = [typs]*len(df_typs)\n",
    "    try:\n",
    "        df_typs.drop(['Unnamed: 0'], axis=1)\n",
    "        df_typs.to_csv(route2 + typs+'.csv')\n",
    "        j +=1\n",
    "    except:\n",
    "        df_typs.to_csv(route2 + typs+'.csv')\n",
    "        j +=1\n",
    "    print(typs2)"
   ]
  },
  {
   "cell_type": "code",
   "execution_count": 9,
   "id": "9bd3f15e",
   "metadata": {},
   "outputs": [
    {
     "name": "stdout",
     "output_type": "stream",
     "text": [
      "Noise\n"
     ]
    }
   ],
   "source": [
    "for i in range(len(instruments)-1,len(instruments)):\n",
    "    instrument = instruments[i]\n",
    "    print(instrument)\n",
    "    instrument_lower = re.sub(' ','_',str(instrument)).lower()\n",
    "    df1 = pd.read_csv(route1 + instrument_lower+'.csv')\n",
    "    df1['instrument'] = [i] * len(df1)\n",
    "    df1['instrument_name'] = [instrument_lower] * len(df1)\n",
    "    try:\n",
    "        df1 = df1.drop(['Unnamed: 0'], axis=1)\n",
    "        df1.to_csv(route1 + instrument_lower+'.csv',  index=False)\n",
    "    except:\n",
    "        df1.to_csv(route1 + instrument_lower+'.csv',  index=False)"
   ]
  },
  {
   "cell_type": "code",
   "execution_count": 43,
   "id": "a035efc9",
   "metadata": {},
   "outputs": [
    {
     "data": {
      "text/plain": [
       "['noise', 'noise']"
      ]
     },
     "execution_count": 43,
     "metadata": {},
     "output_type": "execute_result"
    }
   ],
   "source": [
    "[typs]*2"
   ]
  },
  {
   "cell_type": "code",
   "execution_count": 2,
   "id": "9569c886",
   "metadata": {},
   "outputs": [
    {
     "data": {
      "text/plain": [
       "Text(0, 0.5, 'mfccs_0')"
      ]
     },
     "execution_count": 2,
     "metadata": {},
     "output_type": "execute_result"
    },
    {
     "data": {
      "image/png": "[encoded data removed]",
      "text/plain": [
       "<Figure size 432x288 with 1 Axes>"
      ]
     },
     "metadata": {
      "needs_background": "light"
     },
     "output_type": "display_data"
    }
   ],
   "source": [
    "linko1 = '/home/jacs/Documents/DataScience/Personal/song_similarity_audio/trumpet_in_c/database_trumpet_in_c_cepstrum_features.csv'\n",
    "linko2 = '/home/jacs/Documents/DataScience/Personal/song_similarity_audio/alto_saxophone/database_alto_saxophone_cepstrum_features.csv'\n",
    "\n",
    "linko1 = '/home/jacs/Documents/DataScience/Personal/song_similarity/data/trumpet_in_c.csv'\n",
    "linko2 = '/home/jacs/Documents/DataScience/Personal/song_similarity/data/french_horn.csv'\n",
    "\n",
    "\n",
    "df_trumpet = pd.read_csv(linko1)\n",
    "df_sax = pd.read_csv(linko2)\n",
    "\n",
    "#df_final2['mfccs_0'].describe()\n",
    "\n",
    "plt.plot(df_trumpet['rms'],df_trumpet['mfccs_0'], '.b')\n",
    "plt.plot(df_sax['rms'],df_sax['mfccs_0'], '+r')\n",
    "plt.xlabel('rms')\n",
    "plt.ylabel('mfccs_0')"
   ]
  },
  {
   "cell_type": "code",
   "execution_count": 3,
   "id": "4e9a5ee8",
   "metadata": {},
   "outputs": [],
   "source": [
    "df_trumpet['instrument'] = np.zeros(len(df_trumpet['instrument']))\n",
    "df_trumpet['instrument'] = df_trumpet['instrument'].apply(lambda x: int(x))\n",
    "df_sax['instrument'] = np.ones(len(df_sax['instrument']))\n",
    "df_sax['instrument'] = df_sax['instrument'].apply(lambda x: int(x))"
   ]
  },
  {
   "cell_type": "code",
   "execution_count": null,
   "id": "4bcb2e03",
   "metadata": {},
   "outputs": [],
   "source": []
  },
  {
   "cell_type": "code",
   "execution_count": 4,
   "id": "79bfe12a",
   "metadata": {},
   "outputs": [],
   "source": [
    "features = df_sax[df_sax.columns[1:19]]"
   ]
  },
  {
   "cell_type": "code",
   "execution_count": 5,
   "id": "133ed9ce",
   "metadata": {},
   "outputs": [
    {
     "data": {
      "image/png": "[encoded data removed]",
      "text/plain": [
       "<Figure size 432x288 with 1 Axes>"
      ]
     },
     "metadata": {
      "needs_background": "light"
     },
     "output_type": "display_data"
    }
   ],
   "source": [
    "from sklearn.decomposition import PCA\n",
    "from sklearn.preprocessing import scale\n",
    "import matplotlib.pyplot as plt\n",
    "X = scale(features)\n",
    "pca = PCA().fit(X)\n",
    "plt.plot(np.cumsum(pca.explained_variance_ratio_))\n",
    "plt.xlabel('number of components')\n",
    "plt.ylabel('cumulative explained variance')\n",
    "plt.show()"
   ]
  },
  {
   "cell_type": "code",
   "execution_count": 23,
   "id": "960dc68a",
   "metadata": {},
   "outputs": [],
   "source": [
    "df_trumpet = shuffle(df_trumpet)\n",
    "df_sax = shuffle(df_sax)"
   ]
  },
  {
   "cell_type": "code",
   "execution_count": 26,
   "id": "71d71002",
   "metadata": {},
   "outputs": [],
   "source": [
    "df_trumpet_2 = df_trumpet[:int(0.1*len(df_trumpet))]\n",
    "df_sax_2 = df_sax[:int(0.1*len(df_sax))]"
   ]
  },
  {
   "cell_type": "code",
   "execution_count": 27,
   "id": "d871b8ac",
   "metadata": {},
   "outputs": [],
   "source": [
    "df_final = pd.concat((df_trumpet_2, df_sax_2), axis=0)"
   ]
  },
  {
   "cell_type": "code",
   "execution_count": 28,
   "id": "9ed57a15",
   "metadata": {},
   "outputs": [
    {
     "data": {
      "text/plain": [
       "Index(['Unnamed: 0', 'index', 'rms', 'spec_cent', 'spec_bw', 'rolloff', 'zcr',\n",
       "       'mfccs_0', 'mfccs_1', 'mfccs_2', 'mfccs_3', 'mfccs_4', 'mfccs_5',\n",
       "       'mfccs_6', 'mfccs_7', 'mfccs_8', 'mfccs_9', 'mfccs_10', 'mfccs_11',\n",
       "       'mfccs_12', 'instrument', 'note_played'],\n",
       "      dtype='object')"
      ]
     },
     "execution_count": 28,
     "metadata": {},
     "output_type": "execute_result"
    }
   ],
   "source": [
    "df_final.columns"
   ]
  },
  {
   "cell_type": "code",
   "execution_count": 29,
   "id": "59ebff66",
   "metadata": {},
   "outputs": [
    {
     "data": {
      "text/plain": [
       "79135     0\n",
       "460346    0\n",
       "190422    0\n",
       "738519    0\n",
       "295152    0\n",
       "         ..\n",
       "82282     1\n",
       "212299    1\n",
       "186218    1\n",
       "210408    1\n",
       "90902     1\n",
       "Name: instrument, Length: 107637, dtype: int64"
      ]
     },
     "execution_count": 29,
     "metadata": {},
     "output_type": "execute_result"
    }
   ],
   "source": [
    "df_final.iloc[:, -2]"
   ]
  },
  {
   "cell_type": "code",
   "execution_count": 30,
   "id": "5422db02",
   "metadata": {},
   "outputs": [],
   "source": [
    "df_final = shuffle(df_final)"
   ]
  },
  {
   "cell_type": "code",
   "execution_count": 31,
   "id": "3e1f6fea",
   "metadata": {},
   "outputs": [],
   "source": [
    "instru_list = df_final.iloc[:, -2]\n",
    "\n",
    "encoder = LabelEncoder()\n",
    "y = encoder.fit_transform(instru_list)\n",
    "\n",
    "scaler = StandardScaler()\n",
    "X = scaler.fit_transform(np.array(df_final.iloc[:, :-2], dtype = float))\n",
    "\n",
    "X_train, X_test, y_train, y_test = train_test_split(X, y, test_size=0.2)"
   ]
  },
  {
   "cell_type": "markdown",
   "id": "1ddc6994",
   "metadata": {},
   "source": [
    "SVM"
   ]
  },
  {
   "cell_type": "code",
   "execution_count": 32,
   "id": "7e87b096",
   "metadata": {},
   "outputs": [],
   "source": [
    "svclassifier = SVC(kernel='rbf', C = 10.0, gamma=0.1)\n",
    "svclassifier.fit(X_train, y_train)\n",
    "predicted_labels = svclassifier.predict(X_test)\n",
    "#svclassifier = SVC(kernel='rbf', C = 10.0, gamma=0.1, degree = 3)"
   ]
  },
  {
   "cell_type": "code",
   "execution_count": 33,
   "id": "e0e8eb08",
   "metadata": {},
   "outputs": [
    {
     "name": "stdout",
     "output_type": "stream",
     "text": [
      "Recall:  [0.95803665 0.82271279]\n",
      "Precision:  [0.9546935  0.83410245]\n",
      "F1-Score:  [0.95636215 0.82836847]\n",
      "Accuracy: 0.93  , 20030\n",
      "Number of samples: 21528\n",
      "[[16415   719]\n",
      " [  779  3615]]\n"
     ]
    }
   ],
   "source": [
    "print(\"Recall: \", recall_score(y_test, predicted_labels,average=None))\n",
    "print(\"Precision: \", precision_score(y_test, predicted_labels,average=None))\n",
    "print(\"F1-Score: \", f1_score(y_test, predicted_labels, average=None))\n",
    "print(\"Accuracy: %.2f  ,\" % accuracy_score(y_test, predicted_labels,normalize=True), accuracy_score(y_test, predicted_labels,normalize=False) )\n",
    "\n",
    "print(\"Number of samples:\",y_test.shape[0])\n",
    "print(confusion_matrix(y_test, predicted_labels))"
   ]
  },
  {
   "cell_type": "code",
   "execution_count": 17,
   "id": "d9efdbcd",
   "metadata": {},
   "outputs": [
    {
     "data": {
      "image/png": "[encoded data removed]",
      "text/plain": [
       "<Figure size 432x288 with 2 Axes>"
      ]
     },
     "metadata": {},
     "output_type": "display_data"
    }
   ],
   "source": [
    "import seaborn as sn\n",
    "import pandas as pd\n",
    "import matplotlib.pyplot as plt  \n",
    "df_cm = pd.DataFrame(confusion_matrix(y_test, predicted_labels))#,index=[\"flu\", \"gac\", \"org\", \"pia\", \"tru\", \"voi\"], columns=[\"flu\", \"gac\", \"org\", \"pia\", \"tru\", \"voi\"])\n",
    "#plt.figure(figsize = (10,7))\n",
    "sn.set(font_scale=1.0)#for label size\n",
    "sn.heatmap(df_cm, annot=True,annot_kws={\"size\": 18},fmt='g')# font size\n",
    "\n",
    "plt.show()"
   ]
  },
  {
   "cell_type": "code",
   "execution_count": null,
   "id": "b7c025c6",
   "metadata": {},
   "outputs": [],
   "source": [
    "\n",
    "\n",
    "import pickle\n",
    "\n",
    "#\n",
    "# Create your model here (same as above)\n",
    "#\n",
    "\n",
    "# Save to file in the current working directory\n",
    "pkl_filename = \"pickle_model_2.pkl\"\n",
    "with open(pkl_filename, 'wb') as file:\n",
    "    pickle.dump(svclassifier, file)\n",
    "\n",
    "# Load from file\n",
    "with open(pkl_filename, 'rb') as file:\n",
    "    pickle_model = pickle.load(file)\n",
    "    \n",
    "# Calculate the accuracy score and predict target values\n",
    "score = pickle_model.score(X_train, y_train)\n",
    "print(\"Test score: {0:.2f} %\".format(100 * score))\n",
    "#Ypredict = pickle_model.predict(Xtest)\n",
    "\n"
   ]
  },
  {
   "cell_type": "code",
   "execution_count": 18,
   "id": "cdc88ea5",
   "metadata": {},
   "outputs": [
    {
     "data": {
      "text/html": [
       "<div>\n",
       "<style scoped>\n",
       "    .dataframe tbody tr th:only-of-type {\n",
       "        vertical-align: middle;\n",
       "    }\n",
       "\n",
       "    .dataframe tbody tr th {\n",
       "        vertical-align: top;\n",
       "    }\n",
       "\n",
       "    .dataframe thead th {\n",
       "        text-align: right;\n",
       "    }\n",
       "</style>\n",
       "<table border=\"1\" class=\"dataframe\">\n",
       "  <thead>\n",
       "    <tr style=\"text-align: right;\">\n",
       "      <th></th>\n",
       "      <th>Unnamed: 0</th>\n",
       "      <th>index</th>\n",
       "      <th>rms</th>\n",
       "      <th>spec_cent</th>\n",
       "      <th>spec_bw</th>\n",
       "      <th>rolloff</th>\n",
       "      <th>zcr</th>\n",
       "      <th>mfccs_0</th>\n",
       "      <th>mfccs_1</th>\n",
       "      <th>mfccs_2</th>\n",
       "      <th>...</th>\n",
       "      <th>mfccs_5</th>\n",
       "      <th>mfccs_6</th>\n",
       "      <th>mfccs_7</th>\n",
       "      <th>mfccs_8</th>\n",
       "      <th>mfccs_9</th>\n",
       "      <th>mfccs_10</th>\n",
       "      <th>mfccs_11</th>\n",
       "      <th>mfccs_12</th>\n",
       "      <th>instrument</th>\n",
       "      <th>note_played</th>\n",
       "    </tr>\n",
       "  </thead>\n",
       "  <tbody>\n",
       "    <tr>\n",
       "      <th>37660</th>\n",
       "      <td>0.052858</td>\n",
       "      <td>1.126054</td>\n",
       "      <td>1.318371</td>\n",
       "      <td>1.068314</td>\n",
       "      <td>1.269514</td>\n",
       "      <td>1.036317</td>\n",
       "      <td>0.244621</td>\n",
       "      <td>1.506661</td>\n",
       "      <td>-0.818258</td>\n",
       "      <td>0.253190</td>\n",
       "      <td>...</td>\n",
       "      <td>0.610181</td>\n",
       "      <td>-0.293242</td>\n",
       "      <td>-0.580044</td>\n",
       "      <td>-1.233647</td>\n",
       "      <td>1.700724</td>\n",
       "      <td>-1.176276</td>\n",
       "      <td>0.745427</td>\n",
       "      <td>-0.950376</td>\n",
       "      <td>0</td>\n",
       "      <td>Acoustic_Brass_Bal_Caritas_2009</td>\n",
       "    </tr>\n",
       "    <tr>\n",
       "      <th>73649</th>\n",
       "      <td>1.455095</td>\n",
       "      <td>0.965087</td>\n",
       "      <td>-0.946454</td>\n",
       "      <td>1.114149</td>\n",
       "      <td>0.678826</td>\n",
       "      <td>0.667945</td>\n",
       "      <td>1.562129</td>\n",
       "      <td>-0.001633</td>\n",
       "      <td>-0.999528</td>\n",
       "      <td>-1.241507</td>\n",
       "      <td>...</td>\n",
       "      <td>0.418403</td>\n",
       "      <td>-0.853193</td>\n",
       "      <td>0.880504</td>\n",
       "      <td>0.388628</td>\n",
       "      <td>0.910888</td>\n",
       "      <td>0.115239</td>\n",
       "      <td>0.932979</td>\n",
       "      <td>-0.235843</td>\n",
       "      <td>0</td>\n",
       "      <td>Blues_Sky_Schiller_BigBand_2009</td>\n",
       "    </tr>\n",
       "    <tr>\n",
       "      <th>26694</th>\n",
       "      <td>-0.374409</td>\n",
       "      <td>-1.666723</td>\n",
       "      <td>0.312173</td>\n",
       "      <td>-0.194114</td>\n",
       "      <td>-0.959649</td>\n",
       "      <td>-0.489793</td>\n",
       "      <td>0.041927</td>\n",
       "      <td>-0.004309</td>\n",
       "      <td>0.050869</td>\n",
       "      <td>-2.374903</td>\n",
       "      <td>...</td>\n",
       "      <td>-0.815143</td>\n",
       "      <td>1.301170</td>\n",
       "      <td>-0.939740</td>\n",
       "      <td>0.563351</td>\n",
       "      <td>-1.840339</td>\n",
       "      <td>-0.280339</td>\n",
       "      <td>-0.147821</td>\n",
       "      <td>-0.406327</td>\n",
       "      <td>0</td>\n",
       "      <td>Telephone_Lady_Gaga_played_on_the_Trumpet_by_S...</td>\n",
       "    </tr>\n",
       "    <tr>\n",
       "      <th>63772</th>\n",
       "      <td>1.070258</td>\n",
       "      <td>1.254827</td>\n",
       "      <td>0.567620</td>\n",
       "      <td>0.609384</td>\n",
       "      <td>0.998498</td>\n",
       "      <td>0.871865</td>\n",
       "      <td>-0.114700</td>\n",
       "      <td>1.155639</td>\n",
       "      <td>-0.689760</td>\n",
       "      <td>0.095220</td>\n",
       "      <td>...</td>\n",
       "      <td>-0.172232</td>\n",
       "      <td>-0.883783</td>\n",
       "      <td>0.072755</td>\n",
       "      <td>0.111845</td>\n",
       "      <td>-0.272549</td>\n",
       "      <td>-0.207422</td>\n",
       "      <td>0.092856</td>\n",
       "      <td>-1.407330</td>\n",
       "      <td>0</td>\n",
       "      <td>ΚΛΑΡΙΝΑ_LIVE_2013_ME_THN_ΜΑΡΙΑ_ΛΩΛΛΟΥ</td>\n",
       "    </tr>\n",
       "    <tr>\n",
       "      <th>30631</th>\n",
       "      <td>-0.221012</td>\n",
       "      <td>0.055623</td>\n",
       "      <td>0.600871</td>\n",
       "      <td>0.796843</td>\n",
       "      <td>1.641828</td>\n",
       "      <td>1.181034</td>\n",
       "      <td>0.014287</td>\n",
       "      <td>1.465529</td>\n",
       "      <td>-0.634131</td>\n",
       "      <td>0.698969</td>\n",
       "      <td>...</td>\n",
       "      <td>0.023387</td>\n",
       "      <td>0.244877</td>\n",
       "      <td>-0.186756</td>\n",
       "      <td>-0.638683</td>\n",
       "      <td>0.001921</td>\n",
       "      <td>-0.573309</td>\n",
       "      <td>-0.718491</td>\n",
       "      <td>-1.602727</td>\n",
       "      <td>0</td>\n",
       "      <td>Get_It_On_HCS_Jazz_Band_at_the_Westin_2011</td>\n",
       "    </tr>\n",
       "    <tr>\n",
       "      <th>...</th>\n",
       "      <td>...</td>\n",
       "      <td>...</td>\n",
       "      <td>...</td>\n",
       "      <td>...</td>\n",
       "      <td>...</td>\n",
       "      <td>...</td>\n",
       "      <td>...</td>\n",
       "      <td>...</td>\n",
       "      <td>...</td>\n",
       "      <td>...</td>\n",
       "      <td>...</td>\n",
       "      <td>...</td>\n",
       "      <td>...</td>\n",
       "      <td>...</td>\n",
       "      <td>...</td>\n",
       "      <td>...</td>\n",
       "      <td>...</td>\n",
       "      <td>...</td>\n",
       "      <td>...</td>\n",
       "      <td>...</td>\n",
       "      <td>...</td>\n",
       "    </tr>\n",
       "    <tr>\n",
       "      <th>5432</th>\n",
       "      <td>-1.202838</td>\n",
       "      <td>0.369509</td>\n",
       "      <td>-0.286213</td>\n",
       "      <td>-0.985572</td>\n",
       "      <td>-1.251881</td>\n",
       "      <td>-0.838430</td>\n",
       "      <td>-0.907048</td>\n",
       "      <td>-0.201435</td>\n",
       "      <td>1.737002</td>\n",
       "      <td>-0.333903</td>\n",
       "      <td>...</td>\n",
       "      <td>-1.224864</td>\n",
       "      <td>0.320177</td>\n",
       "      <td>1.074299</td>\n",
       "      <td>0.253663</td>\n",
       "      <td>-0.542398</td>\n",
       "      <td>-0.765513</td>\n",
       "      <td>-1.242232</td>\n",
       "      <td>-0.377711</td>\n",
       "      <td>1</td>\n",
       "      <td>MANTOVANI_TEA_FOR_TWO</td>\n",
       "    </tr>\n",
       "    <tr>\n",
       "      <th>81657</th>\n",
       "      <td>1.767110</td>\n",
       "      <td>-0.491664</td>\n",
       "      <td>2.544343</td>\n",
       "      <td>1.559970</td>\n",
       "      <td>1.017513</td>\n",
       "      <td>1.444156</td>\n",
       "      <td>1.294942</td>\n",
       "      <td>0.219763</td>\n",
       "      <td>-2.396992</td>\n",
       "      <td>0.400745</td>\n",
       "      <td>...</td>\n",
       "      <td>0.363846</td>\n",
       "      <td>-0.047444</td>\n",
       "      <td>2.672749</td>\n",
       "      <td>2.767327</td>\n",
       "      <td>3.427383</td>\n",
       "      <td>2.658375</td>\n",
       "      <td>-2.635997</td>\n",
       "      <td>-2.330989</td>\n",
       "      <td>0</td>\n",
       "      <td>Maria_Maynard_Ferguson_Cover</td>\n",
       "    </tr>\n",
       "    <tr>\n",
       "      <th>1620</th>\n",
       "      <td>-1.351365</td>\n",
       "      <td>0.908748</td>\n",
       "      <td>-0.821114</td>\n",
       "      <td>-1.253826</td>\n",
       "      <td>-1.422904</td>\n",
       "      <td>-1.101552</td>\n",
       "      <td>-0.842554</td>\n",
       "      <td>-1.273208</td>\n",
       "      <td>0.999047</td>\n",
       "      <td>2.502019</td>\n",
       "      <td>...</td>\n",
       "      <td>-0.064617</td>\n",
       "      <td>0.088696</td>\n",
       "      <td>0.369682</td>\n",
       "      <td>1.403643</td>\n",
       "      <td>0.426623</td>\n",
       "      <td>0.555733</td>\n",
       "      <td>0.690242</td>\n",
       "      <td>0.639923</td>\n",
       "      <td>1</td>\n",
       "      <td>BrasSolist</td>\n",
       "    </tr>\n",
       "    <tr>\n",
       "      <th>21500</th>\n",
       "      <td>-0.576782</td>\n",
       "      <td>1.447988</td>\n",
       "      <td>3.080494</td>\n",
       "      <td>-1.098512</td>\n",
       "      <td>-1.082663</td>\n",
       "      <td>-1.173911</td>\n",
       "      <td>-1.008394</td>\n",
       "      <td>-0.297699</td>\n",
       "      <td>0.155325</td>\n",
       "      <td>1.112428</td>\n",
       "      <td>...</td>\n",
       "      <td>-1.063809</td>\n",
       "      <td>-0.051894</td>\n",
       "      <td>-0.777501</td>\n",
       "      <td>-0.124918</td>\n",
       "      <td>-0.207126</td>\n",
       "      <td>0.191248</td>\n",
       "      <td>0.381364</td>\n",
       "      <td>-0.329701</td>\n",
       "      <td>1</td>\n",
       "      <td>Kadenz_von_Mozart_3._Hornkonzert_KV_447_von_Ar...</td>\n",
       "    </tr>\n",
       "    <tr>\n",
       "      <th>23081</th>\n",
       "      <td>-0.515182</td>\n",
       "      <td>0.208542</td>\n",
       "      <td>-0.654897</td>\n",
       "      <td>-1.296245</td>\n",
       "      <td>-1.467881</td>\n",
       "      <td>-1.259426</td>\n",
       "      <td>-0.953114</td>\n",
       "      <td>-1.542008</td>\n",
       "      <td>1.369083</td>\n",
       "      <td>1.755455</td>\n",
       "      <td>...</td>\n",
       "      <td>-1.229119</td>\n",
       "      <td>-1.018836</td>\n",
       "      <td>-1.166171</td>\n",
       "      <td>-0.049782</td>\n",
       "      <td>-0.511210</td>\n",
       "      <td>-0.094159</td>\n",
       "      <td>0.031753</td>\n",
       "      <td>0.314352</td>\n",
       "      <td>0</td>\n",
       "      <td>Brandt_Brass_end_Stеven_Mead_Panis_Angelicus</td>\n",
       "    </tr>\n",
       "  </tbody>\n",
       "</table>\n",
       "<p>107637 rows × 22 columns</p>\n",
       "</div>"
      ],
      "text/plain": [
       "       Unnamed: 0     index       rms  spec_cent   spec_bw   rolloff  \\\n",
       "37660    0.052858  1.126054  1.318371   1.068314  1.269514  1.036317   \n",
       "73649    1.455095  0.965087 -0.946454   1.114149  0.678826  0.667945   \n",
       "26694   -0.374409 -1.666723  0.312173  -0.194114 -0.959649 -0.489793   \n",
       "63772    1.070258  1.254827  0.567620   0.609384  0.998498  0.871865   \n",
       "30631   -0.221012  0.055623  0.600871   0.796843  1.641828  1.181034   \n",
       "...           ...       ...       ...        ...       ...       ...   \n",
       "5432    -1.202838  0.369509 -0.286213  -0.985572 -1.251881 -0.838430   \n",
       "81657    1.767110 -0.491664  2.544343   1.559970  1.017513  1.444156   \n",
       "1620    -1.351365  0.908748 -0.821114  -1.253826 -1.422904 -1.101552   \n",
       "21500   -0.576782  1.447988  3.080494  -1.098512 -1.082663 -1.173911   \n",
       "23081   -0.515182  0.208542 -0.654897  -1.296245 -1.467881 -1.259426   \n",
       "\n",
       "            zcr   mfccs_0   mfccs_1   mfccs_2  ...   mfccs_5   mfccs_6  \\\n",
       "37660  0.244621  1.506661 -0.818258  0.253190  ...  0.610181 -0.293242   \n",
       "73649  1.562129 -0.001633 -0.999528 -1.241507  ...  0.418403 -0.853193   \n",
       "26694  0.041927 -0.004309  0.050869 -2.374903  ... -0.815143  1.301170   \n",
       "63772 -0.114700  1.155639 -0.689760  0.095220  ... -0.172232 -0.883783   \n",
       "30631  0.014287  1.465529 -0.634131  0.698969  ...  0.023387  0.244877   \n",
       "...         ...       ...       ...       ...  ...       ...       ...   \n",
       "5432  -0.907048 -0.201435  1.737002 -0.333903  ... -1.224864  0.320177   \n",
       "81657  1.294942  0.219763 -2.396992  0.400745  ...  0.363846 -0.047444   \n",
       "1620  -0.842554 -1.273208  0.999047  2.502019  ... -0.064617  0.088696   \n",
       "21500 -1.008394 -0.297699  0.155325  1.112428  ... -1.063809 -0.051894   \n",
       "23081 -0.953114 -1.542008  1.369083  1.755455  ... -1.229119 -1.018836   \n",
       "\n",
       "        mfccs_7   mfccs_8   mfccs_9  mfccs_10  mfccs_11  mfccs_12  instrument  \\\n",
       "37660 -0.580044 -1.233647  1.700724 -1.176276  0.745427 -0.950376           0   \n",
       "73649  0.880504  0.388628  0.910888  0.115239  0.932979 -0.235843           0   \n",
       "26694 -0.939740  0.563351 -1.840339 -0.280339 -0.147821 -0.406327           0   \n",
       "63772  0.072755  0.111845 -0.272549 -0.207422  0.092856 -1.407330           0   \n",
       "30631 -0.186756 -0.638683  0.001921 -0.573309 -0.718491 -1.602727           0   \n",
       "...         ...       ...       ...       ...       ...       ...         ...   \n",
       "5432   1.074299  0.253663 -0.542398 -0.765513 -1.242232 -0.377711           1   \n",
       "81657  2.672749  2.767327  3.427383  2.658375 -2.635997 -2.330989           0   \n",
       "1620   0.369682  1.403643  0.426623  0.555733  0.690242  0.639923           1   \n",
       "21500 -0.777501 -0.124918 -0.207126  0.191248  0.381364 -0.329701           1   \n",
       "23081 -1.166171 -0.049782 -0.511210 -0.094159  0.031753  0.314352           0   \n",
       "\n",
       "                                             note_played  \n",
       "37660                    Acoustic_Brass_Bal_Caritas_2009  \n",
       "73649                    Blues_Sky_Schiller_BigBand_2009  \n",
       "26694  Telephone_Lady_Gaga_played_on_the_Trumpet_by_S...  \n",
       "63772              ΚΛΑΡΙΝΑ_LIVE_2013_ME_THN_ΜΑΡΙΑ_ΛΩΛΛΟΥ  \n",
       "30631         Get_It_On_HCS_Jazz_Band_at_the_Westin_2011  \n",
       "...                                                  ...  \n",
       "5432                               MANTOVANI_TEA_FOR_TWO  \n",
       "81657                       Maria_Maynard_Ferguson_Cover  \n",
       "1620                                          BrasSolist  \n",
       "21500  Kadenz_von_Mozart_3._Hornkonzert_KV_447_von_Ar...  \n",
       "23081       Brandt_Brass_end_Stеven_Mead_Panis_Angelicus  \n",
       "\n",
       "[107637 rows x 22 columns]"
      ]
     },
     "execution_count": 18,
     "metadata": {},
     "output_type": "execute_result"
    }
   ],
   "source": [
    "df_final.iloc[:, :-2] = scaler.fit_transform(np.array(df_final.iloc[:, :-2], dtype = float))\n",
    "df_final.iloc[:, -2] = encoder.fit_transform(df_final.iloc[:, -2])\n",
    "df_final"
   ]
  },
  {
   "cell_type": "code",
   "execution_count": null,
   "id": "046b867f",
   "metadata": {},
   "outputs": [],
   "source": []
  },
  {
   "cell_type": "code",
   "execution_count": null,
   "id": "1717d710",
   "metadata": {},
   "outputs": [],
   "source": [
    "scores = cross_val_score(svclassifier, X, y, cv=10, scoring='accuracy')\n",
    "\n",
    "np.mean(scores)\n",
    "\n"
   ]
  },
  {
   "cell_type": "markdown",
   "id": "dac87a95",
   "metadata": {},
   "source": [
    "# Random Forest"
   ]
  },
  {
   "cell_type": "code",
   "execution_count": 22,
   "id": "2c81a8d4",
   "metadata": {},
   "outputs": [
    {
     "name": "stdout",
     "output_type": "stream",
     "text": [
      "Recall:  [0.99650085 0.97078293]\n",
      "Precision:  [0.99256462 0.98608857]\n",
      "F1-Score:  [0.99452884 0.97837589]\n",
      "Accuracy: 0.99  , 21340\n",
      "Number of samples: 21528\n"
     ]
    },
    {
     "data": {
      "text/plain": [
       "array([[17087,    60],\n",
       "       [  128,  4253]])"
      ]
     },
     "execution_count": 22,
     "metadata": {},
     "output_type": "execute_result"
    }
   ],
   "source": [
    "RFClassifier = RandomForestClassifier(n_estimators=500, random_state=1993, max_depth=18)\n",
    "RFClassifier.fit(X_train, y_train)\n",
    "predicted_labels = RFClassifier.predict(X_test)\n",
    "print(\"Recall: \", recall_score(y_test, predicted_labels,average=None))\n",
    "print(\"Precision: \", precision_score(y_test, predicted_labels,average=None))\n",
    "print(\"F1-Score: \", f1_score(y_test, predicted_labels, average=None))\n",
    "print(\"Accuracy: %.2f  ,\" % accuracy_score(y_test, predicted_labels,normalize=True), accuracy_score(y_test, predicted_labels,normalize=False) )\n",
    "print(\"Number of samples:\",y_test.shape[0])\n",
    "confusion_matrix(y_test, predicted_labels)"
   ]
  },
  {
   "cell_type": "code",
   "execution_count": null,
   "id": "03c2803d",
   "metadata": {},
   "outputs": [],
   "source": []
  },
  {
   "cell_type": "code",
   "execution_count": null,
   "id": "3e615b77",
   "metadata": {},
   "outputs": [],
   "source": []
  },
  {
   "cell_type": "code",
   "execution_count": null,
   "id": "a7f77747",
   "metadata": {},
   "outputs": [],
   "source": [
    "pkl_filename = \"instrument_type_model.pkl\"\n",
    "\n",
    "with open(pkl_filename, 'rb') as file:\n",
    "    pickle_model = pickle.load(file)\n",
    "    \n",
    "    \n",
    "instru_list = df_final.iloc[:, -2]\n",
    "\n",
    "encoder = LabelEncoder()\n",
    "y = encoder.fit_transform(instru_list)\n",
    "\n",
    "scaler = StandardScaler()\n",
    "X = scaler.fit_transform(np.array(df_final.iloc[:, :-2], dtype = float))\n",
    "\n",
    "X_train, X_test, y_train, y_test = train_test_split(X, y, test_size=0.2)\n",
    "# Calculate the accuracy score and predict target values\n",
    "score = pickle_model.score(X_train, y_train)\n",
    "print(\"Test score: {0:.2f} %\".format(100 * score))\n",
    "\n",
    "pickle_model.predict(X_test)"
   ]
  },
  {
   "cell_type": "code",
   "execution_count": null,
   "id": "c8b072cd",
   "metadata": {},
   "outputs": [],
   "source": []
  }
 ],
 "metadata": {
  "kernelspec": {
   "display_name": "Python(jorgenv)",
   "language": "python",
   "name": "jorgenv"
  },
  "language_info": {
   "codemirror_mode": {
    "name": "ipython",
    "version": 3
   },
   "file_extension": ".py",
   "mimetype": "text/x-python",
   "name": "python",
   "nbconvert_exporter": "python",
   "pygments_lexer": "ipython3",
   "version": "3.10.10"
  }
 },
 "nbformat": 4,
 "nbformat_minor": 5
}
