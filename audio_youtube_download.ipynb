{
 "cells": [
  {
   "cell_type": "code",
   "execution_count": 1,
   "id": "2b85d4c2",
   "metadata": {},
   "outputs": [],
   "source": [
    "import os\n",
    "import ffmpy\n",
    "from pytube import YouTube\n",
    "from pytube import Search\n",
    "import re\n",
    "import pandas as pd\n",
    "\n",
    "from youtube_search import YoutubeSearch"
   ]
  },
  {
   "cell_type": "code",
   "execution_count": 2,
   "id": "fefc1348",
   "metadata": {},
   "outputs": [],
   "source": [
    "import scipy.io.wavfile as wavfile\n",
    "\n",
    "from dataset_creation import chunks, extract_peaks_and_freqs, final_data_collection\n",
    "from get_audio_from_link import obtain_youtube_link, delete_spaces, download_audio, remove_audio, from_mp4_to_wav"
   ]
  },
  {
   "cell_type": "code",
   "execution_count": 12,
   "id": "acc7bfd4",
   "metadata": {},
   "outputs": [],
   "source": [
    "yt = YouTube('http://youtube.com/watch?v=2lAe1cqCOXo')"
   ]
  },
  {
   "cell_type": "code",
   "execution_count": 13,
   "id": "e97b3526",
   "metadata": {},
   "outputs": [
    {
     "data": {
      "text/plain": [
       "337"
      ]
     },
     "execution_count": 13,
     "metadata": {},
     "output_type": "execute_result"
    }
   ],
   "source": [
    "yt.length"
   ]
  },
  {
   "cell_type": "code",
   "execution_count": 4,
   "id": "101b5d11",
   "metadata": {},
   "outputs": [],
   "source": [
    "fruit = { 'orange' : [3,2,0,1], 'apple' : [0,3,7,2], 'grapes' : [7,14,6,15] } \n",
    "df1 = pd.DataFrame(fruit) \n",
    "fruit_2 = { 'orange' : [5,4,3,2], 'apple' : [0,94,3,2], 'grapes' : [3,5,7,8] } \n",
    "df2 = pd.DataFrame(fruit_2)"
   ]
  },
  {
   "cell_type": "code",
   "execution_count": 10,
   "id": "95c2955a",
   "metadata": {},
   "outputs": [
    {
     "data": {
      "text/html": [
       "<div>\n",
       "<style scoped>\n",
       "    .dataframe tbody tr th:only-of-type {\n",
       "        vertical-align: middle;\n",
       "    }\n",
       "\n",
       "    .dataframe tbody tr th {\n",
       "        vertical-align: top;\n",
       "    }\n",
       "\n",
       "    .dataframe thead th {\n",
       "        text-align: right;\n",
       "    }\n",
       "</style>\n",
       "<table border=\"1\" class=\"dataframe\">\n",
       "  <thead>\n",
       "    <tr style=\"text-align: right;\">\n",
       "      <th></th>\n",
       "      <th>orange</th>\n",
       "      <th>apple</th>\n",
       "      <th>grapes</th>\n",
       "    </tr>\n",
       "  </thead>\n",
       "  <tbody>\n",
       "    <tr>\n",
       "      <th>0</th>\n",
       "      <td>3</td>\n",
       "      <td>0</td>\n",
       "      <td>7</td>\n",
       "    </tr>\n",
       "    <tr>\n",
       "      <th>1</th>\n",
       "      <td>2</td>\n",
       "      <td>3</td>\n",
       "      <td>14</td>\n",
       "    </tr>\n",
       "    <tr>\n",
       "      <th>2</th>\n",
       "      <td>0</td>\n",
       "      <td>7</td>\n",
       "      <td>6</td>\n",
       "    </tr>\n",
       "    <tr>\n",
       "      <th>3</th>\n",
       "      <td>1</td>\n",
       "      <td>2</td>\n",
       "      <td>15</td>\n",
       "    </tr>\n",
       "  </tbody>\n",
       "</table>\n",
       "</div>"
      ],
      "text/plain": [
       "   orange  apple  grapes\n",
       "0       3      0       7\n",
       "1       2      3      14\n",
       "2       0      7       6\n",
       "3       1      2      15"
      ]
     },
     "execution_count": 10,
     "metadata": {},
     "output_type": "execute_result"
    }
   ],
   "source": [
    "df1"
   ]
  },
  {
   "cell_type": "code",
   "execution_count": 11,
   "id": "3666a4ff",
   "metadata": {},
   "outputs": [
    {
     "data": {
      "text/html": [
       "<div>\n",
       "<style scoped>\n",
       "    .dataframe tbody tr th:only-of-type {\n",
       "        vertical-align: middle;\n",
       "    }\n",
       "\n",
       "    .dataframe tbody tr th {\n",
       "        vertical-align: top;\n",
       "    }\n",
       "\n",
       "    .dataframe thead th {\n",
       "        text-align: right;\n",
       "    }\n",
       "</style>\n",
       "<table border=\"1\" class=\"dataframe\">\n",
       "  <thead>\n",
       "    <tr style=\"text-align: right;\">\n",
       "      <th></th>\n",
       "      <th>orange</th>\n",
       "      <th>apple</th>\n",
       "      <th>grapes</th>\n",
       "    </tr>\n",
       "  </thead>\n",
       "  <tbody>\n",
       "    <tr>\n",
       "      <th>0</th>\n",
       "      <td>5</td>\n",
       "      <td>0</td>\n",
       "      <td>3</td>\n",
       "    </tr>\n",
       "    <tr>\n",
       "      <th>1</th>\n",
       "      <td>4</td>\n",
       "      <td>94</td>\n",
       "      <td>5</td>\n",
       "    </tr>\n",
       "    <tr>\n",
       "      <th>2</th>\n",
       "      <td>3</td>\n",
       "      <td>3</td>\n",
       "      <td>7</td>\n",
       "    </tr>\n",
       "    <tr>\n",
       "      <th>3</th>\n",
       "      <td>2</td>\n",
       "      <td>2</td>\n",
       "      <td>8</td>\n",
       "    </tr>\n",
       "  </tbody>\n",
       "</table>\n",
       "</div>"
      ],
      "text/plain": [
       "   orange  apple  grapes\n",
       "0       5      0       3\n",
       "1       4     94       5\n",
       "2       3      3       7\n",
       "3       2      2       8"
      ]
     },
     "execution_count": 11,
     "metadata": {},
     "output_type": "execute_result"
    }
   ],
   "source": [
    "df2"
   ]
  },
  {
   "cell_type": "code",
   "execution_count": 9,
   "id": "5dff6e7d",
   "metadata": {},
   "outputs": [
    {
     "data": {
      "text/html": [
       "<div>\n",
       "<style scoped>\n",
       "    .dataframe tbody tr th:only-of-type {\n",
       "        vertical-align: middle;\n",
       "    }\n",
       "\n",
       "    .dataframe tbody tr th {\n",
       "        vertical-align: top;\n",
       "    }\n",
       "\n",
       "    .dataframe thead th {\n",
       "        text-align: right;\n",
       "    }\n",
       "</style>\n",
       "<table border=\"1\" class=\"dataframe\">\n",
       "  <thead>\n",
       "    <tr style=\"text-align: right;\">\n",
       "      <th></th>\n",
       "      <th>orange</th>\n",
       "      <th>apple</th>\n",
       "      <th>grapes</th>\n",
       "    </tr>\n",
       "  </thead>\n",
       "  <tbody>\n",
       "    <tr>\n",
       "      <th>0</th>\n",
       "      <td>3</td>\n",
       "      <td>0</td>\n",
       "      <td>7</td>\n",
       "    </tr>\n",
       "    <tr>\n",
       "      <th>1</th>\n",
       "      <td>2</td>\n",
       "      <td>3</td>\n",
       "      <td>14</td>\n",
       "    </tr>\n",
       "    <tr>\n",
       "      <th>2</th>\n",
       "      <td>0</td>\n",
       "      <td>7</td>\n",
       "      <td>6</td>\n",
       "    </tr>\n",
       "    <tr>\n",
       "      <th>3</th>\n",
       "      <td>1</td>\n",
       "      <td>2</td>\n",
       "      <td>15</td>\n",
       "    </tr>\n",
       "    <tr>\n",
       "      <th>4</th>\n",
       "      <td>5</td>\n",
       "      <td>0</td>\n",
       "      <td>3</td>\n",
       "    </tr>\n",
       "    <tr>\n",
       "      <th>5</th>\n",
       "      <td>4</td>\n",
       "      <td>94</td>\n",
       "      <td>5</td>\n",
       "    </tr>\n",
       "    <tr>\n",
       "      <th>6</th>\n",
       "      <td>3</td>\n",
       "      <td>3</td>\n",
       "      <td>7</td>\n",
       "    </tr>\n",
       "    <tr>\n",
       "      <th>7</th>\n",
       "      <td>2</td>\n",
       "      <td>2</td>\n",
       "      <td>8</td>\n",
       "    </tr>\n",
       "  </tbody>\n",
       "</table>\n",
       "</div>"
      ],
      "text/plain": [
       "   orange  apple  grapes\n",
       "0       3      0       7\n",
       "1       2      3      14\n",
       "2       0      7       6\n",
       "3       1      2      15\n",
       "4       5      0       3\n",
       "5       4     94       5\n",
       "6       3      3       7\n",
       "7       2      2       8"
      ]
     },
     "execution_count": 9,
     "metadata": {},
     "output_type": "execute_result"
    }
   ],
   "source": [
    "pd.concat((df1,df2), axis=0).reset_index(drop=True)"
   ]
  },
  {
   "cell_type": "code",
   "execution_count": 35,
   "id": "dc1583c7",
   "metadata": {},
   "outputs": [
    {
     "name": "stdout",
     "output_type": "stream",
     "text": [
      "<class 'str'>\n",
      "1:30\n",
      "<class 'str'>\n",
      "2:30\n"
     ]
    }
   ],
   "source": [
    "common_path = '/home/jacs/Documents/DataScience/Personal/'\n",
    "\n",
    "dummy_path = 'song_similarity/'\n",
    "# As an input there is going to be a list of youtube links that contain audio that can be\n",
    "# usefull to expand and enrich the database of that particular instrument\n",
    "\n",
    "# As an input we want a tupple, with the link as first position and instrument as second position\n",
    "\n",
    "input_path = 'song_similarity_audio/trumpet/'\n",
    "\n",
    "df_links = pd.read_csv(common_path+input_path+'trumpet_youtube_database_enrichment.csv')\n",
    "\n",
    "links_audio = list(df_links['youtube_links'])\n",
    "titles = list(df_links['title'])\n",
    "\n",
    "range_1 = str(df_links['from'].iloc[0])\n",
    "range_2 = str(df_links['to'].iloc[0])\n",
    "\n",
    "print(type(range_1))\n",
    "print(range_1)\n",
    "print(type(range_2))\n",
    "print(range_2)"
   ]
  },
  {
   "cell_type": "code",
   "execution_count": 36,
   "id": "28763805",
   "metadata": {},
   "outputs": [
    {
     "data": {
      "text/plain": [
       "['database_trumpet_10_peaks_youtube_1']"
      ]
     },
     "execution_count": 36,
     "metadata": {},
     "output_type": "execute_result"
    }
   ],
   "source": [
    "titles"
   ]
  },
  {
   "cell_type": "code",
   "execution_count": 30,
   "id": "b5a56c53",
   "metadata": {},
   "outputs": [
    {
     "name": "stdout",
     "output_type": "stream",
     "text": [
      "['https://www.youtube.com/watch?v=2nPwkb9ZyPQ']\n"
     ]
    }
   ],
   "source": [
    "print(links_audio)"
   ]
  },
  {
   "cell_type": "code",
   "execution_count": 3,
   "id": "36dec13d",
   "metadata": {},
   "outputs": [],
   "source": [
    "def min_to_sec(number):\n",
    "    number = str(number).split(':')\n",
    "    print(number)\n",
    "    number = int(number[0])*60 + int(number[1])\n",
    "    return number\n",
    "\n",
    "def audio_partition(audio, Fs, range_1, range_2):\n",
    "    if range_1=='' and range_2=='':\n",
    "        range_1='0:00'\n",
    "        range_2= str(audio.shape[0]/Fs).replace('.',':')\n",
    "    length = audio.shape[0]/Fs\n",
    "    range_1_index = int(min_to_sec(range_1)*Fs)\n",
    "    range_2_index = int(min_to_sec(range_2)*Fs)\n",
    "    audio_cut = audio[range_1_index:range_2_index]\n",
    "    return audio_cut"
   ]
  },
  {
   "cell_type": "code",
   "execution_count": 4,
   "id": "8198ebd8",
   "metadata": {},
   "outputs": [
    {
     "ename": "NameError",
     "evalue": "name 'links_audio' is not defined",
     "output_type": "error",
     "traceback": [
      "\u001b[0;31m---------------------------------------------------------------------------\u001b[0m",
      "\u001b[0;31mNameError\u001b[0m                                 Traceback (most recent call last)",
      "Input \u001b[0;32mIn [4]\u001b[0m, in \u001b[0;36m<module>\u001b[0;34m\u001b[0m\n\u001b[0;32m----> 1\u001b[0m \u001b[38;5;28;01mfor\u001b[39;00m kk \u001b[38;5;129;01min\u001b[39;00m \u001b[38;5;28mrange\u001b[39m(\u001b[38;5;241m0\u001b[39m,\u001b[38;5;28mlen\u001b[39m(\u001b[43mlinks_audio\u001b[49m)):\n\u001b[1;32m      2\u001b[0m     linko \u001b[38;5;241m=\u001b[39m links_audio[kk]\n\u001b[1;32m      3\u001b[0m     title_file \u001b[38;5;241m=\u001b[39m \u001b[38;5;28mstr\u001b[39m(download_audio(linko))\n",
      "\u001b[0;31mNameError\u001b[0m: name 'links_audio' is not defined"
     ]
    }
   ],
   "source": [
    "for kk in range(0,len(links_audio)):\n",
    "    linko = links_audio[kk]\n",
    "    title_file = str(download_audio(linko))\n",
    "    database_name = str(titles[kk])\n",
    "    df_final = pd.DataFrame({'peak_1': [], 'peak_2': [], 'Magnitude difference': [],'instrument': [], 'note_played': []})\n",
    "    print(title_file)\n",
    "    print(database_name)\n",
    "    try:\n",
    "        Fs, audio = wavfile.read(title_file+'.wav')\n",
    "    except:\n",
    "        from_mp4_to_wav(title_file+'.mp4',common_path+dummy_path)\n",
    "        Fs, audio = wavfile.read(title_file+'.wav')\n",
    "        remove_audio(title_file+'.mp4')\n",
    "    print(len(audio)-(Fs*60))\n",
    "    length = audio.shape[0] / Fs\n",
    "    audio = audio_partition(audio, Fs, range_1, range_2)\n",
    "    print(len(audio))"
   ]
  },
  {
   "cell_type": "code",
   "execution_count": 39,
   "id": "e01276bd",
   "metadata": {},
   "outputs": [
    {
     "name": "stdout",
     "output_type": "stream",
     "text": [
      "960000\n"
     ]
    }
   ],
   "source": []
  },
  {
   "cell_type": "code",
   "execution_count": 37,
   "id": "bfd0c5dc",
   "metadata": {},
   "outputs": [
    {
     "data": {
      "text/plain": [
       "349237"
      ]
     },
     "execution_count": 37,
     "metadata": {},
     "output_type": "execute_result"
    }
   ],
   "source": [
    "len(audio)"
   ]
  },
  {
   "cell_type": "code",
   "execution_count": 5,
   "id": "c51f40b2",
   "metadata": {},
   "outputs": [],
   "source": [
    "inputdir = '/home/jacs/Documents/DataScience/Personal/song_similarity/'"
   ]
  },
  {
   "cell_type": "code",
   "execution_count": 6,
   "id": "d6966afd",
   "metadata": {},
   "outputs": [],
   "source": [
    "def obtain_youtube_link(busqueda, maxim_results):\n",
    "    results = YoutubeSearch(busqueda, max_results=maxim_results).to_dict()\n",
    "    linkos_kun = []\n",
    "    for v in results:\n",
    "        linkos_kun.append('https://www.youtube.com' + v['url_suffix'])\n",
    "    return linkos_kun"
   ]
  },
  {
   "cell_type": "code",
   "execution_count": 7,
   "id": "5b2d7599",
   "metadata": {},
   "outputs": [],
   "source": [
    "def download_audio(link):\n",
    "    selected_video = YouTube(link)\n",
    "    title = delete_spaces(selected_video)\n",
    "    audio = selected_video.streams.filter(only_audio=True, file_extension='mp4').first()\n",
    "    audio.download(filename=title+'.wav')\n",
    "    return title"
   ]
  },
  {
   "cell_type": "code",
   "execution_count": 8,
   "id": "70ae725e",
   "metadata": {},
   "outputs": [],
   "source": [
    "def delete_spaces(selected_video):\n",
    "    title2 = selected_video.title\n",
    "    title2 = re.sub(\"(\\s)\",\"_\",\" \".join(re.sub(\"(-)|(&)|(\\[)|(\\])\",\"\",title2).split()))\n",
    "    return title2\n",
    "#re.sub(\"(\\s)|(-)|(&)|(\\[)|(\\])\",\"_\",title, count=0, flags=0)"
   ]
  },
  {
   "cell_type": "code",
   "execution_count": 9,
   "id": "1669fe9b",
   "metadata": {},
   "outputs": [],
   "source": [
    "def remove_audio(title):\n",
    "    os.remove(title+'.wav')"
   ]
  },
  {
   "cell_type": "code",
   "execution_count": 10,
   "id": "31f8a4c2",
   "metadata": {},
   "outputs": [],
   "source": [
    "links = obtain_youtube_link('trumpet solo',10)"
   ]
  },
  {
   "cell_type": "code",
   "execution_count": 11,
   "id": "2a59d6fe",
   "metadata": {},
   "outputs": [
    {
     "data": {
      "text/plain": [
       "['https://www.youtube.com/watch?v=2nPwkb9ZyPQ',\n",
       " 'https://www.youtube.com/watch?v=d70fiI2Mn_A',\n",
       " 'https://www.youtube.com/watch?v=B1eyZAedhY4',\n",
       " 'https://www.youtube.com/watch?v=mufSkxC-s3Q',\n",
       " 'https://www.youtube.com/watch?v=rDw-lY1_1lk',\n",
       " 'https://www.youtube.com/watch?v=ATajmT5BD6M',\n",
       " 'https://www.youtube.com/watch?v=_ByGpqf1ldI',\n",
       " 'https://www.youtube.com/watch?v=h85k-rdiREk',\n",
       " 'https://www.youtube.com/watch?v=E5Hnnf2M_VM',\n",
       " 'https://www.youtube.com/watch?v=4pqG3kpSsM8']"
      ]
     },
     "execution_count": 11,
     "metadata": {},
     "output_type": "execute_result"
    }
   ],
   "source": [
    "links"
   ]
  },
  {
   "cell_type": "code",
   "execution_count": 22,
   "id": "b4da5f8f",
   "metadata": {},
   "outputs": [
    {
     "ename": "KeyboardInterrupt",
     "evalue": "",
     "output_type": "error",
     "traceback": [
      "\u001b[0;31m---------------------------------------------------------------------------\u001b[0m",
      "\u001b[0;31mKeyboardInterrupt\u001b[0m                         Traceback (most recent call last)",
      "Input \u001b[0;32mIn [22]\u001b[0m, in \u001b[0;36m<module>\u001b[0;34m\u001b[0m\n\u001b[1;32m      1\u001b[0m \u001b[38;5;28;01mfor\u001b[39;00m linko \u001b[38;5;129;01min\u001b[39;00m links:\n\u001b[0;32m----> 2\u001b[0m     title \u001b[38;5;241m=\u001b[39m \u001b[43mdownload_audio\u001b[49m\u001b[43m(\u001b[49m\u001b[43mlinko\u001b[49m\u001b[43m)\u001b[49m\n\u001b[1;32m      3\u001b[0m     remove_audio(title)\n",
      "Input \u001b[0;32mIn [18]\u001b[0m, in \u001b[0;36mdownload_audio\u001b[0;34m(link)\u001b[0m\n\u001b[1;32m      3\u001b[0m title \u001b[38;5;241m=\u001b[39m delete_spaces(selected_video)\n\u001b[1;32m      4\u001b[0m audio \u001b[38;5;241m=\u001b[39m selected_video\u001b[38;5;241m.\u001b[39mstreams\u001b[38;5;241m.\u001b[39mfilter(only_audio\u001b[38;5;241m=\u001b[39m\u001b[38;5;28;01mTrue\u001b[39;00m, file_extension\u001b[38;5;241m=\u001b[39m\u001b[38;5;124m'\u001b[39m\u001b[38;5;124mmp4\u001b[39m\u001b[38;5;124m'\u001b[39m)\u001b[38;5;241m.\u001b[39mfirst()\n\u001b[0;32m----> 5\u001b[0m \u001b[43maudio\u001b[49m\u001b[38;5;241;43m.\u001b[39;49m\u001b[43mdownload\u001b[49m\u001b[43m(\u001b[49m\u001b[43mfilename\u001b[49m\u001b[38;5;241;43m=\u001b[39;49m\u001b[43mtitle\u001b[49m\u001b[38;5;241;43m+\u001b[39;49m\u001b[38;5;124;43m'\u001b[39;49m\u001b[38;5;124;43m.wav\u001b[39;49m\u001b[38;5;124;43m'\u001b[39;49m\u001b[43m)\u001b[49m\n\u001b[1;32m      6\u001b[0m \u001b[38;5;28;01mreturn\u001b[39;00m title\n",
      "File \u001b[0;32m~/jorgenv/lib/python3.10/site-packages/pytube/streams.py:314\u001b[0m, in \u001b[0;36mStream.download\u001b[0;34m(self, output_path, filename, filename_prefix, skip_existing, timeout, max_retries)\u001b[0m\n\u001b[1;32m    312\u001b[0m \u001b[38;5;28;01mwith\u001b[39;00m \u001b[38;5;28mopen\u001b[39m(file_path, \u001b[38;5;124m\"\u001b[39m\u001b[38;5;124mwb\u001b[39m\u001b[38;5;124m\"\u001b[39m) \u001b[38;5;28;01mas\u001b[39;00m fh:\n\u001b[1;32m    313\u001b[0m     \u001b[38;5;28;01mtry\u001b[39;00m:\n\u001b[0;32m--> 314\u001b[0m         \u001b[38;5;28;01mfor\u001b[39;00m chunk \u001b[38;5;129;01min\u001b[39;00m request\u001b[38;5;241m.\u001b[39mstream(\n\u001b[1;32m    315\u001b[0m             \u001b[38;5;28mself\u001b[39m\u001b[38;5;241m.\u001b[39murl,\n\u001b[1;32m    316\u001b[0m             timeout\u001b[38;5;241m=\u001b[39mtimeout,\n\u001b[1;32m    317\u001b[0m             max_retries\u001b[38;5;241m=\u001b[39mmax_retries\n\u001b[1;32m    318\u001b[0m         ):\n\u001b[1;32m    319\u001b[0m             \u001b[38;5;66;03m# reduce the (bytes) remainder by the length of the chunk.\u001b[39;00m\n\u001b[1;32m    320\u001b[0m             bytes_remaining \u001b[38;5;241m-\u001b[39m\u001b[38;5;241m=\u001b[39m \u001b[38;5;28mlen\u001b[39m(chunk)\n\u001b[1;32m    321\u001b[0m             \u001b[38;5;66;03m# send to the on_progress callback.\u001b[39;00m\n",
      "File \u001b[0;32m~/jorgenv/lib/python3.10/site-packages/pytube/request.py:185\u001b[0m, in \u001b[0;36mstream\u001b[0;34m(url, timeout, max_retries)\u001b[0m\n\u001b[1;32m    183\u001b[0m         logger\u001b[38;5;241m.\u001b[39merror(e)\n\u001b[1;32m    184\u001b[0m \u001b[38;5;28;01mwhile\u001b[39;00m \u001b[38;5;28;01mTrue\u001b[39;00m:\n\u001b[0;32m--> 185\u001b[0m     chunk \u001b[38;5;241m=\u001b[39m \u001b[43mresponse\u001b[49m\u001b[38;5;241;43m.\u001b[39;49m\u001b[43mread\u001b[49m\u001b[43m(\u001b[49m\u001b[43m)\u001b[49m\n\u001b[1;32m    186\u001b[0m     \u001b[38;5;28;01mif\u001b[39;00m \u001b[38;5;129;01mnot\u001b[39;00m chunk:\n\u001b[1;32m    187\u001b[0m         \u001b[38;5;28;01mbreak\u001b[39;00m\n",
      "File \u001b[0;32m/usr/lib/python3.10/http/client.py:481\u001b[0m, in \u001b[0;36mHTTPResponse.read\u001b[0;34m(self, amt)\u001b[0m\n\u001b[1;32m    479\u001b[0m \u001b[38;5;28;01melse\u001b[39;00m:\n\u001b[1;32m    480\u001b[0m     \u001b[38;5;28;01mtry\u001b[39;00m:\n\u001b[0;32m--> 481\u001b[0m         s \u001b[38;5;241m=\u001b[39m \u001b[38;5;28;43mself\u001b[39;49m\u001b[38;5;241;43m.\u001b[39;49m\u001b[43m_safe_read\u001b[49m\u001b[43m(\u001b[49m\u001b[38;5;28;43mself\u001b[39;49m\u001b[38;5;241;43m.\u001b[39;49m\u001b[43mlength\u001b[49m\u001b[43m)\u001b[49m\n\u001b[1;32m    482\u001b[0m     \u001b[38;5;28;01mexcept\u001b[39;00m IncompleteRead:\n\u001b[1;32m    483\u001b[0m         \u001b[38;5;28mself\u001b[39m\u001b[38;5;241m.\u001b[39m_close_conn()\n",
      "File \u001b[0;32m/usr/lib/python3.10/http/client.py:630\u001b[0m, in \u001b[0;36mHTTPResponse._safe_read\u001b[0;34m(self, amt)\u001b[0m\n\u001b[1;32m    623\u001b[0m \u001b[38;5;28;01mdef\u001b[39;00m \u001b[38;5;21m_safe_read\u001b[39m(\u001b[38;5;28mself\u001b[39m, amt):\n\u001b[1;32m    624\u001b[0m     \u001b[38;5;124;03m\"\"\"Read the number of bytes requested.\u001b[39;00m\n\u001b[1;32m    625\u001b[0m \n\u001b[1;32m    626\u001b[0m \u001b[38;5;124;03m    This function should be used when <amt> bytes \"should\" be present for\u001b[39;00m\n\u001b[1;32m    627\u001b[0m \u001b[38;5;124;03m    reading. If the bytes are truly not available (due to EOF), then the\u001b[39;00m\n\u001b[1;32m    628\u001b[0m \u001b[38;5;124;03m    IncompleteRead exception can be used to detect the problem.\u001b[39;00m\n\u001b[1;32m    629\u001b[0m \u001b[38;5;124;03m    \"\"\"\u001b[39;00m\n\u001b[0;32m--> 630\u001b[0m     data \u001b[38;5;241m=\u001b[39m \u001b[38;5;28;43mself\u001b[39;49m\u001b[38;5;241;43m.\u001b[39;49m\u001b[43mfp\u001b[49m\u001b[38;5;241;43m.\u001b[39;49m\u001b[43mread\u001b[49m\u001b[43m(\u001b[49m\u001b[43mamt\u001b[49m\u001b[43m)\u001b[49m\n\u001b[1;32m    631\u001b[0m     \u001b[38;5;28;01mif\u001b[39;00m \u001b[38;5;28mlen\u001b[39m(data) \u001b[38;5;241m<\u001b[39m amt:\n\u001b[1;32m    632\u001b[0m         \u001b[38;5;28;01mraise\u001b[39;00m IncompleteRead(data, amt\u001b[38;5;241m-\u001b[39m\u001b[38;5;28mlen\u001b[39m(data))\n",
      "File \u001b[0;32m/usr/lib/python3.10/socket.py:705\u001b[0m, in \u001b[0;36mSocketIO.readinto\u001b[0;34m(self, b)\u001b[0m\n\u001b[1;32m    703\u001b[0m \u001b[38;5;28;01mwhile\u001b[39;00m \u001b[38;5;28;01mTrue\u001b[39;00m:\n\u001b[1;32m    704\u001b[0m     \u001b[38;5;28;01mtry\u001b[39;00m:\n\u001b[0;32m--> 705\u001b[0m         \u001b[38;5;28;01mreturn\u001b[39;00m \u001b[38;5;28;43mself\u001b[39;49m\u001b[38;5;241;43m.\u001b[39;49m\u001b[43m_sock\u001b[49m\u001b[38;5;241;43m.\u001b[39;49m\u001b[43mrecv_into\u001b[49m\u001b[43m(\u001b[49m\u001b[43mb\u001b[49m\u001b[43m)\u001b[49m\n\u001b[1;32m    706\u001b[0m     \u001b[38;5;28;01mexcept\u001b[39;00m timeout:\n\u001b[1;32m    707\u001b[0m         \u001b[38;5;28mself\u001b[39m\u001b[38;5;241m.\u001b[39m_timeout_occurred \u001b[38;5;241m=\u001b[39m \u001b[38;5;28;01mTrue\u001b[39;00m\n",
      "File \u001b[0;32m/usr/lib/python3.10/ssl.py:1274\u001b[0m, in \u001b[0;36mSSLSocket.recv_into\u001b[0;34m(self, buffer, nbytes, flags)\u001b[0m\n\u001b[1;32m   1270\u001b[0m     \u001b[38;5;28;01mif\u001b[39;00m flags \u001b[38;5;241m!=\u001b[39m \u001b[38;5;241m0\u001b[39m:\n\u001b[1;32m   1271\u001b[0m         \u001b[38;5;28;01mraise\u001b[39;00m \u001b[38;5;167;01mValueError\u001b[39;00m(\n\u001b[1;32m   1272\u001b[0m           \u001b[38;5;124m\"\u001b[39m\u001b[38;5;124mnon-zero flags not allowed in calls to recv_into() on \u001b[39m\u001b[38;5;132;01m%s\u001b[39;00m\u001b[38;5;124m\"\u001b[39m \u001b[38;5;241m%\u001b[39m\n\u001b[1;32m   1273\u001b[0m           \u001b[38;5;28mself\u001b[39m\u001b[38;5;241m.\u001b[39m\u001b[38;5;18m__class__\u001b[39m)\n\u001b[0;32m-> 1274\u001b[0m     \u001b[38;5;28;01mreturn\u001b[39;00m \u001b[38;5;28;43mself\u001b[39;49m\u001b[38;5;241;43m.\u001b[39;49m\u001b[43mread\u001b[49m\u001b[43m(\u001b[49m\u001b[43mnbytes\u001b[49m\u001b[43m,\u001b[49m\u001b[43m \u001b[49m\u001b[43mbuffer\u001b[49m\u001b[43m)\u001b[49m\n\u001b[1;32m   1275\u001b[0m \u001b[38;5;28;01melse\u001b[39;00m:\n\u001b[1;32m   1276\u001b[0m     \u001b[38;5;28;01mreturn\u001b[39;00m \u001b[38;5;28msuper\u001b[39m()\u001b[38;5;241m.\u001b[39mrecv_into(buffer, nbytes, flags)\n",
      "File \u001b[0;32m/usr/lib/python3.10/ssl.py:1130\u001b[0m, in \u001b[0;36mSSLSocket.read\u001b[0;34m(self, len, buffer)\u001b[0m\n\u001b[1;32m   1128\u001b[0m \u001b[38;5;28;01mtry\u001b[39;00m:\n\u001b[1;32m   1129\u001b[0m     \u001b[38;5;28;01mif\u001b[39;00m buffer \u001b[38;5;129;01mis\u001b[39;00m \u001b[38;5;129;01mnot\u001b[39;00m \u001b[38;5;28;01mNone\u001b[39;00m:\n\u001b[0;32m-> 1130\u001b[0m         \u001b[38;5;28;01mreturn\u001b[39;00m \u001b[38;5;28;43mself\u001b[39;49m\u001b[38;5;241;43m.\u001b[39;49m\u001b[43m_sslobj\u001b[49m\u001b[38;5;241;43m.\u001b[39;49m\u001b[43mread\u001b[49m\u001b[43m(\u001b[49m\u001b[38;5;28;43mlen\u001b[39;49m\u001b[43m,\u001b[49m\u001b[43m \u001b[49m\u001b[43mbuffer\u001b[49m\u001b[43m)\u001b[49m\n\u001b[1;32m   1131\u001b[0m     \u001b[38;5;28;01melse\u001b[39;00m:\n\u001b[1;32m   1132\u001b[0m         \u001b[38;5;28;01mreturn\u001b[39;00m \u001b[38;5;28mself\u001b[39m\u001b[38;5;241m.\u001b[39m_sslobj\u001b[38;5;241m.\u001b[39mread(\u001b[38;5;28mlen\u001b[39m)\n",
      "\u001b[0;31mKeyboardInterrupt\u001b[0m: "
     ]
    }
   ],
   "source": [
    "for linko in links:\n",
    "    title = download_audio(linko)\n",
    "    remove_audio(title)"
   ]
  },
  {
   "cell_type": "code",
   "execution_count": null,
   "id": "861447c6",
   "metadata": {},
   "outputs": [],
   "source": []
  },
  {
   "cell_type": "code",
   "execution_count": null,
   "id": "3167cbac",
   "metadata": {},
   "outputs": [],
   "source": [
    "def from_mp4_to_wav(filename, inputdir):\n",
    "    for filename in os.listdir(inputdir):\n",
    "        actual_filename = filename[:-4]\n",
    "        if(filename.endswith(\".mp4\")):\n",
    "            os.system('ffmpeg -i {} -acodec pcm_s16le -ar 16000 {}.wav'.format(filename, actual_filename))\n",
    "        else:\n",
    "            continue"
   ]
  },
  {
   "cell_type": "code",
   "execution_count": null,
   "id": "6d7fd371",
   "metadata": {},
   "outputs": [],
   "source": []
  }
 ],
 "metadata": {
  "kernelspec": {
   "display_name": "Python(jorgenv)",
   "language": "python",
   "name": "jorgenv"
  },
  "language_info": {
   "codemirror_mode": {
    "name": "ipython",
    "version": 3
   },
   "file_extension": ".py",
   "mimetype": "text/x-python",
   "name": "python",
   "nbconvert_exporter": "python",
   "pygments_lexer": "ipython3",
   "version": "3.10.9"
  }
 },
 "nbformat": 4,
 "nbformat_minor": 5
}
